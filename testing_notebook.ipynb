{
 "cells": [
  {
   "cell_type": "code",
   "execution_count": 1,
   "metadata": {},
   "outputs": [],
   "source": [
    "import pandas as pd\n",
    "from bs4 import BeautifulSoup as bs4\n",
    "import requests\n",
    "import json\n",
    "from telegram.ext import Updater, InlineQueryHandler, CommandHandler\n",
    "import datetime\n",
    "import calendar\n",
    "\n",
    "topics=['astronomy', 'latest+astronomy+news', 'astronomy+events','black+hole', 'space+exploration', 'hubble+space+telescope','space+observatory']"
   ]
  },
  {
   "cell_type": "code",
   "execution_count": 2,
   "metadata": {},
   "outputs": [],
   "source": [
    "def scrape(url):\n",
    "    page  = requests.get(url)\n",
    "    page_text = bs4(page.text,'html.parser')\n",
    "    articles_text = page_text.find_all(class_ = \"ZINbbc xpd O9g5cc uUPGi\")\n",
    "    return articles_text"
   ]
  },
  {
   "cell_type": "code",
   "execution_count": 3,
   "metadata": {},
   "outputs": [],
   "source": [
    "def get_url(i):\n",
    "    i = i.find('a').attrs['href'].replace('/url?q=','')\n",
    "    return i"
   ]
  },
  {
   "cell_type": "code",
   "execution_count": 4,
   "metadata": {},
   "outputs": [],
   "source": [
    "def get_time(i):\n",
    "    posted_time = i.find(class_ = \"r0bn4c rQMQod\").contents[0]\n",
    "    posted_time = posted_time.split(\" \")\n",
    "    if (posted_time[1] == 'hours' or posted_time[1] == 'hour'):\n",
    "        time_since = 0.1 * int(posted_time[0])\n",
    "    elif (posted_time[1] == 'days' or posted_time[1] == 'day'):\n",
    "        time_since = 1 * int(posted_time[0])\n",
    "    else:\n",
    "        time_since = 999\n",
    "    return(time_since)"
   ]
  },
  {
   "cell_type": "code",
   "execution_count": 5,
   "metadata": {},
   "outputs": [],
   "source": [
    "def get_final_article(articles_text):\n",
    "    data = []\n",
    "    for i in articles_text: \n",
    "        data.append([get_url(i),get_time(i),i.find(class_ = \"BNeawe vvjwJb AP7Wnd\").contents[0]])\n",
    "    data = sorted(data, key = lambda x: x[1])\n",
    "    return(data[0][0])"
   ]
  },
  {
   "cell_type": "code",
   "execution_count": 6,
   "metadata": {},
   "outputs": [],
   "source": [
    "def get_article(keyword):\n",
    "    \n",
    "    #day = datetime.datetime.now().strftime(\"%A\")\n",
    "    #time = int(datetime.datetime.now().strftime(\"%H\"))\n",
    "    #if day == 'Sunday' and time == 16:\n",
    "    #    keyword = topics[0]\n",
    "    #elif day == 'Wednesday' and time == 16:\n",
    "    #    keyword = topics[1]\n",
    "    #elif day == 'Friday' and time == 16:\n",
    "    #    keyword = topics[2]\n",
    "        \n",
    "    url = \"https://www.google.com/search?q=\"+keyword+\"&source=lnms&tbm=nws&sa=X&ved=2ahUKEwjZzKWTjv3qAhVFyzgGHeKzCf8Q_AUoAXoECBUQAw&biw=1680&bih=947\"\n",
    "    articles_text = scrape(url)\n",
    "    return(get_final_article(articles_text))"
   ]
  },
  {
   "cell_type": "code",
   "execution_count": null,
   "metadata": {},
   "outputs": [
    {
     "name": "stderr",
     "output_type": "stream",
     "text": [
      "No error handlers are registered, logging exception.\n",
      "Traceback (most recent call last):\n",
      "  File \"/Library/Frameworks/Python.framework/Versions/3.8/lib/python3.8/site-packages/telegram/ext/dispatcher.py\", line 340, in process_update\n",
      "    handler.handle_update(update, self, check, context)\n",
      "  File \"/Library/Frameworks/Python.framework/Versions/3.8/lib/python3.8/site-packages/telegram/ext/handler.py\", line 119, in handle_update\n",
      "    return self.callback(update, context)\n",
      "  File \"<ipython-input-8-bb65083791b2>\", line 6, in weekly_article\n",
      "    update.message.reply_text(get_article(context))\n",
      "  File \"<ipython-input-6-5d4ec0ac5759>\", line 12, in get_article\n",
      "    url = \"https://www.google.com/search?q=\"+keyword+\"&source=lnms&tbm=nws&sa=X&ved=2ahUKEwjZzKWTjv3qAhVFyzgGHeKzCf8Q_AUoAXoECBUQAw&biw=1680&bih=947\"\n",
      "TypeError: can only concatenate str (not \"CallbackContext\") to str\n",
      "No error handlers are registered, logging exception.\n",
      "Traceback (most recent call last):\n",
      "  File \"/Library/Frameworks/Python.framework/Versions/3.8/lib/python3.8/site-packages/telegram/ext/dispatcher.py\", line 340, in process_update\n",
      "    handler.handle_update(update, self, check, context)\n",
      "  File \"/Library/Frameworks/Python.framework/Versions/3.8/lib/python3.8/site-packages/telegram/ext/handler.py\", line 119, in handle_update\n",
      "    return self.callback(update, context)\n",
      "  File \"<ipython-input-8-bb65083791b2>\", line 6, in weekly_article\n",
      "    update.message.reply_text(get_article(context))\n",
      "  File \"<ipython-input-6-5d4ec0ac5759>\", line 12, in get_article\n",
      "    url = \"https://www.google.com/search?q=\"+keyword+\"&source=lnms&tbm=nws&sa=X&ved=2ahUKEwjZzKWTjv3qAhVFyzgGHeKzCf8Q_AUoAXoECBUQAw&biw=1680&bih=947\"\n",
      "TypeError: can only concatenate str (not \"CallbackContext\") to str\n"
     ]
    }
   ],
   "source": [
    "def weekly_article(update, context,args):\n",
    "    #get_article()\n",
    "    chat_id = update.message.chat_id\n",
    "    #update.message.reply_text(get_article())\n",
    "    #bot.send_message(chat_id=chat_id, text=get_article())\n",
    "    update.message.reply_text(get_article(args))\n",
    "\n",
    "def main():\n",
    "    #day = datetime.datetime.now().strftime(\"%A\")\n",
    "    #time = int(datetime.datetime.now().strftime(\"%H\"))\n",
    "    \n",
    "    updater = Updater('1183471904:AAENQORzTAU_mTDXfv8xJU1s3rmK1PuzlpU', use_context=True)\n",
    "    dp = updater.dispatcher\n",
    "    #dp.add_handler(CommandHandler('randomarticle',random_article))\n",
    "    dp.add_handler(CommandHandler('newarticle', weekly_article, pass_args=True))\n",
    "    #dp.add_handler(MessageHandler(~Filters.command & Filters.text, test))\n",
    "    updater.start_polling()\n",
    "    updater.idle()\n",
    "\n",
    "if __name__ == '__main__':\n",
    "    main()"
   ]
  },
  {
   "cell_type": "code",
   "execution_count": 8,
   "metadata": {},
   "outputs": [],
   "source": [
    "from better_profanity import profanity"
   ]
  },
  {
   "cell_type": "code",
   "execution_count": 14,
   "metadata": {},
   "outputs": [
    {
     "name": "stdout",
     "output_type": "stream",
     "text": [
      "sucks\n"
     ]
    }
   ],
   "source": [
    "text=\"fuck\"\n",
    "if(profanity.contains_profanity(text)):\n",
    "    print(\"sucks\")\n",
    "else:\n",
    "    print(\"nice\")"
   ]
  },
  {
   "cell_type": "code",
   "execution_count": null,
   "metadata": {},
   "outputs": [],
   "source": [
    "Hello, these are the following commands I can respond to:\n",
    "\n",
    "/randomarticle - Fetches a random article related to an astronomy subject.\n",
    "\n",
    "/about <keyword> - fetches an article related to the keyword.\n",
    "\n",
    "/help - Provides you with the current list of commands I can respond to."
   ]
  }
 ],
 "metadata": {
  "kernelspec": {
   "display_name": "Python 3",
   "language": "python",
   "name": "python3"
  },
  "language_info": {
   "codemirror_mode": {
    "name": "ipython",
    "version": 3
   },
   "file_extension": ".py",
   "mimetype": "text/x-python",
   "name": "python",
   "nbconvert_exporter": "python",
   "pygments_lexer": "ipython3",
   "version": "3.8.3"
  }
 },
 "nbformat": 4,
 "nbformat_minor": 4
}
