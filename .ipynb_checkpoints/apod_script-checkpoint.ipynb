{
 "cells": [
  {
   "cell_type": "code",
   "execution_count": 1,
   "metadata": {},
   "outputs": [],
   "source": [
    "from bs4 import BeautifulSoup as bs4\n",
    "import requests\n",
    "import time\n",
    "import re\n",
    "from telegram import Bot"
   ]
  },
  {
   "cell_type": "code",
   "execution_count": 2,
   "metadata": {},
   "outputs": [],
   "source": [
    "#while(True):\n",
    "page_url = \"https://apod.nasa.gov/apod/astropix.html\"\n",
    "response = requests.get(page_url)\n",
    "page_text = bs4(response.text, 'html.parser')"
   ]
  },
  {
   "cell_type": "code",
   "execution_count": 7,
   "metadata": {
    "collapsed": true,
    "jupyter": {
     "outputs_hidden": true
    }
   },
   "outputs": [
    {
     "name": "stdout",
     "output_type": "stream",
     "text": [
      "﻿\n",
      "<!DOCTYPE html>\n",
      "<html>\n",
      " <head>\n",
      "  <title>\n",
      "   Astronomy Picture of the Day\n",
      "  </title>\n",
      "  <!-- gsfc meta tags -->\n",
      "  <meta content=\"661\" name=\"orgcode\"/>\n",
      "  <meta content=\"phillip.a.newman\" name=\"rno\"/>\n",
      "  <meta content=\"Jerry.T.Bonnell.1\" name=\"content-owner\"/>\n",
      "  <meta content=\"Stephen.F.Fantasia.1\" name=\"webmaster\"/>\n",
      "  <meta content=\"A different astronomy and space science\n",
      "related image is featured each day, along with a brief explanation.\" name=\"description\"/>\n",
      "  <!-- -->\n",
      "  <meta content=\"width=device-width, initial-scale=1\" name=\"viewport\"/>\n",
      "  <meta content=\"Comet NEOWISE, Vikos Gorge, Big Dipper\" name=\"keywords\"/>\n",
      "  <!-- -->\n",
      "  <script id=\"_fed_an_ua_tag\" src=\"//dap.digitalgov.gov/Universal-Federated-Analytics-Min.js?agency=NASA\">\n",
      "  </script>\n",
      " </head>\n",
      " <body alink=\"#FF0000\" bgcolor=\"#F4F4FF\" link=\"#0000FF\" text=\"#000000\" vlink=\"#7F0F9F\">\n",
      "  <center>\n",
      "   <h1>\n",
      "    Astronomy Picture of the Day\n",
      "   </h1>\n",
      "   <p>\n",
      "    <a href=\"archivepix.html\">\n",
      "     Discover the cosmos!\n",
      "    </a>\n",
      "    Each day a different image or photograph of our fascinating universe is\n",
      "featured, along with a brief explanation written by a professional astronomer.\n",
      "    <p>\n",
      "     2020 August 3\n",
      "     <br/>\n",
      "     <a href=\"image/2008/NeowiseGorge_Emmanouilidi_1161.jpg\">\n",
      "      <img alt=\"See Explanation.  Clicking on the picture will download\n",
      "the highest resolution version available.\" src=\"image/2008/NeowiseGorge_Emmanouilidi_960.jpg\" style=\"max-width:100%\"/>\n",
      "     </a>\n",
      "    </p>\n",
      "   </p>\n",
      "  </center>\n",
      "  <center>\n",
      "   <b>\n",
      "    Comet NEOWISE over Vikos Gorge\n",
      "   </b>\n",
      "   <br/>\n",
      "   <b>\n",
      "    Image Credit &amp; Copyright:\n",
      "   </b>\n",
      "   <a href=\"mailto: costas at greenhouses dot gr\">\n",
      "    Constantine Emmanouilidi\n",
      "   </a>\n",
      "  </center>\n",
      "  <p>\n",
      "   <b>\n",
      "    Explanation:\n",
      "   </b>\n",
      "   Did the Earth part to show us this comet? \n",
      "\n",
      "Of course not, even if this image makes it seem that way.\n",
      "\n",
      "Pictured far in the background is\n",
      "   <a href=\"ap200722.html\">\n",
      "    Comet NEOWISE\n",
      "   </a>\n",
      "   as it appeared about two weeks ago over northern\n",
      "   <a href=\"https://en.wikipedia.org/wiki/Greece\">\n",
      "    Greece\n",
      "   </a>\n",
      "   .\n",
      "\n",
      "Above the comet are many stars including the bright stars of the\n",
      "   <a href=\"https://en.wikipedia.org/wiki/Big_Dipper#Cultural_associations\">\n",
      "    Big Dipper\n",
      "   </a>\n",
      "   (\n",
      "   <a href=\"https://oklahoman.com/article/3035192/various-cultures-offer-legends-regarding-big-dipper\">\n",
      "    also the Sorcerer\n",
      "   </a>\n",
      "   , in\n",
      "   <a href=\"https://en.wikipedia.org/wiki/Aztec_mythology\">\n",
      "    Aztec mythology\n",
      "   </a>\n",
      "   ), \n",
      "an\n",
      "   <a href=\"https://en.wikipedia.org/wiki/Asterism_(astronomy)\">\n",
      "    asterism\n",
      "   </a>\n",
      "   that many people around the world used to find\n",
      "   <a href=\"ap200720.html\">\n",
      "    the naked-eye comet\n",
      "   </a>\n",
      "   as it hovered \n",
      "in the northern sky over the past month. \n",
      "\n",
      "In the foreground is\n",
      "   <a href=\"https://youtu.be/BZb7HFN5-Vg\">\n",
      "    Vikos Gorge\n",
      "   </a>\n",
      "   , the\n",
      "   <a href=\"https://en.wikipedia.org/wiki/Vikos_Gorge\">\n",
      "    deepest gorge\n",
      "   </a>\n",
      "   on Earth, relative to its width.\n",
      "\n",
      "The gorge was slowly created by\n",
      "   <a href=\"https://www.nationalgeographic.org/encyclopedia/erosion/\">\n",
      "    erosion\n",
      "   </a>\n",
      "   from the Voidomatis River over the past few million years. \n",
      "\n",
      "Capturing this image took a lot of planning,\n",
      "   <a href=\"https://static.boredpanda.com/blog/wp-content/uploads/2014/07/cat-waiting-window-69.jpg\">\n",
      "    waiting\n",
      "   </a>\n",
      "   , luck, braving high winds, and avoiding local wolves.\n",
      "   <a href=\"https://en.wikipedia.org/wiki/C/2020_F3_(NEOWISE)\">\n",
      "    Comet C/2020 F3 (NEOWISE)\n",
      "   </a>\n",
      "   continues to\n",
      "   <a href=\"https://cobs.si/analysis2?col=comet_id&amp;id=1875&amp;plot_type=0\">\n",
      "    fade\n",
      "   </a>\n",
      "   and is now best visible through binoculars as it\n",
      "   <a href=\"https://ssd.jpl.nasa.gov/sbdb.cgi?sstr=C%2F2020%20F3;old=0;orb=1;cov=0;log=0;cad=0\">\n",
      "    coasts back\n",
      "   </a>\n",
      "   to the outer\n",
      "   <a href=\"https://solarsystem.nasa.gov/solar-system/our-solar-system/in-depth/\">\n",
      "    Solar System\n",
      "   </a>\n",
      "   .\n",
      "   <p>\n",
      "    <center>\n",
      "     <b>\n",
      "      Notable Comet NEOWISE Images:\n",
      "     </b>\n",
      "     July\n",
      "     <a href=\"https://www.facebook.com/media/set/?set=a.2818635991573935&amp;type=3\">\n",
      "      31\n",
      "     </a>\n",
      "     <a href=\"https://www.facebook.com/media/set/?set=a.2814764565294411&amp;type=3\">\n",
      "      30\n",
      "     </a>\n",
      "     ,\n",
      "     <a href=\"https://www.facebook.com/media/set/?set=a.2811464625624405&amp;type=3\">\n",
      "      29\n",
      "     </a>\n",
      "     ,\n",
      "     <a href=\"https://www.facebook.com/media/set/?set=a.2808659892571545&amp;type=3\">\n",
      "      28\n",
      "     </a>\n",
      "     ,\n",
      "     <a href=\"https://www.facebook.com/media/set/?set=a.2806003322837202&amp;type=3\">\n",
      "      27\n",
      "     </a>\n",
      "     ,\n",
      "     <a href=\"https://www.facebook.com/media/set/?set=a.2803425026428365&amp;type=3\">\n",
      "      26\n",
      "     </a>\n",
      "     ,\n",
      "     <a href=\"https://www.facebook.com/media/set/?set=a.2800436196727248&amp;type=3\">\n",
      "      25\n",
      "     </a>\n",
      "     ,\n",
      "     <a href=\"https://www.facebook.com/media/set/?set=a.2797140183723516&amp;type=3\">\n",
      "      24\n",
      "     </a>\n",
      "     <br/>\n",
      "     <b>\n",
      "      Tomorrow's picture:\n",
      "     </b>\n",
      "     galaxy swirl\n",
      "     <p>\n",
      "      <hr/>\n",
      "      <a href=\"ap200802.html\">\n",
      "       &lt;\n",
      "      </a>\n",
      "      |\n",
      "      <a href=\"archivepix.html\">\n",
      "       Archive\n",
      "      </a>\n",
      "      |\n",
      "      <a href=\"lib/apsubmit2015.html\">\n",
      "       Submissions\n",
      "      </a>\n",
      "      |\n",
      "      <a href=\"lib/aptree.html\">\n",
      "       Index\n",
      "      </a>\n",
      "      |\n",
      "      <a href=\"https://antwrp.gsfc.nasa.gov/cgi-bin/apod/apod_search\">\n",
      "       Search\n",
      "      </a>\n",
      "      |\n",
      "      <a href=\"calendar/allyears.html\">\n",
      "       Calendar\n",
      "      </a>\n",
      "      |\n",
      "      <a href=\"/apod.rss\">\n",
      "       RSS\n",
      "      </a>\n",
      "      |\n",
      "      <a href=\"lib/edlinks.html\">\n",
      "       Education\n",
      "      </a>\n",
      "      |\n",
      "      <a href=\"lib/about_apod.html\">\n",
      "       About APOD\n",
      "      </a>\n",
      "      |\n",
      "      <a href=\"http://asterisk.apod.com/discuss_apod.php?date=200803\">\n",
      "       Discuss\n",
      "      </a>\n",
      "      |\n",
      "      <a href=\"ap200804.html\">\n",
      "       &gt;\n",
      "      </a>\n",
      "      <hr/>\n",
      "      <p>\n",
      "       <b>\n",
      "        Authors &amp; editors:\n",
      "       </b>\n",
      "       <a href=\"http://www.phy.mtu.edu/faculty/Nemiroff.html\">\n",
      "        Robert Nemiroff\n",
      "       </a>\n",
      "       (\n",
      "       <a href=\"http://www.phy.mtu.edu/\">\n",
      "        MTU\n",
      "       </a>\n",
      "       ) &amp;\n",
      "       <a href=\"https://antwrp.gsfc.nasa.gov/htmltest/jbonnell/www/bonnell.html\">\n",
      "        Jerry Bonnell\n",
      "       </a>\n",
      "       (\n",
      "       <a href=\"http://www.astro.umd.edu/\">\n",
      "        UMCP\n",
      "       </a>\n",
      "       )\n",
      "       <br/>\n",
      "       <b>\n",
      "        NASA Official:\n",
      "       </b>\n",
      "       Phillip Newman\n",
      "       <a href=\"lib/about_apod.html#srapply\">\n",
      "        Specific rights apply\n",
      "       </a>\n",
      "       .\n",
      "       <br/>\n",
      "       <a href=\"https://www.nasa.gov/about/highlights/HP_Privacy.html\">\n",
      "        NASA Web\n",
      "Privacy Policy and Important Notices\n",
      "       </a>\n",
      "       <br/>\n",
      "       <b>\n",
      "        A service of:\n",
      "       </b>\n",
      "       <a href=\"https://astrophysics.gsfc.nasa.gov/\">\n",
      "        ASD\n",
      "       </a>\n",
      "       at\n",
      "       <a href=\"https://www.nasa.gov/\">\n",
      "        NASA\n",
      "       </a>\n",
      "       /\n",
      "       <a href=\"https://www.nasa.gov/centers/goddard/\">\n",
      "        GSFC\n",
      "       </a>\n",
      "       <br/>\n",
      "       <b>\n",
      "        &amp;\n",
      "       </b>\n",
      "       <a href=\"http://www.mtu.edu/\">\n",
      "        Michigan Tech. U.\n",
      "       </a>\n",
      "       <br/>\n",
      "      </p>\n",
      "     </p>\n",
      "    </center>\n",
      "   </p>\n",
      "  </p>\n",
      " </body>\n",
      "</html>\n",
      "\n"
     ]
    }
   ],
   "source": [
    "print(page_text.prettify())"
   ]
  },
  {
   "cell_type": "code",
   "execution_count": 3,
   "metadata": {},
   "outputs": [],
   "source": [
    "new_date = page_text.find(\"p\").contents[3].get_text().replace('\\n','')"
   ]
  },
  {
   "cell_type": "code",
   "execution_count": 4,
   "metadata": {},
   "outputs": [
    {
     "data": {
      "text/plain": [
       "'image/2008/JupiterChurning_JunoGill_1080.jpg'"
      ]
     },
     "execution_count": 4,
     "metadata": {},
     "output_type": "execute_result"
    }
   ],
   "source": [
    "page_text.find_all('center')[0].find('img')['src']"
   ]
  },
  {
   "cell_type": "code",
   "execution_count": 5,
   "metadata": {},
   "outputs": [
    {
     "data": {
      "text/plain": [
       "' Churning Clouds on Jupiter   Image Credit & License: NASA/JPL-Caltech/SwRI/MSSS; Processing: Kevin M. Gill'"
      ]
     },
     "execution_count": 5,
     "metadata": {},
     "output_type": "execute_result"
    }
   ],
   "source": [
    "new_title = page_text.find_all('center')[1].get_text().replace(\"\\n\",\"\")\n",
    "new_title"
   ]
  },
  {
   "cell_type": "code",
   "execution_count": 6,
   "metadata": {},
   "outputs": [
    {
     "data": {
      "text/plain": [
       "' Churning Clouds on Jupiter   Image Credit & License: NASA/JPL-Caltech/SwRI/MSSS; Processing: Kevin M. Gill'"
      ]
     },
     "execution_count": 6,
     "metadata": {},
     "output_type": "execute_result"
    }
   ],
   "source": [
    "page_text.find_all('center')[1].get_text().replace(\"\\n\",\"\")"
   ]
  },
  {
   "cell_type": "code",
   "execution_count": 7,
   "metadata": {},
   "outputs": [
    {
     "data": {
      "text/plain": [
       "<center>\n",
       "<b> Peaking Tonight: </b>\n",
       "<a href=\"https://blogs.nasa.gov/Watch_the_Skies/2020/08/06/perseids-peak-watch-best-meteor-shower-of-the-year/\">The Perseid Meteor Shower</a> <br/>\n",
       "<b> Tomorrow's picture: </b>Comet NEOWISE's Pointing Tail\n",
       "\n",
       "<p> <hr/>\n",
       "<a href=\"ap200810.html\">&lt;</a>\n",
       "| <a href=\"archivepix.html\">Archive</a>\n",
       "| <a href=\"lib/apsubmit2015.html\">Submissions</a> \n",
       "| <a href=\"lib/aptree.html\">Index</a>\n",
       "| <a href=\"https://antwrp.gsfc.nasa.gov/cgi-bin/apod/apod_search\">Search</a>\n",
       "| <a href=\"calendar/allyears.html\">Calendar</a>\n",
       "| <a href=\"/apod.rss\">RSS</a>\n",
       "| <a href=\"lib/edlinks.html\">Education</a>\n",
       "| <a href=\"lib/about_apod.html\">About APOD</a>\n",
       "| <a href=\"http://asterisk.apod.com/discuss_apod.php?date=200811\">Discuss</a>\n",
       "| <a href=\"ap200812.html\">&gt;</a>\n",
       "<hr/><p>\n",
       "<b> Authors &amp; editors: </b>\n",
       "<a href=\"http://www.phy.mtu.edu/faculty/Nemiroff.html\">Robert Nemiroff</a>\n",
       "(<a href=\"http://www.phy.mtu.edu/\">MTU</a>) &amp;\n",
       "<a href=\"https://antwrp.gsfc.nasa.gov/htmltest/jbonnell/www/bonnell.html\">Jerry Bonnell</a> (<a href=\"http://www.astro.umd.edu/\">UMCP</a>)<br/>\n",
       "<b>NASA Official: </b> Phillip Newman\n",
       "<a href=\"lib/about_apod.html#srapply\">Specific rights apply</a>.<br/>\n",
       "<a href=\"https://www.nasa.gov/about/highlights/HP_Privacy.html\">NASA Web\n",
       "Privacy Policy and Important Notices</a><br/>\n",
       "<b>A service of:</b>\n",
       "<a href=\"https://astrophysics.gsfc.nasa.gov/\">ASD</a> at\n",
       "<a href=\"https://www.nasa.gov/\">NASA</a> /\n",
       "<a href=\"https://www.nasa.gov/centers/goddard/\">GSFC</a>\n",
       "<br/><b>&amp;</b> <a href=\"http://www.mtu.edu/\">Michigan Tech. U.</a><br/>\n",
       "</p></p></center>"
      ]
     },
     "execution_count": 7,
     "metadata": {},
     "output_type": "execute_result"
    }
   ],
   "source": [
    "page_text.find_all('center')[2]"
   ]
  },
  {
   "cell_type": "code",
   "execution_count": 8,
   "metadata": {},
   "outputs": [
    {
     "data": {
      "text/plain": [
       "[<p>\n",
       " <a href=\"archivepix.html\">Discover the cosmos!</a>\n",
       " Each day a different image or photograph of our fascinating universe is\n",
       " featured, along with a brief explanation written by a professional astronomer.\n",
       " <p>\n",
       " \n",
       " 2020 August 11 \n",
       " <br/>\n",
       " <a href=\"image/2008/JupiterChurning_JunoGill_3279.jpg\">\n",
       " <img alt=\"See Explanation.  Clicking on the picture will download\n",
       " the highest resolution version available.\" src=\"image/2008/JupiterChurning_JunoGill_1080.jpg\" style=\"max-width:100%\"/></a>\n",
       " </p></p>,\n",
       " <p>\n",
       " \n",
       " 2020 August 11 \n",
       " <br/>\n",
       " <a href=\"image/2008/JupiterChurning_JunoGill_3279.jpg\">\n",
       " <img alt=\"See Explanation.  Clicking on the picture will download\n",
       " the highest resolution version available.\" src=\"image/2008/JupiterChurning_JunoGill_1080.jpg\" style=\"max-width:100%\"/></a>\n",
       " </p>,\n",
       " <p>\n",
       " <b> Explanation: </b> \n",
       " Where is Jupiter's ammonia?\n",
       " \n",
       " Gaseous <a href=\"https://en.wikipedia.org/wiki/Ammonia\">ammonia</a> was expected to be seen in \n",
       " <a href=\"https://solarsystem.nasa.gov/planets/jupiter/overview/\">Jupiter</a>'s \n",
       " upper atmosphere by the orbiting \n",
       " <a href=\"https://solarsystem.nasa.gov/missions/juno/overview/\">Juno spacecraft</a> -- but in many clouds is almost absent.\n",
       " \n",
       " Recent Juno data, however, gives some clues: some high-level clouds \n",
       " appear to be home to an unexpected type of electrical discharge dubbed \n",
       " <a href=\"https://www.jpl.nasa.gov/news/news.php?release=2020-153\">shallow lightning</a>.\n",
       " \n",
       " Great charge separations are needed for \n",
       " <a href=\"https://youtu.be/tq_6DClZ0Ns\">lightning</a>, \n",
       " which might be created by colliding mushballs lifted by rising updrafts of gas. \n",
       " \n",
       " Ammonia and water stick to these \n",
       " <a href=\"https://www.jpl.nasa.gov/images/juno/20200805/PIA24042-640.jpg\">mushballs</a> \n",
       " which rise until they get too heavy -- after which they \n",
       " <a href=\"ap171214.html\">fall deep</a> into \n",
       " <a href=\"https://en.wikipedia.org/wiki/Atmosphere_of_Jupiter\">Jupiter's atmosphere</a> \n",
       " and melt. \n",
       " \n",
       " By this process, ammonia found missing from \n",
       " <a hre=\"ap200106.html\">Jupiter's upper atmosphere</a> reappears below. \n",
       " \n",
       " <a href=\"https://photojournal.jpl.nasa.gov/catalog/PIA23803\">Pictured</a> by Juno, churning clouds on Jupiter show not only mesmerizing complexity but some high-level, light-colored <a href=\"https://www.jpl.nasa.gov/spaceimages/details.php?id=PIA24041\">pop-up clouds</a>.\n",
       " \n",
       " <a href=\"https://i.pinimg.com/originals/30/62/75/3062756a297f1e3c22e35f3fe89b3ecc.jpg\">Understanding</a> atmospheric dynamics on Jupiter \n",
       " gives valuable perspective to similar atmospheric and \n",
       " <a href=\"ap190729.html\">lightning</a> phenomena that occur on our home Earth. \n",
       " \n",
       " \n",
       " <p> <center>\n",
       " <b> Peaking Tonight: </b>\n",
       " <a href=\"https://blogs.nasa.gov/Watch_the_Skies/2020/08/06/perseids-peak-watch-best-meteor-shower-of-the-year/\">The Perseid Meteor Shower</a> <br/>\n",
       " <b> Tomorrow's picture: </b>Comet NEOWISE's Pointing Tail\n",
       " \n",
       " <p> <hr/>\n",
       " <a href=\"ap200810.html\">&lt;</a>\n",
       " | <a href=\"archivepix.html\">Archive</a>\n",
       " | <a href=\"lib/apsubmit2015.html\">Submissions</a> \n",
       " | <a href=\"lib/aptree.html\">Index</a>\n",
       " | <a href=\"https://antwrp.gsfc.nasa.gov/cgi-bin/apod/apod_search\">Search</a>\n",
       " | <a href=\"calendar/allyears.html\">Calendar</a>\n",
       " | <a href=\"/apod.rss\">RSS</a>\n",
       " | <a href=\"lib/edlinks.html\">Education</a>\n",
       " | <a href=\"lib/about_apod.html\">About APOD</a>\n",
       " | <a href=\"http://asterisk.apod.com/discuss_apod.php?date=200811\">Discuss</a>\n",
       " | <a href=\"ap200812.html\">&gt;</a>\n",
       " <hr/><p>\n",
       " <b> Authors &amp; editors: </b>\n",
       " <a href=\"http://www.phy.mtu.edu/faculty/Nemiroff.html\">Robert Nemiroff</a>\n",
       " (<a href=\"http://www.phy.mtu.edu/\">MTU</a>) &amp;\n",
       " <a href=\"https://antwrp.gsfc.nasa.gov/htmltest/jbonnell/www/bonnell.html\">Jerry Bonnell</a> (<a href=\"http://www.astro.umd.edu/\">UMCP</a>)<br/>\n",
       " <b>NASA Official: </b> Phillip Newman\n",
       " <a href=\"lib/about_apod.html#srapply\">Specific rights apply</a>.<br/>\n",
       " <a href=\"https://www.nasa.gov/about/highlights/HP_Privacy.html\">NASA Web\n",
       " Privacy Policy and Important Notices</a><br/>\n",
       " <b>A service of:</b>\n",
       " <a href=\"https://astrophysics.gsfc.nasa.gov/\">ASD</a> at\n",
       " <a href=\"https://www.nasa.gov/\">NASA</a> /\n",
       " <a href=\"https://www.nasa.gov/centers/goddard/\">GSFC</a>\n",
       " <br/><b>&amp;</b> <a href=\"http://www.mtu.edu/\">Michigan Tech. U.</a><br/>\n",
       " </p></p></center>\n",
       " </p></p>,\n",
       " <p> <center>\n",
       " <b> Peaking Tonight: </b>\n",
       " <a href=\"https://blogs.nasa.gov/Watch_the_Skies/2020/08/06/perseids-peak-watch-best-meteor-shower-of-the-year/\">The Perseid Meteor Shower</a> <br/>\n",
       " <b> Tomorrow's picture: </b>Comet NEOWISE's Pointing Tail\n",
       " \n",
       " <p> <hr/>\n",
       " <a href=\"ap200810.html\">&lt;</a>\n",
       " | <a href=\"archivepix.html\">Archive</a>\n",
       " | <a href=\"lib/apsubmit2015.html\">Submissions</a> \n",
       " | <a href=\"lib/aptree.html\">Index</a>\n",
       " | <a href=\"https://antwrp.gsfc.nasa.gov/cgi-bin/apod/apod_search\">Search</a>\n",
       " | <a href=\"calendar/allyears.html\">Calendar</a>\n",
       " | <a href=\"/apod.rss\">RSS</a>\n",
       " | <a href=\"lib/edlinks.html\">Education</a>\n",
       " | <a href=\"lib/about_apod.html\">About APOD</a>\n",
       " | <a href=\"http://asterisk.apod.com/discuss_apod.php?date=200811\">Discuss</a>\n",
       " | <a href=\"ap200812.html\">&gt;</a>\n",
       " <hr/><p>\n",
       " <b> Authors &amp; editors: </b>\n",
       " <a href=\"http://www.phy.mtu.edu/faculty/Nemiroff.html\">Robert Nemiroff</a>\n",
       " (<a href=\"http://www.phy.mtu.edu/\">MTU</a>) &amp;\n",
       " <a href=\"https://antwrp.gsfc.nasa.gov/htmltest/jbonnell/www/bonnell.html\">Jerry Bonnell</a> (<a href=\"http://www.astro.umd.edu/\">UMCP</a>)<br/>\n",
       " <b>NASA Official: </b> Phillip Newman\n",
       " <a href=\"lib/about_apod.html#srapply\">Specific rights apply</a>.<br/>\n",
       " <a href=\"https://www.nasa.gov/about/highlights/HP_Privacy.html\">NASA Web\n",
       " Privacy Policy and Important Notices</a><br/>\n",
       " <b>A service of:</b>\n",
       " <a href=\"https://astrophysics.gsfc.nasa.gov/\">ASD</a> at\n",
       " <a href=\"https://www.nasa.gov/\">NASA</a> /\n",
       " <a href=\"https://www.nasa.gov/centers/goddard/\">GSFC</a>\n",
       " <br/><b>&amp;</b> <a href=\"http://www.mtu.edu/\">Michigan Tech. U.</a><br/>\n",
       " </p></p></center>\n",
       " </p>,\n",
       " <p> <hr/>\n",
       " <a href=\"ap200810.html\">&lt;</a>\n",
       " | <a href=\"archivepix.html\">Archive</a>\n",
       " | <a href=\"lib/apsubmit2015.html\">Submissions</a> \n",
       " | <a href=\"lib/aptree.html\">Index</a>\n",
       " | <a href=\"https://antwrp.gsfc.nasa.gov/cgi-bin/apod/apod_search\">Search</a>\n",
       " | <a href=\"calendar/allyears.html\">Calendar</a>\n",
       " | <a href=\"/apod.rss\">RSS</a>\n",
       " | <a href=\"lib/edlinks.html\">Education</a>\n",
       " | <a href=\"lib/about_apod.html\">About APOD</a>\n",
       " | <a href=\"http://asterisk.apod.com/discuss_apod.php?date=200811\">Discuss</a>\n",
       " | <a href=\"ap200812.html\">&gt;</a>\n",
       " <hr/><p>\n",
       " <b> Authors &amp; editors: </b>\n",
       " <a href=\"http://www.phy.mtu.edu/faculty/Nemiroff.html\">Robert Nemiroff</a>\n",
       " (<a href=\"http://www.phy.mtu.edu/\">MTU</a>) &amp;\n",
       " <a href=\"https://antwrp.gsfc.nasa.gov/htmltest/jbonnell/www/bonnell.html\">Jerry Bonnell</a> (<a href=\"http://www.astro.umd.edu/\">UMCP</a>)<br/>\n",
       " <b>NASA Official: </b> Phillip Newman\n",
       " <a href=\"lib/about_apod.html#srapply\">Specific rights apply</a>.<br/>\n",
       " <a href=\"https://www.nasa.gov/about/highlights/HP_Privacy.html\">NASA Web\n",
       " Privacy Policy and Important Notices</a><br/>\n",
       " <b>A service of:</b>\n",
       " <a href=\"https://astrophysics.gsfc.nasa.gov/\">ASD</a> at\n",
       " <a href=\"https://www.nasa.gov/\">NASA</a> /\n",
       " <a href=\"https://www.nasa.gov/centers/goddard/\">GSFC</a>\n",
       " <br/><b>&amp;</b> <a href=\"http://www.mtu.edu/\">Michigan Tech. U.</a><br/>\n",
       " </p></p>,\n",
       " <p>\n",
       " <b> Authors &amp; editors: </b>\n",
       " <a href=\"http://www.phy.mtu.edu/faculty/Nemiroff.html\">Robert Nemiroff</a>\n",
       " (<a href=\"http://www.phy.mtu.edu/\">MTU</a>) &amp;\n",
       " <a href=\"https://antwrp.gsfc.nasa.gov/htmltest/jbonnell/www/bonnell.html\">Jerry Bonnell</a> (<a href=\"http://www.astro.umd.edu/\">UMCP</a>)<br/>\n",
       " <b>NASA Official: </b> Phillip Newman\n",
       " <a href=\"lib/about_apod.html#srapply\">Specific rights apply</a>.<br/>\n",
       " <a href=\"https://www.nasa.gov/about/highlights/HP_Privacy.html\">NASA Web\n",
       " Privacy Policy and Important Notices</a><br/>\n",
       " <b>A service of:</b>\n",
       " <a href=\"https://astrophysics.gsfc.nasa.gov/\">ASD</a> at\n",
       " <a href=\"https://www.nasa.gov/\">NASA</a> /\n",
       " <a href=\"https://www.nasa.gov/centers/goddard/\">GSFC</a>\n",
       " <br/><b>&amp;</b> <a href=\"http://www.mtu.edu/\">Michigan Tech. U.</a><br/>\n",
       " </p>]"
      ]
     },
     "execution_count": 8,
     "metadata": {},
     "output_type": "execute_result"
    }
   ],
   "source": [
    "page_text.find_all('p')"
   ]
  },
  {
   "cell_type": "code",
   "execution_count": 9,
   "metadata": {},
   "outputs": [
    {
     "data": {
      "text/plain": [
       "'\\n<b> Explanation: </b> \\nWhere is Jupiter\\'s ammonia?\\n\\nGaseous <a href=\"https://en.wikipedia.org/wiki/Ammonia\">ammonia</a> was expected to be seen in \\n<a href=\"https://solarsystem.nasa.gov/planets/jupiter/overview/\">Jupiter</a>\\'s \\nupper atmosphere by the orbiting \\n<a href=\"https://solarsystem.nasa.gov/missions/juno/overview/\">Juno spacecraft</a> -- but in many clouds is almost absent.\\n\\nRecent Juno data, however, gives some clues: some high-level clouds \\nappear to be home to an unexpected type of electrical discharge dubbed \\n<a href=\"https://www.jpl.nasa.gov/news/news.php?release=2020-153\">shallow lightning</a>.\\n\\nGreat charge separations are needed for \\n<a href=\"https://youtu.be/tq_6DClZ0Ns\">lightning</a>, \\nwhich might be created by colliding mushballs lifted by rising updrafts of gas. \\n\\nAmmonia and water stick to these \\n<a href=\"https://www.jpl.nasa.gov/images/juno/20200805/PIA24042-640.jpg\">mushballs</a> \\nwhich rise until they get too heavy -- after which they \\n<a href=\"ap171214.html\">fall deep</a> into \\n<a href=\"https://en.wikipedia.org/wiki/Atmosphere_of_Jupiter\">Jupiter\\'s atmosphere</a> \\nand melt. \\n\\nBy this process, ammonia found missing from \\n<a hre=\"ap200106.html\">Jupiter\\'s upper atmosphere</a> reappears below. \\n\\n<a href=\"https://photojournal.jpl.nasa.gov/catalog/PIA23803\">Pictured</a> by Juno, churning clouds on Jupiter show not only mesmerizing complexity but some high-level, light-colored <a href=\"https://www.jpl.nasa.gov/spaceimages/details.php?id=PIA24041\">pop-up clouds</a>.\\n\\n<a href=\"https://i.pinimg.com/originals/30/62/75/3062756a297f1e3c22e35f3fe89b3ecc.jpg\">Understanding</a> atmospheric dynamics on Jupiter \\ngives valuable perspective to similar atmospheric and \\n<a href=\"ap190729.html\">lightning</a> phenomena that occur on our home Earth. \\n\\n\\n'"
      ]
     },
     "execution_count": 9,
     "metadata": {},
     "output_type": "execute_result"
    }
   ],
   "source": [
    "explanation = re.split('<p>',str(page_text.find_all('p')[2]))[1]\n",
    "explanation"
   ]
  },
  {
   "cell_type": "code",
   "execution_count": 10,
   "metadata": {},
   "outputs": [
    {
     "data": {
      "text/plain": [
       "\" Where is Jupiter's ammonia?Gaseous ammonia was expected to be seen in Jupiter's upper atmosphere by the orbiting Juno spacecraft -- but in many clouds is almost absent.Recent Juno data, however, gives some clues: some high-level clouds appear to be home to an unexpected type of electrical discharge dubbed shallow lightning.Great charge separations are needed for lightning, which might be created by colliding mushballs lifted by rising updrafts of gas. Ammonia and water stick to these mushballs which rise until they get too heavy -- after which they fall deep into Jupiter's atmosphere and melt. By this process, ammonia found missing from Jupiter's upper atmosphere reappears below. Pictured by Juno, churning clouds on Jupiter show not only mesmerizing complexity but some high-level, light-colored pop-up clouds.Understanding atmospheric dynamics on Jupiter gives valuable perspective to similar atmospheric and lightning phenomena that occur on our home Earth.   Peaking Tonight: The Perseid Meteor Shower  \""
      ]
     },
     "execution_count": 10,
     "metadata": {},
     "output_type": "execute_result"
    }
   ],
   "source": [
    "explanation = page_text.find_all('p')[2].get_text().replace(\"\\n\",\"\").split(\"Tomorrow\")[0].split(\"Explanation: \")[1]\n",
    "explanation"
   ]
  },
  {
   "cell_type": "code",
   "execution_count": 11,
   "metadata": {},
   "outputs": [
    {
     "data": {
      "text/plain": [
       "' Churning Clouds on Jupiter'"
      ]
     },
     "execution_count": 11,
     "metadata": {},
     "output_type": "execute_result"
    }
   ],
   "source": [
    "new_title = re.sub(\"  +\",\"\",page_text.find_all('center')[1].get_text().replace(\"\\n\",\"\").split(\"Im\")[0])\n",
    "new_title"
   ]
  },
  {
   "cell_type": "code",
   "execution_count": 14,
   "metadata": {},
   "outputs": [
    {
     "name": "stdout",
     "output_type": "stream",
     "text": [
      "https://apod.nasa.gov/apod/image/2008/JupiterChurning_JunoGill_1080.jpg\n"
     ]
    }
   ],
   "source": [
    "if(page_text.find('img')):\n",
    "    url = \"https://apod.nasa.gov/apod/\"+page_text.find_all('center')[0].find('img')['src']\n",
    "elif(page_text.find('iframe')):\n",
    "    url = page_text.find_all('center')[0].find('iframe')['src']\n",
    "    \n",
    "print(url)"
   ]
  },
  {
   "cell_type": "code",
   "execution_count": 13,
   "metadata": {},
   "outputs": [],
   "source": [
    "url= \"https://www.petguide.com/wp-content/uploads/2018/07/funniest-dog-breeds-pug.jpg\""
   ]
  },
  {
   "cell_type": "code",
   "execution_count": 15,
   "metadata": {},
   "outputs": [
    {
     "data": {
      "text/plain": [
       "' Churning Clouds on Jupiter'"
      ]
     },
     "execution_count": 15,
     "metadata": {},
     "output_type": "execute_result"
    }
   ],
   "source": [
    "new_title"
   ]
  },
  {
   "cell_type": "code",
   "execution_count": 16,
   "metadata": {},
   "outputs": [],
   "source": [
    "bot = Bot(\"1163369796:AAE1BI447fKiuDQ9RUTCUZKcS7-Ek96zlYI\")"
   ]
  },
  {
   "cell_type": "code",
   "execution_count": 60,
   "metadata": {},
   "outputs": [
    {
     "data": {
      "text/plain": [
       "<telegram.message.Message at 0x7f99634a8640>"
      ]
     },
     "execution_count": 60,
     "metadata": {},
     "output_type": "execute_result"
    }
   ],
   "source": [
    "message = (\"<a href=\\\"\"+url+\"\\\">\" +\"<b>Astronomy Picture of the Day:\"+new_title+\"</b></a>\\n\\n\" +\"\\n\" +explanation+\"\\n<i>Date: \"+new_date+\"</i>\\n\")\n",
    "bot.sendMessage(chat_id=\"-1001331038106\", text=message, parse_mode='HTML')"
   ]
  },
  {
   "cell_type": "code",
   "execution_count": 18,
   "metadata": {},
   "outputs": [
    {
     "ename": "BadRequest",
     "evalue": "Media_caption_too_long",
     "output_type": "error",
     "traceback": [
      "\u001b[0;31m---------------------------------------------------------------------------\u001b[0m",
      "\u001b[0;31mBadRequest\u001b[0m                                Traceback (most recent call last)",
      "\u001b[0;32m<ipython-input-18-999f83e675b5>\u001b[0m in \u001b[0;36m<module>\u001b[0;34m\u001b[0m\n\u001b[0;32m----> 1\u001b[0;31m \u001b[0mbot\u001b[0m\u001b[0;34m.\u001b[0m\u001b[0msendPhoto\u001b[0m\u001b[0;34m(\u001b[0m\u001b[0mchat_id\u001b[0m\u001b[0;34m=\u001b[0m\u001b[0;34m\"-1001284948052\"\u001b[0m\u001b[0;34m,\u001b[0m \u001b[0mphoto\u001b[0m\u001b[0;34m=\u001b[0m\u001b[0murl\u001b[0m\u001b[0;34m,\u001b[0m \u001b[0mcaption\u001b[0m \u001b[0;34m=\u001b[0m \u001b[0mstr\u001b[0m\u001b[0;34m(\u001b[0m\u001b[0;34m\"APOD: \"\u001b[0m\u001b[0;34m+\u001b[0m\u001b[0mnew_title\u001b[0m\u001b[0;34m+\u001b[0m\u001b[0;34m\"\\n\\n\"\u001b[0m\u001b[0;34m+\u001b[0m\u001b[0mexplanation\u001b[0m\u001b[0;34m+\u001b[0m\u001b[0;34m\"\\nDate: \"\u001b[0m \u001b[0;34m+\u001b[0m \u001b[0mnew_date\u001b[0m\u001b[0;34m)\u001b[0m\u001b[0;34m)\u001b[0m\u001b[0;34m\u001b[0m\u001b[0;34m\u001b[0m\u001b[0m\n\u001b[0m",
      "\u001b[0;32m<decorator-gen-130>\u001b[0m in \u001b[0;36msend_photo\u001b[0;34m(self, chat_id, photo, caption, disable_notification, reply_to_message_id, reply_markup, timeout, parse_mode, **kwargs)\u001b[0m\n",
      "\u001b[0;32m/Library/Frameworks/Python.framework/Versions/3.8/lib/python3.8/site-packages/telegram/bot.py\u001b[0m in \u001b[0;36mdecorator\u001b[0;34m(self, *args, **kwargs)\u001b[0m\n\u001b[1;32m     65\u001b[0m     \u001b[0;32mdef\u001b[0m \u001b[0mdecorator\u001b[0m\u001b[0;34m(\u001b[0m\u001b[0mself\u001b[0m\u001b[0;34m,\u001b[0m \u001b[0;34m*\u001b[0m\u001b[0margs\u001b[0m\u001b[0;34m,\u001b[0m \u001b[0;34m**\u001b[0m\u001b[0mkwargs\u001b[0m\u001b[0;34m)\u001b[0m\u001b[0;34m:\u001b[0m\u001b[0;34m\u001b[0m\u001b[0;34m\u001b[0m\u001b[0m\n\u001b[1;32m     66\u001b[0m         \u001b[0mlogger\u001b[0m\u001b[0;34m.\u001b[0m\u001b[0mdebug\u001b[0m\u001b[0;34m(\u001b[0m\u001b[0;34m'Entering: %s'\u001b[0m\u001b[0;34m,\u001b[0m \u001b[0mfunc\u001b[0m\u001b[0;34m.\u001b[0m\u001b[0m__name__\u001b[0m\u001b[0;34m)\u001b[0m\u001b[0;34m\u001b[0m\u001b[0;34m\u001b[0m\u001b[0m\n\u001b[0;32m---> 67\u001b[0;31m         \u001b[0mresult\u001b[0m \u001b[0;34m=\u001b[0m \u001b[0mfunc\u001b[0m\u001b[0;34m(\u001b[0m\u001b[0;34m*\u001b[0m\u001b[0margs\u001b[0m\u001b[0;34m,\u001b[0m \u001b[0;34m**\u001b[0m\u001b[0mkwargs\u001b[0m\u001b[0;34m)\u001b[0m\u001b[0;34m\u001b[0m\u001b[0;34m\u001b[0m\u001b[0m\n\u001b[0m\u001b[1;32m     68\u001b[0m         \u001b[0mlogger\u001b[0m\u001b[0;34m.\u001b[0m\u001b[0mdebug\u001b[0m\u001b[0;34m(\u001b[0m\u001b[0mresult\u001b[0m\u001b[0;34m)\u001b[0m\u001b[0;34m\u001b[0m\u001b[0;34m\u001b[0m\u001b[0m\n\u001b[1;32m     69\u001b[0m         \u001b[0mlogger\u001b[0m\u001b[0;34m.\u001b[0m\u001b[0mdebug\u001b[0m\u001b[0;34m(\u001b[0m\u001b[0;34m'Exiting: %s'\u001b[0m\u001b[0;34m,\u001b[0m \u001b[0mfunc\u001b[0m\u001b[0;34m.\u001b[0m\u001b[0m__name__\u001b[0m\u001b[0;34m)\u001b[0m\u001b[0;34m\u001b[0m\u001b[0;34m\u001b[0m\u001b[0m\n",
      "\u001b[0;32m/Library/Frameworks/Python.framework/Versions/3.8/lib/python3.8/site-packages/telegram/bot.py\u001b[0m in \u001b[0;36msend_photo\u001b[0;34m(self, chat_id, photo, caption, disable_notification, reply_to_message_id, reply_markup, timeout, parse_mode, **kwargs)\u001b[0m\n\u001b[1;32m    493\u001b[0m             \u001b[0mdata\u001b[0m\u001b[0;34m[\u001b[0m\u001b[0;34m'parse_mode'\u001b[0m\u001b[0;34m]\u001b[0m \u001b[0;34m=\u001b[0m \u001b[0mparse_mode\u001b[0m\u001b[0;34m\u001b[0m\u001b[0;34m\u001b[0m\u001b[0m\n\u001b[1;32m    494\u001b[0m \u001b[0;34m\u001b[0m\u001b[0m\n\u001b[0;32m--> 495\u001b[0;31m         return self._message(url, data, timeout=timeout, disable_notification=disable_notification,\n\u001b[0m\u001b[1;32m    496\u001b[0m                              \u001b[0mreply_to_message_id\u001b[0m\u001b[0;34m=\u001b[0m\u001b[0mreply_to_message_id\u001b[0m\u001b[0;34m,\u001b[0m \u001b[0mreply_markup\u001b[0m\u001b[0;34m=\u001b[0m\u001b[0mreply_markup\u001b[0m\u001b[0;34m,\u001b[0m\u001b[0;34m\u001b[0m\u001b[0;34m\u001b[0m\u001b[0m\n\u001b[1;32m    497\u001b[0m                              **kwargs)\n",
      "\u001b[0;32m/Library/Frameworks/Python.framework/Versions/3.8/lib/python3.8/site-packages/telegram/bot.py\u001b[0m in \u001b[0;36m_message\u001b[0;34m(self, url, data, reply_to_message_id, disable_notification, reply_markup, timeout, **kwargs)\u001b[0m\n\u001b[1;32m    173\u001b[0m                 \u001b[0mdata\u001b[0m\u001b[0;34m[\u001b[0m\u001b[0;34m'media'\u001b[0m\u001b[0;34m]\u001b[0m\u001b[0;34m.\u001b[0m\u001b[0mparse_mode\u001b[0m \u001b[0;34m=\u001b[0m \u001b[0;32mNone\u001b[0m\u001b[0;34m\u001b[0m\u001b[0;34m\u001b[0m\u001b[0m\n\u001b[1;32m    174\u001b[0m \u001b[0;34m\u001b[0m\u001b[0m\n\u001b[0;32m--> 175\u001b[0;31m         \u001b[0mresult\u001b[0m \u001b[0;34m=\u001b[0m \u001b[0mself\u001b[0m\u001b[0;34m.\u001b[0m\u001b[0m_request\u001b[0m\u001b[0;34m.\u001b[0m\u001b[0mpost\u001b[0m\u001b[0;34m(\u001b[0m\u001b[0murl\u001b[0m\u001b[0;34m,\u001b[0m \u001b[0mdata\u001b[0m\u001b[0;34m,\u001b[0m \u001b[0mtimeout\u001b[0m\u001b[0;34m=\u001b[0m\u001b[0mtimeout\u001b[0m\u001b[0;34m)\u001b[0m\u001b[0;34m\u001b[0m\u001b[0;34m\u001b[0m\u001b[0m\n\u001b[0m\u001b[1;32m    176\u001b[0m \u001b[0;34m\u001b[0m\u001b[0m\n\u001b[1;32m    177\u001b[0m         \u001b[0;32mif\u001b[0m \u001b[0mresult\u001b[0m \u001b[0;32mis\u001b[0m \u001b[0;32mTrue\u001b[0m\u001b[0;34m:\u001b[0m\u001b[0;34m\u001b[0m\u001b[0;34m\u001b[0m\u001b[0m\n",
      "\u001b[0;32m/Library/Frameworks/Python.framework/Versions/3.8/lib/python3.8/site-packages/telegram/utils/request.py\u001b[0m in \u001b[0;36mpost\u001b[0;34m(self, url, data, timeout)\u001b[0m\n\u001b[1;32m    328\u001b[0m             \u001b[0mresult\u001b[0m \u001b[0;34m=\u001b[0m \u001b[0mself\u001b[0m\u001b[0;34m.\u001b[0m\u001b[0m_request_wrapper\u001b[0m\u001b[0;34m(\u001b[0m\u001b[0;34m'POST'\u001b[0m\u001b[0;34m,\u001b[0m \u001b[0murl\u001b[0m\u001b[0;34m,\u001b[0m \u001b[0mfields\u001b[0m\u001b[0;34m=\u001b[0m\u001b[0mdata\u001b[0m\u001b[0;34m,\u001b[0m \u001b[0;34m**\u001b[0m\u001b[0murlopen_kwargs\u001b[0m\u001b[0;34m)\u001b[0m\u001b[0;34m\u001b[0m\u001b[0;34m\u001b[0m\u001b[0m\n\u001b[1;32m    329\u001b[0m         \u001b[0;32melse\u001b[0m\u001b[0;34m:\u001b[0m\u001b[0;34m\u001b[0m\u001b[0;34m\u001b[0m\u001b[0m\n\u001b[0;32m--> 330\u001b[0;31m             result = self._request_wrapper('POST', url,\n\u001b[0m\u001b[1;32m    331\u001b[0m                                            \u001b[0mbody\u001b[0m\u001b[0;34m=\u001b[0m\u001b[0mjson\u001b[0m\u001b[0;34m.\u001b[0m\u001b[0mdumps\u001b[0m\u001b[0;34m(\u001b[0m\u001b[0mdata\u001b[0m\u001b[0;34m)\u001b[0m\u001b[0;34m.\u001b[0m\u001b[0mencode\u001b[0m\u001b[0;34m(\u001b[0m\u001b[0;34m'utf-8'\u001b[0m\u001b[0;34m)\u001b[0m\u001b[0;34m,\u001b[0m\u001b[0;34m\u001b[0m\u001b[0;34m\u001b[0m\u001b[0m\n\u001b[1;32m    332\u001b[0m                                            \u001b[0mheaders\u001b[0m\u001b[0;34m=\u001b[0m\u001b[0;34m{\u001b[0m\u001b[0;34m'Content-Type'\u001b[0m\u001b[0;34m:\u001b[0m \u001b[0;34m'application/json'\u001b[0m\u001b[0;34m}\u001b[0m\u001b[0;34m,\u001b[0m\u001b[0;34m\u001b[0m\u001b[0;34m\u001b[0m\u001b[0m\n",
      "\u001b[0;32m/Library/Frameworks/Python.framework/Versions/3.8/lib/python3.8/site-packages/telegram/utils/request.py\u001b[0m in \u001b[0;36m_request_wrapper\u001b[0;34m(self, *args, **kwargs)\u001b[0m\n\u001b[1;32m    242\u001b[0m             \u001b[0;32mraise\u001b[0m \u001b[0mUnauthorized\u001b[0m\u001b[0;34m(\u001b[0m\u001b[0mmessage\u001b[0m\u001b[0;34m)\u001b[0m\u001b[0;34m\u001b[0m\u001b[0;34m\u001b[0m\u001b[0m\n\u001b[1;32m    243\u001b[0m         \u001b[0;32melif\u001b[0m \u001b[0mresp\u001b[0m\u001b[0;34m.\u001b[0m\u001b[0mstatus\u001b[0m \u001b[0;34m==\u001b[0m \u001b[0;36m400\u001b[0m\u001b[0;34m:\u001b[0m\u001b[0;34m\u001b[0m\u001b[0;34m\u001b[0m\u001b[0m\n\u001b[0;32m--> 244\u001b[0;31m             \u001b[0;32mraise\u001b[0m \u001b[0mBadRequest\u001b[0m\u001b[0;34m(\u001b[0m\u001b[0mmessage\u001b[0m\u001b[0;34m)\u001b[0m\u001b[0;34m\u001b[0m\u001b[0;34m\u001b[0m\u001b[0m\n\u001b[0m\u001b[1;32m    245\u001b[0m         \u001b[0;32melif\u001b[0m \u001b[0mresp\u001b[0m\u001b[0;34m.\u001b[0m\u001b[0mstatus\u001b[0m \u001b[0;34m==\u001b[0m \u001b[0;36m404\u001b[0m\u001b[0;34m:\u001b[0m\u001b[0;34m\u001b[0m\u001b[0;34m\u001b[0m\u001b[0m\n\u001b[1;32m    246\u001b[0m             \u001b[0;32mraise\u001b[0m \u001b[0mInvalidToken\u001b[0m\u001b[0;34m(\u001b[0m\u001b[0;34m)\u001b[0m\u001b[0;34m\u001b[0m\u001b[0;34m\u001b[0m\u001b[0m\n",
      "\u001b[0;31mBadRequest\u001b[0m: Media_caption_too_long"
     ]
    }
   ],
   "source": [
    "bot.sendPhoto(chat_id=\"-1001284948052\", photo=url, caption = str(\"APOD: \"+new_title+\"\\n\\n\"+explanation+\"\\nDate: \" + new_date))"
   ]
  },
  {
   "cell_type": "code",
   "execution_count": 15,
   "metadata": {},
   "outputs": [
    {
     "data": {
      "text/plain": [
       "<telegram.message.Message at 0x7f9516b16940>"
      ]
     },
     "execution_count": 15,
     "metadata": {},
     "output_type": "execute_result"
    }
   ],
   "source": [
    "bot.sendMessage(chat_id=\"-1001331038106\", text=(\"<img src=\\\"\"+url+\"\\\">photo</a>\"), parse_mode='HTML')"
   ]
  },
  {
   "cell_type": "code",
   "execution_count": null,
   "metadata": {},
   "outputs": [],
   "source": [
    "text=(\"<img src=\\\"\"+url+\"\\\")"
   ]
  },
  {
   "cell_type": "code",
   "execution_count": 77,
   "metadata": {},
   "outputs": [],
   "source": [
    "resp = requests.get(url)"
   ]
  },
  {
   "cell_type": "code",
   "execution_count": 55,
   "metadata": {},
   "outputs": [],
   "source": [
    "import hashlib"
   ]
  },
  {
   "cell_type": "code",
   "execution_count": 78,
   "metadata": {},
   "outputs": [],
   "source": [
    "hashed2 = hashlib.md5(resp.text.encode('utf-8')).hexdigest()"
   ]
  },
  {
   "cell_type": "code",
   "execution_count": 57,
   "metadata": {},
   "outputs": [
    {
     "name": "stdout",
     "output_type": "stream",
     "text": [
      "<md5 HASH object @ 0x7f951846c9f0>\n"
     ]
    }
   ],
   "source": [
    "print(hashed)"
   ]
  },
  {
   "cell_type": "code",
   "execution_count": 79,
   "metadata": {},
   "outputs": [
    {
     "name": "stdout",
     "output_type": "stream",
     "text": [
      "Same\n"
     ]
    }
   ],
   "source": [
    "if(hashed == hashed2):\n",
    "    print(\"Same\")\n",
    "else:\n",
    "    print(\"not same\")"
   ]
  },
  {
   "cell_type": "code",
   "execution_count": null,
   "metadata": {},
   "outputs": [],
   "source": []
  }
 ],
 "metadata": {
  "kernelspec": {
   "display_name": "Python 3",
   "language": "python",
   "name": "python3"
  },
  "language_info": {
   "codemirror_mode": {
    "name": "ipython",
    "version": 3
   },
   "file_extension": ".py",
   "mimetype": "text/x-python",
   "name": "python",
   "nbconvert_exporter": "python",
   "pygments_lexer": "ipython3",
   "version": "3.8.3"
  }
 },
 "nbformat": 4,
 "nbformat_minor": 4
}
