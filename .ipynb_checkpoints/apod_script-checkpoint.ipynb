{
 "cells": [
  {
   "cell_type": "code",
   "execution_count": 15,
   "metadata": {},
   "outputs": [],
   "source": [
    "from bs4 import BeautifulSoup as bs4\n",
    "import requests\n",
    "import time\n",
    "import re\n",
    "from telegram import Bot"
   ]
  },
  {
   "cell_type": "code",
   "execution_count": 58,
   "metadata": {},
   "outputs": [],
   "source": [
    "#while(True):\n",
    "page_url = \"https://apod.nasa.gov/apod/astropix.html\"\n",
    "response = requests.get(url)\n",
    "page_text = bs4(response.text, 'html.parser')"
   ]
  },
  {
   "cell_type": "code",
   "execution_count": 7,
   "metadata": {
    "collapsed": true,
    "jupyter": {
     "outputs_hidden": true
    }
   },
   "outputs": [
    {
     "name": "stdout",
     "output_type": "stream",
     "text": [
      "﻿\n",
      "<!DOCTYPE html>\n",
      "<html>\n",
      " <head>\n",
      "  <title>\n",
      "   Astronomy Picture of the Day\n",
      "  </title>\n",
      "  <!-- gsfc meta tags -->\n",
      "  <meta content=\"661\" name=\"orgcode\"/>\n",
      "  <meta content=\"phillip.a.newman\" name=\"rno\"/>\n",
      "  <meta content=\"Jerry.T.Bonnell.1\" name=\"content-owner\"/>\n",
      "  <meta content=\"Stephen.F.Fantasia.1\" name=\"webmaster\"/>\n",
      "  <meta content=\"A different astronomy and space science\n",
      "related image is featured each day, along with a brief explanation.\" name=\"description\"/>\n",
      "  <!-- -->\n",
      "  <meta content=\"width=device-width, initial-scale=1\" name=\"viewport\"/>\n",
      "  <meta content=\"Comet NEOWISE, Vikos Gorge, Big Dipper\" name=\"keywords\"/>\n",
      "  <!-- -->\n",
      "  <script id=\"_fed_an_ua_tag\" src=\"//dap.digitalgov.gov/Universal-Federated-Analytics-Min.js?agency=NASA\">\n",
      "  </script>\n",
      " </head>\n",
      " <body alink=\"#FF0000\" bgcolor=\"#F4F4FF\" link=\"#0000FF\" text=\"#000000\" vlink=\"#7F0F9F\">\n",
      "  <center>\n",
      "   <h1>\n",
      "    Astronomy Picture of the Day\n",
      "   </h1>\n",
      "   <p>\n",
      "    <a href=\"archivepix.html\">\n",
      "     Discover the cosmos!\n",
      "    </a>\n",
      "    Each day a different image or photograph of our fascinating universe is\n",
      "featured, along with a brief explanation written by a professional astronomer.\n",
      "    <p>\n",
      "     2020 August 3\n",
      "     <br/>\n",
      "     <a href=\"image/2008/NeowiseGorge_Emmanouilidi_1161.jpg\">\n",
      "      <img alt=\"See Explanation.  Clicking on the picture will download\n",
      "the highest resolution version available.\" src=\"image/2008/NeowiseGorge_Emmanouilidi_960.jpg\" style=\"max-width:100%\"/>\n",
      "     </a>\n",
      "    </p>\n",
      "   </p>\n",
      "  </center>\n",
      "  <center>\n",
      "   <b>\n",
      "    Comet NEOWISE over Vikos Gorge\n",
      "   </b>\n",
      "   <br/>\n",
      "   <b>\n",
      "    Image Credit &amp; Copyright:\n",
      "   </b>\n",
      "   <a href=\"mailto: costas at greenhouses dot gr\">\n",
      "    Constantine Emmanouilidi\n",
      "   </a>\n",
      "  </center>\n",
      "  <p>\n",
      "   <b>\n",
      "    Explanation:\n",
      "   </b>\n",
      "   Did the Earth part to show us this comet? \n",
      "\n",
      "Of course not, even if this image makes it seem that way.\n",
      "\n",
      "Pictured far in the background is\n",
      "   <a href=\"ap200722.html\">\n",
      "    Comet NEOWISE\n",
      "   </a>\n",
      "   as it appeared about two weeks ago over northern\n",
      "   <a href=\"https://en.wikipedia.org/wiki/Greece\">\n",
      "    Greece\n",
      "   </a>\n",
      "   .\n",
      "\n",
      "Above the comet are many stars including the bright stars of the\n",
      "   <a href=\"https://en.wikipedia.org/wiki/Big_Dipper#Cultural_associations\">\n",
      "    Big Dipper\n",
      "   </a>\n",
      "   (\n",
      "   <a href=\"https://oklahoman.com/article/3035192/various-cultures-offer-legends-regarding-big-dipper\">\n",
      "    also the Sorcerer\n",
      "   </a>\n",
      "   , in\n",
      "   <a href=\"https://en.wikipedia.org/wiki/Aztec_mythology\">\n",
      "    Aztec mythology\n",
      "   </a>\n",
      "   ), \n",
      "an\n",
      "   <a href=\"https://en.wikipedia.org/wiki/Asterism_(astronomy)\">\n",
      "    asterism\n",
      "   </a>\n",
      "   that many people around the world used to find\n",
      "   <a href=\"ap200720.html\">\n",
      "    the naked-eye comet\n",
      "   </a>\n",
      "   as it hovered \n",
      "in the northern sky over the past month. \n",
      "\n",
      "In the foreground is\n",
      "   <a href=\"https://youtu.be/BZb7HFN5-Vg\">\n",
      "    Vikos Gorge\n",
      "   </a>\n",
      "   , the\n",
      "   <a href=\"https://en.wikipedia.org/wiki/Vikos_Gorge\">\n",
      "    deepest gorge\n",
      "   </a>\n",
      "   on Earth, relative to its width.\n",
      "\n",
      "The gorge was slowly created by\n",
      "   <a href=\"https://www.nationalgeographic.org/encyclopedia/erosion/\">\n",
      "    erosion\n",
      "   </a>\n",
      "   from the Voidomatis River over the past few million years. \n",
      "\n",
      "Capturing this image took a lot of planning,\n",
      "   <a href=\"https://static.boredpanda.com/blog/wp-content/uploads/2014/07/cat-waiting-window-69.jpg\">\n",
      "    waiting\n",
      "   </a>\n",
      "   , luck, braving high winds, and avoiding local wolves.\n",
      "   <a href=\"https://en.wikipedia.org/wiki/C/2020_F3_(NEOWISE)\">\n",
      "    Comet C/2020 F3 (NEOWISE)\n",
      "   </a>\n",
      "   continues to\n",
      "   <a href=\"https://cobs.si/analysis2?col=comet_id&amp;id=1875&amp;plot_type=0\">\n",
      "    fade\n",
      "   </a>\n",
      "   and is now best visible through binoculars as it\n",
      "   <a href=\"https://ssd.jpl.nasa.gov/sbdb.cgi?sstr=C%2F2020%20F3;old=0;orb=1;cov=0;log=0;cad=0\">\n",
      "    coasts back\n",
      "   </a>\n",
      "   to the outer\n",
      "   <a href=\"https://solarsystem.nasa.gov/solar-system/our-solar-system/in-depth/\">\n",
      "    Solar System\n",
      "   </a>\n",
      "   .\n",
      "   <p>\n",
      "    <center>\n",
      "     <b>\n",
      "      Notable Comet NEOWISE Images:\n",
      "     </b>\n",
      "     July\n",
      "     <a href=\"https://www.facebook.com/media/set/?set=a.2818635991573935&amp;type=3\">\n",
      "      31\n",
      "     </a>\n",
      "     <a href=\"https://www.facebook.com/media/set/?set=a.2814764565294411&amp;type=3\">\n",
      "      30\n",
      "     </a>\n",
      "     ,\n",
      "     <a href=\"https://www.facebook.com/media/set/?set=a.2811464625624405&amp;type=3\">\n",
      "      29\n",
      "     </a>\n",
      "     ,\n",
      "     <a href=\"https://www.facebook.com/media/set/?set=a.2808659892571545&amp;type=3\">\n",
      "      28\n",
      "     </a>\n",
      "     ,\n",
      "     <a href=\"https://www.facebook.com/media/set/?set=a.2806003322837202&amp;type=3\">\n",
      "      27\n",
      "     </a>\n",
      "     ,\n",
      "     <a href=\"https://www.facebook.com/media/set/?set=a.2803425026428365&amp;type=3\">\n",
      "      26\n",
      "     </a>\n",
      "     ,\n",
      "     <a href=\"https://www.facebook.com/media/set/?set=a.2800436196727248&amp;type=3\">\n",
      "      25\n",
      "     </a>\n",
      "     ,\n",
      "     <a href=\"https://www.facebook.com/media/set/?set=a.2797140183723516&amp;type=3\">\n",
      "      24\n",
      "     </a>\n",
      "     <br/>\n",
      "     <b>\n",
      "      Tomorrow's picture:\n",
      "     </b>\n",
      "     galaxy swirl\n",
      "     <p>\n",
      "      <hr/>\n",
      "      <a href=\"ap200802.html\">\n",
      "       &lt;\n",
      "      </a>\n",
      "      |\n",
      "      <a href=\"archivepix.html\">\n",
      "       Archive\n",
      "      </a>\n",
      "      |\n",
      "      <a href=\"lib/apsubmit2015.html\">\n",
      "       Submissions\n",
      "      </a>\n",
      "      |\n",
      "      <a href=\"lib/aptree.html\">\n",
      "       Index\n",
      "      </a>\n",
      "      |\n",
      "      <a href=\"https://antwrp.gsfc.nasa.gov/cgi-bin/apod/apod_search\">\n",
      "       Search\n",
      "      </a>\n",
      "      |\n",
      "      <a href=\"calendar/allyears.html\">\n",
      "       Calendar\n",
      "      </a>\n",
      "      |\n",
      "      <a href=\"/apod.rss\">\n",
      "       RSS\n",
      "      </a>\n",
      "      |\n",
      "      <a href=\"lib/edlinks.html\">\n",
      "       Education\n",
      "      </a>\n",
      "      |\n",
      "      <a href=\"lib/about_apod.html\">\n",
      "       About APOD\n",
      "      </a>\n",
      "      |\n",
      "      <a href=\"http://asterisk.apod.com/discuss_apod.php?date=200803\">\n",
      "       Discuss\n",
      "      </a>\n",
      "      |\n",
      "      <a href=\"ap200804.html\">\n",
      "       &gt;\n",
      "      </a>\n",
      "      <hr/>\n",
      "      <p>\n",
      "       <b>\n",
      "        Authors &amp; editors:\n",
      "       </b>\n",
      "       <a href=\"http://www.phy.mtu.edu/faculty/Nemiroff.html\">\n",
      "        Robert Nemiroff\n",
      "       </a>\n",
      "       (\n",
      "       <a href=\"http://www.phy.mtu.edu/\">\n",
      "        MTU\n",
      "       </a>\n",
      "       ) &amp;\n",
      "       <a href=\"https://antwrp.gsfc.nasa.gov/htmltest/jbonnell/www/bonnell.html\">\n",
      "        Jerry Bonnell\n",
      "       </a>\n",
      "       (\n",
      "       <a href=\"http://www.astro.umd.edu/\">\n",
      "        UMCP\n",
      "       </a>\n",
      "       )\n",
      "       <br/>\n",
      "       <b>\n",
      "        NASA Official:\n",
      "       </b>\n",
      "       Phillip Newman\n",
      "       <a href=\"lib/about_apod.html#srapply\">\n",
      "        Specific rights apply\n",
      "       </a>\n",
      "       .\n",
      "       <br/>\n",
      "       <a href=\"https://www.nasa.gov/about/highlights/HP_Privacy.html\">\n",
      "        NASA Web\n",
      "Privacy Policy and Important Notices\n",
      "       </a>\n",
      "       <br/>\n",
      "       <b>\n",
      "        A service of:\n",
      "       </b>\n",
      "       <a href=\"https://astrophysics.gsfc.nasa.gov/\">\n",
      "        ASD\n",
      "       </a>\n",
      "       at\n",
      "       <a href=\"https://www.nasa.gov/\">\n",
      "        NASA\n",
      "       </a>\n",
      "       /\n",
      "       <a href=\"https://www.nasa.gov/centers/goddard/\">\n",
      "        GSFC\n",
      "       </a>\n",
      "       <br/>\n",
      "       <b>\n",
      "        &amp;\n",
      "       </b>\n",
      "       <a href=\"http://www.mtu.edu/\">\n",
      "        Michigan Tech. U.\n",
      "       </a>\n",
      "       <br/>\n",
      "      </p>\n",
      "     </p>\n",
      "    </center>\n",
      "   </p>\n",
      "  </p>\n",
      " </body>\n",
      "</html>\n",
      "\n"
     ]
    }
   ],
   "source": [
    "print(page_text.prettify())"
   ]
  },
  {
   "cell_type": "code",
   "execution_count": 22,
   "metadata": {},
   "outputs": [],
   "source": [
    "new_date = page_text.find(\"p\").contents[3].get_text().replace('\\n','')"
   ]
  },
  {
   "cell_type": "code",
   "execution_count": 4,
   "metadata": {},
   "outputs": [
    {
     "data": {
      "text/plain": [
       "'image/2008/NGC2442_HstGendler_960.jpg'"
      ]
     },
     "execution_count": 4,
     "metadata": {},
     "output_type": "execute_result"
    }
   ],
   "source": [
    "page_text.find_all('center')[0].find('img')['src']"
   ]
  },
  {
   "cell_type": "code",
   "execution_count": 24,
   "metadata": {},
   "outputs": [
    {
     "data": {
      "text/plain": [
       "' Picture Rocks Sun Dagger   Video Credit & Copyright:   Martha Schaefer, Brad Schaefer, Jim Stamm; Music & License: Awakening  (Wojciech Usarewicz), Lone Tree Music'"
      ]
     },
     "execution_count": 24,
     "metadata": {},
     "output_type": "execute_result"
    }
   ],
   "source": [
    "new_title = page_text.find_all('center')[1].get_text().replace(\"\\n\",\"\")\n",
    "new_title"
   ]
  },
  {
   "cell_type": "code",
   "execution_count": 19,
   "metadata": {},
   "outputs": [
    {
     "data": {
      "text/plain": [
       "' Picture Rocks Sun Dagger   Video Credit & Copyright:   Martha Schaefer, Brad Schaefer, Jim Stamm; Music & License: Awakening  (Wojciech Usarewicz), Lone Tree Music'"
      ]
     },
     "execution_count": 19,
     "metadata": {},
     "output_type": "execute_result"
    }
   ],
   "source": [
    "page_text.find_all('center')[1].get_text().replace(\"\\n\",\"\")"
   ]
  },
  {
   "cell_type": "code",
   "execution_count": 6,
   "metadata": {},
   "outputs": [
    {
     "data": {
      "text/plain": [
       "<center>\n",
       "<b> Tomorrow's picture: </b>sun dagger\n",
       "\n",
       "<p> <hr/>\n",
       "<a href=\"ap200803.html\">&lt;</a>\n",
       "| <a href=\"archivepix.html\">Archive</a>\n",
       "| <a href=\"lib/apsubmit2015.html\">Submissions</a> \n",
       "| <a href=\"lib/aptree.html\">Index</a>\n",
       "| <a href=\"https://antwrp.gsfc.nasa.gov/cgi-bin/apod/apod_search\">Search</a>\n",
       "| <a href=\"calendar/allyears.html\">Calendar</a>\n",
       "| <a href=\"/apod.rss\">RSS</a>\n",
       "| <a href=\"lib/edlinks.html\">Education</a>\n",
       "| <a href=\"lib/about_apod.html\">About APOD</a>\n",
       "| <a href=\"http://asterisk.apod.com/discuss_apod.php?date=200804\">Discuss</a>\n",
       "| <a href=\"ap200805.html\">&gt;</a>\n",
       "<hr/><p>\n",
       "<b> Authors &amp; editors: </b>\n",
       "<a href=\"http://www.phy.mtu.edu/faculty/Nemiroff.html\">Robert Nemiroff</a>\n",
       "(<a href=\"http://www.phy.mtu.edu/\">MTU</a>) &amp;\n",
       "<a href=\"https://antwrp.gsfc.nasa.gov/htmltest/jbonnell/www/bonnell.html\">Jerry Bonnell</a> (<a href=\"http://www.astro.umd.edu/\">UMCP</a>)<br/>\n",
       "<b>NASA Official: </b> Phillip Newman\n",
       "<a href=\"lib/about_apod.html#srapply\">Specific rights apply</a>.<br/>\n",
       "<a href=\"https://www.nasa.gov/about/highlights/HP_Privacy.html\">NASA Web\n",
       "Privacy Policy and Important Notices</a><br/>\n",
       "<b>A service of:</b>\n",
       "<a href=\"https://astrophysics.gsfc.nasa.gov/\">ASD</a> at\n",
       "<a href=\"https://www.nasa.gov/\">NASA</a> /\n",
       "<a href=\"https://www.nasa.gov/centers/goddard/\">GSFC</a>\n",
       "<br/><b>&amp;</b> <a href=\"http://www.mtu.edu/\">Michigan Tech. U.</a><br/>\n",
       "</p></p></center>"
      ]
     },
     "execution_count": 6,
     "metadata": {},
     "output_type": "execute_result"
    }
   ],
   "source": [
    "page_text.find_all('center')[2]"
   ]
  },
  {
   "cell_type": "code",
   "execution_count": 30,
   "metadata": {},
   "outputs": [
    {
     "data": {
      "text/plain": [
       "[<p>\n",
       " <a href=\"archivepix.html\">Discover the cosmos!</a>\n",
       " Each day a different image or photograph of our fascinating universe is\n",
       " featured, along with a brief explanation written by a professional astronomer.\n",
       " <p>\n",
       " \n",
       " 2020 August 5 \n",
       " <br/>\n",
       " <iframe allow=\"accelerometer; autoplay; encrypted-media; gyroscope; picture-in-picture\" allowfullscreen=\"\" frameborder=\"0\" height=\"540\" src=\"https://www.youtube.com/embed/X_UOLpUDwpU?rel=0\" width=\"960\"></iframe>\n",
       " </p></p>,\n",
       " <p>\n",
       " \n",
       " 2020 August 5 \n",
       " <br/>\n",
       " <iframe allow=\"accelerometer; autoplay; encrypted-media; gyroscope; picture-in-picture\" allowfullscreen=\"\" frameborder=\"0\" height=\"540\" src=\"https://www.youtube.com/embed/X_UOLpUDwpU?rel=0\" width=\"960\"></iframe>\n",
       " </p>,\n",
       " <p>\n",
       " <b> Explanation: </b> \n",
       " Ancient sun daggers will not hurt you, but they may tell you the time. \n",
       " \n",
       " A <a href=\"https://www2.hao.ucar.edu/Education/SolarAstronomy/sun-dagger\">sun dagger</a> is a dagger-shaped gap in a shadow created by sunlight \n",
       " streaming through a crevice in a nearby rock.\n",
       " \n",
       " Starting over a thousand year ago, <a href=\"https://kids.nationalgeographic.com/explore/native-americans/native-people-of-the-american-southwest/\">native people of the American southwest</a> carved spiral \n",
       " <a href=\"https://en.wikipedia.org/wiki/Petroglyph\">petroglyph</a>s \n",
       " into rocks that became illuminated by \n",
       " <a href=\"https://www.planetquest.org/learn/sundagger.html\">sun daggers</a> \n",
       " in different ways as the \n",
       " <a href=\"https://solarsystem.nasa.gov/solar-system/sun/overview/\">Sun</a> \n",
       " shifts in the sky.\n",
       " \n",
       " A type of <a href=\"https://en.wikipedia.org/wiki/Sundial\">sundial</a>, where the end of the \n",
       " <a href=\"https://en.wikipedia.org/wiki/Fajada_Butte\">sundagger points</a> in \n",
       " <a href=\"https://en.wikipedia.org/wiki/Fajada_Butte#/media/File:Fajadadiagram.JPG\">the spiral</a> at high noon (for example) indicates a time of year, possibly illuminating a \n",
       " <a href=\"ap170621.html\">solstice</a> or \n",
       " <a href=\"ap190320.html\">equinox</a>. \n",
       " \n",
       " <a href=\"https://ui.adsabs.harvard.edu/abs/1979Sci...206..283S/abstract\">Sun daggers</a> \n",
       " are thought to have been used by \n",
       " <a href=\"https://solsticeproject.org/Chaco_Films_Videos/The_Sun_Dagger/index.html\">Sun Priests</a> \n",
       " during lone vigils with prayers and offerings. \n",
       " \n",
       " Of the few known, the \n",
       " <a href=\"https://www.youtube.com/embed/X_UOLpUDwpU\">featured video</a> \n",
       " discusses the historic \n",
       " <a href=\"image/2008/PictureRocks_Sundagger_JAHH.pdf\">Picture Rocks Sun Dagger</a>\n",
       " near <a href=\"https://www.youtube.com/watch?v=JMNaYdIH9yw\">Tucson</a>,\n",
       " <a href=\"https://en.wikipedia.org/wiki/Arizona\">Arizona</a>, \n",
       " <a href=\"https://en.wikipedia.org/wiki/United_States\">USA</a>, \n",
       " likely created by a \n",
       " <a href=\"https://en.wikipedia.org/wiki/Hohokam\">Hohokam</a> Sun Priest around 1000 AD. \n",
       " \n",
       " \n",
       " <p> <center>\n",
       " <b> Tomorrow's picture: </b>20 and 21\n",
       " \n",
       " <p> <hr/>\n",
       " <a href=\"ap200804.html\">&lt;</a>\n",
       " | <a href=\"archivepix.html\">Archive</a>\n",
       " | <a href=\"lib/apsubmit2015.html\">Submissions</a> \n",
       " | <a href=\"lib/aptree.html\">Index</a>\n",
       " | <a href=\"https://antwrp.gsfc.nasa.gov/cgi-bin/apod/apod_search\">Search</a>\n",
       " | <a href=\"calendar/allyears.html\">Calendar</a>\n",
       " | <a href=\"/apod.rss\">RSS</a>\n",
       " | <a href=\"lib/edlinks.html\">Education</a>\n",
       " | <a href=\"lib/about_apod.html\">About APOD</a>\n",
       " | <a href=\"http://asterisk.apod.com/discuss_apod.php?date=200805\">Discuss</a>\n",
       " | <a href=\"ap200806.html\">&gt;</a>\n",
       " <hr/><p>\n",
       " <b> Authors &amp; editors: </b>\n",
       " <a href=\"http://www.phy.mtu.edu/faculty/Nemiroff.html\">Robert Nemiroff</a>\n",
       " (<a href=\"http://www.phy.mtu.edu/\">MTU</a>) &amp;\n",
       " <a href=\"https://antwrp.gsfc.nasa.gov/htmltest/jbonnell/www/bonnell.html\">Jerry Bonnell</a> (<a href=\"http://www.astro.umd.edu/\">UMCP</a>)<br/>\n",
       " <b>NASA Official: </b> Phillip Newman\n",
       " <a href=\"lib/about_apod.html#srapply\">Specific rights apply</a>.<br/>\n",
       " <a href=\"https://www.nasa.gov/about/highlights/HP_Privacy.html\">NASA Web\n",
       " Privacy Policy and Important Notices</a><br/>\n",
       " <b>A service of:</b>\n",
       " <a href=\"https://astrophysics.gsfc.nasa.gov/\">ASD</a> at\n",
       " <a href=\"https://www.nasa.gov/\">NASA</a> /\n",
       " <a href=\"https://www.nasa.gov/centers/goddard/\">GSFC</a>\n",
       " <br/><b>&amp;</b> <a href=\"http://www.mtu.edu/\">Michigan Tech. U.</a><br/>\n",
       " </p></p></center>\n",
       " </p></p>,\n",
       " <p> <center>\n",
       " <b> Tomorrow's picture: </b>20 and 21\n",
       " \n",
       " <p> <hr/>\n",
       " <a href=\"ap200804.html\">&lt;</a>\n",
       " | <a href=\"archivepix.html\">Archive</a>\n",
       " | <a href=\"lib/apsubmit2015.html\">Submissions</a> \n",
       " | <a href=\"lib/aptree.html\">Index</a>\n",
       " | <a href=\"https://antwrp.gsfc.nasa.gov/cgi-bin/apod/apod_search\">Search</a>\n",
       " | <a href=\"calendar/allyears.html\">Calendar</a>\n",
       " | <a href=\"/apod.rss\">RSS</a>\n",
       " | <a href=\"lib/edlinks.html\">Education</a>\n",
       " | <a href=\"lib/about_apod.html\">About APOD</a>\n",
       " | <a href=\"http://asterisk.apod.com/discuss_apod.php?date=200805\">Discuss</a>\n",
       " | <a href=\"ap200806.html\">&gt;</a>\n",
       " <hr/><p>\n",
       " <b> Authors &amp; editors: </b>\n",
       " <a href=\"http://www.phy.mtu.edu/faculty/Nemiroff.html\">Robert Nemiroff</a>\n",
       " (<a href=\"http://www.phy.mtu.edu/\">MTU</a>) &amp;\n",
       " <a href=\"https://antwrp.gsfc.nasa.gov/htmltest/jbonnell/www/bonnell.html\">Jerry Bonnell</a> (<a href=\"http://www.astro.umd.edu/\">UMCP</a>)<br/>\n",
       " <b>NASA Official: </b> Phillip Newman\n",
       " <a href=\"lib/about_apod.html#srapply\">Specific rights apply</a>.<br/>\n",
       " <a href=\"https://www.nasa.gov/about/highlights/HP_Privacy.html\">NASA Web\n",
       " Privacy Policy and Important Notices</a><br/>\n",
       " <b>A service of:</b>\n",
       " <a href=\"https://astrophysics.gsfc.nasa.gov/\">ASD</a> at\n",
       " <a href=\"https://www.nasa.gov/\">NASA</a> /\n",
       " <a href=\"https://www.nasa.gov/centers/goddard/\">GSFC</a>\n",
       " <br/><b>&amp;</b> <a href=\"http://www.mtu.edu/\">Michigan Tech. U.</a><br/>\n",
       " </p></p></center>\n",
       " </p>,\n",
       " <p> <hr/>\n",
       " <a href=\"ap200804.html\">&lt;</a>\n",
       " | <a href=\"archivepix.html\">Archive</a>\n",
       " | <a href=\"lib/apsubmit2015.html\">Submissions</a> \n",
       " | <a href=\"lib/aptree.html\">Index</a>\n",
       " | <a href=\"https://antwrp.gsfc.nasa.gov/cgi-bin/apod/apod_search\">Search</a>\n",
       " | <a href=\"calendar/allyears.html\">Calendar</a>\n",
       " | <a href=\"/apod.rss\">RSS</a>\n",
       " | <a href=\"lib/edlinks.html\">Education</a>\n",
       " | <a href=\"lib/about_apod.html\">About APOD</a>\n",
       " | <a href=\"http://asterisk.apod.com/discuss_apod.php?date=200805\">Discuss</a>\n",
       " | <a href=\"ap200806.html\">&gt;</a>\n",
       " <hr/><p>\n",
       " <b> Authors &amp; editors: </b>\n",
       " <a href=\"http://www.phy.mtu.edu/faculty/Nemiroff.html\">Robert Nemiroff</a>\n",
       " (<a href=\"http://www.phy.mtu.edu/\">MTU</a>) &amp;\n",
       " <a href=\"https://antwrp.gsfc.nasa.gov/htmltest/jbonnell/www/bonnell.html\">Jerry Bonnell</a> (<a href=\"http://www.astro.umd.edu/\">UMCP</a>)<br/>\n",
       " <b>NASA Official: </b> Phillip Newman\n",
       " <a href=\"lib/about_apod.html#srapply\">Specific rights apply</a>.<br/>\n",
       " <a href=\"https://www.nasa.gov/about/highlights/HP_Privacy.html\">NASA Web\n",
       " Privacy Policy and Important Notices</a><br/>\n",
       " <b>A service of:</b>\n",
       " <a href=\"https://astrophysics.gsfc.nasa.gov/\">ASD</a> at\n",
       " <a href=\"https://www.nasa.gov/\">NASA</a> /\n",
       " <a href=\"https://www.nasa.gov/centers/goddard/\">GSFC</a>\n",
       " <br/><b>&amp;</b> <a href=\"http://www.mtu.edu/\">Michigan Tech. U.</a><br/>\n",
       " </p></p>,\n",
       " <p>\n",
       " <b> Authors &amp; editors: </b>\n",
       " <a href=\"http://www.phy.mtu.edu/faculty/Nemiroff.html\">Robert Nemiroff</a>\n",
       " (<a href=\"http://www.phy.mtu.edu/\">MTU</a>) &amp;\n",
       " <a href=\"https://antwrp.gsfc.nasa.gov/htmltest/jbonnell/www/bonnell.html\">Jerry Bonnell</a> (<a href=\"http://www.astro.umd.edu/\">UMCP</a>)<br/>\n",
       " <b>NASA Official: </b> Phillip Newman\n",
       " <a href=\"lib/about_apod.html#srapply\">Specific rights apply</a>.<br/>\n",
       " <a href=\"https://www.nasa.gov/about/highlights/HP_Privacy.html\">NASA Web\n",
       " Privacy Policy and Important Notices</a><br/>\n",
       " <b>A service of:</b>\n",
       " <a href=\"https://astrophysics.gsfc.nasa.gov/\">ASD</a> at\n",
       " <a href=\"https://www.nasa.gov/\">NASA</a> /\n",
       " <a href=\"https://www.nasa.gov/centers/goddard/\">GSFC</a>\n",
       " <br/><b>&amp;</b> <a href=\"http://www.mtu.edu/\">Michigan Tech. U.</a><br/>\n",
       " </p>]"
      ]
     },
     "execution_count": 30,
     "metadata": {},
     "output_type": "execute_result"
    }
   ],
   "source": [
    "page_text.find_all('p')"
   ]
  },
  {
   "cell_type": "code",
   "execution_count": 27,
   "metadata": {},
   "outputs": [
    {
     "data": {
      "text/plain": [
       "'\\n<b> Explanation: </b> \\nAncient sun daggers will not hurt you, but they may tell you the time.\\xa0\\n\\nA <a href=\"https://www2.hao.ucar.edu/Education/SolarAstronomy/sun-dagger\">sun dagger</a> is a dagger-shaped gap in a shadow created by sunlight \\nstreaming through\\xa0a crevice in a nearby rock.\\n\\nStarting over a thousand year ago, <a href=\"https://kids.nationalgeographic.com/explore/native-americans/native-people-of-the-american-southwest/\">native people of the American southwest</a> carved spiral \\n<a href=\"https://en.wikipedia.org/wiki/Petroglyph\">petroglyph</a>s \\ninto rocks that became illuminated by \\n<a href=\"https://www.planetquest.org/learn/sundagger.html\">sun daggers</a> \\nin different ways as the \\n<a href=\"https://solarsystem.nasa.gov/solar-system/sun/overview/\">Sun</a> \\nshifts in the sky.\\n\\nA type of <a href=\"https://en.wikipedia.org/wiki/Sundial\">sundial</a>, where the end of the \\n<a href=\"https://en.wikipedia.org/wiki/Fajada_Butte\">sundagger points</a> in \\n<a href=\"https://en.wikipedia.org/wiki/Fajada_Butte#/media/File:Fajadadiagram.JPG\">the spiral</a> at high noon (for example) indicates a time of year, possibly illuminating a \\n<a href=\"ap170621.html\">solstice</a> or \\n<a href=\"ap190320.html\">equinox</a>.\\xa0\\n\\n<a href=\"https://ui.adsabs.harvard.edu/abs/1979Sci...206..283S/abstract\">Sun daggers</a> \\nare thought to have been used by \\n<a href=\"https://solsticeproject.org/Chaco_Films_Videos/The_Sun_Dagger/index.html\">Sun Priests</a> \\nduring lone vigils with prayers and offerings.\\xa0\\n\\nOf the few known, the \\n<a href=\"https://www.youtube.com/embed/X_UOLpUDwpU\">featured video</a> \\ndiscusses the historic \\n<a href=\"image/2008/PictureRocks_Sundagger_JAHH.pdf\">Picture Rocks Sun Dagger</a>\\nnear <a href=\"https://www.youtube.com/watch?v=JMNaYdIH9yw\">Tucson</a>,\\n<a href=\"https://en.wikipedia.org/wiki/Arizona\">Arizona</a>, \\n<a href=\"https://en.wikipedia.org/wiki/United_States\">USA</a>, \\nlikely created by a \\n<a href=\"https://en.wikipedia.org/wiki/Hohokam\">Hohokam</a> Sun Priest around 1000 AD.\\xa0\\n\\n\\n'"
      ]
     },
     "execution_count": 27,
     "metadata": {},
     "output_type": "execute_result"
    }
   ],
   "source": [
    "explanation = re.split('<p>',str(page_text.find_all('p')[2]))[1]\n",
    "explanation"
   ]
  },
  {
   "cell_type": "code",
   "execution_count": 34,
   "metadata": {},
   "outputs": [],
   "source": [
    "explanation = page_text.find_all('p')[2].get_text().replace(\"\\n\",\"\").split(\"Tomorrow\")[0]"
   ]
  },
  {
   "cell_type": "code",
   "execution_count": 55,
   "metadata": {},
   "outputs": [
    {
     "name": "stdout",
     "output_type": "stream",
     "text": [
      "https://www.youtube.com/embed/X_UOLpUDwpU?rel=0\n"
     ]
    }
   ],
   "source": [
    "if(page_text.find('img')):\n",
    "    url = \"https://apod.nasa.gov/apod/\"+page_text.find_all('center')[0].find('img')['src']\n",
    "elif(page_text.find('iframe')):\n",
    "    url = page_text.find_all('center')[0].find('iframe')['src']\n",
    "    \n",
    "print(url)"
   ]
  },
  {
   "cell_type": "code",
   "execution_count": 49,
   "metadata": {},
   "outputs": [],
   "source": [
    "url= \"https://www.petguide.com/wp-content/uploads/2018/07/funniest-dog-breeds-pug.jpg\""
   ]
  },
  {
   "cell_type": "code",
   "execution_count": 38,
   "metadata": {},
   "outputs": [
    {
     "data": {
      "text/plain": [
       "' Picture Rocks Sun Dagger   Video Credit & Copyright:   Martha Schaefer, Brad Schaefer, Jim Stamm; Music & License: Awakening  (Wojciech Usarewicz), Lone Tree Music'"
      ]
     },
     "execution_count": 38,
     "metadata": {},
     "output_type": "execute_result"
    }
   ],
   "source": [
    "new_title"
   ]
  },
  {
   "cell_type": "code",
   "execution_count": 16,
   "metadata": {},
   "outputs": [],
   "source": [
    "bot = Bot(\"1163369796:AAE1BI447fKiuDQ9RUTCUZKcS7-Ek96zlYI\")"
   ]
  },
  {
   "cell_type": "code",
   "execution_count": 59,
   "metadata": {},
   "outputs": [
    {
     "data": {
      "text/plain": [
       "<telegram.message.Message at 0x7f996339ca60>"
      ]
     },
     "execution_count": 59,
     "metadata": {},
     "output_type": "execute_result"
    }
   ],
   "source": [
    "message = (\"<a href=\\\"\"+url+\"\\\">\" +\"<b>Astronomy Picture of the Day</b></a>\\n\\n\" +\"\\n<i>Date: \"+new_date+\"</i>\\n\")\n",
    "bot.sendMessage(chat_id=\"-1001331038106\", text=message, parse_mode='HTML')"
   ]
  },
  {
   "cell_type": "code",
   "execution_count": 54,
   "metadata": {},
   "outputs": [
    {
     "data": {
      "text/plain": [
       "<telegram.message.Message at 0x7f99634a24c0>"
      ]
     },
     "execution_count": 54,
     "metadata": {},
     "output_type": "execute_result"
    }
   ],
   "source": [
    "bot.sendPhoto(chat_id=\"-1001331038106\", photo=url, caption = str(new_title+\"\\nDate: \" + new_date + \"\\n\\n\\ncourtesy of PhotoBot\"))"
   ]
  },
  {
   "cell_type": "code",
   "execution_count": null,
   "metadata": {},
   "outputs": [],
   "source": []
  }
 ],
 "metadata": {
  "kernelspec": {
   "display_name": "Python 3",
   "language": "python",
   "name": "python3"
  },
  "language_info": {
   "codemirror_mode": {
    "name": "ipython",
    "version": 3
   },
   "file_extension": ".py",
   "mimetype": "text/x-python",
   "name": "python",
   "nbconvert_exporter": "python",
   "pygments_lexer": "ipython3",
   "version": "3.8.3"
  }
 },
 "nbformat": 4,
 "nbformat_minor": 4
}
