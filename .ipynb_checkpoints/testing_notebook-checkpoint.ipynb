{
 "cells": [
  {
   "cell_type": "code",
   "execution_count": 1,
   "metadata": {},
   "outputs": [],
   "source": [
    "import pandas as pd\n",
    "from bs4 import BeautifulSoup as bs4\n",
    "import requests\n",
    "import json\n",
    "from telegram.ext import Updater, InlineQueryHandler, CommandHandler\n",
    "import datetime\n",
    "import calendar\n",
    "\n",
    "topics=['astronomy', 'latest+astronomy+news', 'astronomy+events','black+hole', 'space+exploration', 'hubble+space+telescope','space+observatory']"
   ]
  },
  {
   "cell_type": "code",
   "execution_count": 2,
   "metadata": {},
   "outputs": [],
   "source": [
    "def scrape(url):\n",
    "    page  = requests.get(url)\n",
    "    page_text = bs4(page.text,'html.parser')\n",
    "    articles_text = page_text.find_all(class_ = \"ZINbbc xpd O9g5cc uUPGi\")\n",
    "    return articles_text"
   ]
  },
  {
   "cell_type": "code",
   "execution_count": 3,
   "metadata": {},
   "outputs": [],
   "source": [
    "def get_url(i):\n",
    "    i = i.find('a').attrs['href'].replace('/url?q=','')\n",
    "    return i"
   ]
  },
  {
   "cell_type": "code",
   "execution_count": 4,
   "metadata": {},
   "outputs": [],
   "source": [
    "def get_time(i):\n",
    "    posted_time = i.find(class_ = \"r0bn4c rQMQod\").contents[0]\n",
    "    posted_time = posted_time.split(\" \")\n",
    "    if (posted_time[1] == 'hours' or posted_time[1] == 'hour'):\n",
    "        time_since = 0.1 * int(posted_time[0])\n",
    "    elif (posted_time[1] == 'days' or posted_time[1] == 'day'):\n",
    "        time_since = 1 * int(posted_time[0])\n",
    "    else:\n",
    "        time_since = 999\n",
    "    return(time_since)"
   ]
  },
  {
   "cell_type": "code",
   "execution_count": 5,
   "metadata": {},
   "outputs": [],
   "source": [
    "def get_final_article(articles_text):\n",
    "    data = []\n",
    "    for i in articles_text: \n",
    "        data.append([get_url(i),get_time(i),i.find(class_ = \"BNeawe vvjwJb AP7Wnd\").contents[0]])\n",
    "    data = sorted(data, key = lambda x: x[1])\n",
    "    return(data[0][0])"
   ]
  },
  {
   "cell_type": "code",
   "execution_count": 6,
   "metadata": {},
   "outputs": [],
   "source": [
    "def get_article(keyword):\n",
    "    \n",
    "    #day = datetime.datetime.now().strftime(\"%A\")\n",
    "    #time = int(datetime.datetime.now().strftime(\"%H\"))\n",
    "    #if day == 'Sunday' and time == 16:\n",
    "    #    keyword = topics[0]\n",
    "    #elif day == 'Wednesday' and time == 16:\n",
    "    #    keyword = topics[1]\n",
    "    #elif day == 'Friday' and time == 16:\n",
    "    #    keyword = topics[2]\n",
    "        \n",
    "    url = \"https://www.google.com/search?q=\"+keyword+\"&source=lnms&tbm=nws&sa=X&ved=2ahUKEwjZzKWTjv3qAhVFyzgGHeKzCf8Q_AUoAXoECBUQAw&biw=1680&bih=947\"\n",
    "    articles_text = scrape(url)\n",
    "    return(get_final_article(articles_text))"
   ]
  },
  {
   "cell_type": "code",
   "execution_count": null,
   "metadata": {},
   "outputs": [
    {
     "name": "stderr",
     "output_type": "stream",
     "text": [
      "No error handlers are registered, logging exception.\n",
      "Traceback (most recent call last):\n",
      "  File \"/Library/Frameworks/Python.framework/Versions/3.8/lib/python3.8/site-packages/telegram/ext/dispatcher.py\", line 340, in process_update\n",
      "    handler.handle_update(update, self, check, context)\n",
      "  File \"/Library/Frameworks/Python.framework/Versions/3.8/lib/python3.8/site-packages/telegram/ext/handler.py\", line 119, in handle_update\n",
      "    return self.callback(update, context)\n",
      "  File \"<ipython-input-8-bb65083791b2>\", line 6, in weekly_article\n",
      "    update.message.reply_text(get_article(context))\n",
      "  File \"<ipython-input-6-5d4ec0ac5759>\", line 12, in get_article\n",
      "    url = \"https://www.google.com/search?q=\"+keyword+\"&source=lnms&tbm=nws&sa=X&ved=2ahUKEwjZzKWTjv3qAhVFyzgGHeKzCf8Q_AUoAXoECBUQAw&biw=1680&bih=947\"\n",
      "TypeError: can only concatenate str (not \"CallbackContext\") to str\n",
      "No error handlers are registered, logging exception.\n",
      "Traceback (most recent call last):\n",
      "  File \"/Library/Frameworks/Python.framework/Versions/3.8/lib/python3.8/site-packages/telegram/ext/dispatcher.py\", line 340, in process_update\n",
      "    handler.handle_update(update, self, check, context)\n",
      "  File \"/Library/Frameworks/Python.framework/Versions/3.8/lib/python3.8/site-packages/telegram/ext/handler.py\", line 119, in handle_update\n",
      "    return self.callback(update, context)\n",
      "  File \"<ipython-input-8-bb65083791b2>\", line 6, in weekly_article\n",
      "    update.message.reply_text(get_article(context))\n",
      "  File \"<ipython-input-6-5d4ec0ac5759>\", line 12, in get_article\n",
      "    url = \"https://www.google.com/search?q=\"+keyword+\"&source=lnms&tbm=nws&sa=X&ved=2ahUKEwjZzKWTjv3qAhVFyzgGHeKzCf8Q_AUoAXoECBUQAw&biw=1680&bih=947\"\n",
      "TypeError: can only concatenate str (not \"CallbackContext\") to str\n"
     ]
    }
   ],
   "source": [
    "def weekly_article(update, context,args):\n",
    "    #get_article()\n",
    "    chat_id = update.message.chat_id\n",
    "    #update.message.reply_text(get_article())\n",
    "    #bot.send_message(chat_id=chat_id, text=get_article())\n",
    "    update.message.reply_text(get_article(args))\n",
    "\n",
    "def main():\n",
    "    #day = datetime.datetime.now().strftime(\"%A\")\n",
    "    #time = int(datetime.datetime.now().strftime(\"%H\"))\n",
    "    \n",
    "    updater = Updater('1183471904:AAENQORzTAU_mTDXfv8xJU1s3rmK1PuzlpU', use_context=True)\n",
    "    dp = updater.dispatcher\n",
    "    #dp.add_handler(CommandHandler('randomarticle',random_article))\n",
    "    dp.add_handler(CommandHandler('newarticle', weekly_article, pass_args=True))\n",
    "    #dp.add_handler(MessageHandler(~Filters.command & Filters.text, test))\n",
    "    updater.start_polling()\n",
    "    updater.idle()\n",
    "\n",
    "if __name__ == '__main__':\n",
    "    main()"
   ]
  },
  {
   "cell_type": "code",
   "execution_count": 4,
   "metadata": {},
   "outputs": [
    {
     "ename": "ImportError",
     "evalue": "cannot import name 'joblib' from 'sklearn.externals' (/Library/Frameworks/Python.framework/Versions/3.8/lib/python3.8/site-packages/sklearn/externals/__init__.py)",
     "output_type": "error",
     "traceback": [
      "\u001b[0;31m---------------------------------------------------------------------------\u001b[0m",
      "\u001b[0;31mImportError\u001b[0m                               Traceback (most recent call last)",
      "\u001b[0;32m<ipython-input-4-e1269ed79e48>\u001b[0m in \u001b[0;36m<module>\u001b[0;34m\u001b[0m\n\u001b[0;32m----> 1\u001b[0;31m \u001b[0;32mimport\u001b[0m \u001b[0mprofanity_check\u001b[0m \u001b[0;32mas\u001b[0m \u001b[0mpc\u001b[0m\u001b[0;34m\u001b[0m\u001b[0;34m\u001b[0m\u001b[0m\n\u001b[0m",
      "\u001b[0;32m/Library/Frameworks/Python.framework/Versions/3.8/lib/python3.8/site-packages/profanity_check/__init__.py\u001b[0m in \u001b[0;36m<module>\u001b[0;34m\u001b[0m\n\u001b[0;32m----> 1\u001b[0;31m \u001b[0;32mfrom\u001b[0m \u001b[0;34m.\u001b[0m\u001b[0mprofanity_check\u001b[0m \u001b[0;32mimport\u001b[0m \u001b[0mpredict\u001b[0m\u001b[0;34m,\u001b[0m \u001b[0mpredict_prob\u001b[0m\u001b[0;34m\u001b[0m\u001b[0;34m\u001b[0m\u001b[0m\n\u001b[0m\u001b[1;32m      2\u001b[0m \u001b[0m__version__\u001b[0m\u001b[0;34m=\u001b[0m\u001b[0;34m\"1.0.2\"\u001b[0m\u001b[0;34m\u001b[0m\u001b[0;34m\u001b[0m\u001b[0m\n",
      "\u001b[0;32m/Library/Frameworks/Python.framework/Versions/3.8/lib/python3.8/site-packages/profanity_check/profanity_check.py\u001b[0m in \u001b[0;36m<module>\u001b[0;34m\u001b[0m\n\u001b[1;32m      1\u001b[0m \u001b[0;32mimport\u001b[0m \u001b[0mpkg_resources\u001b[0m\u001b[0;34m\u001b[0m\u001b[0;34m\u001b[0m\u001b[0m\n\u001b[1;32m      2\u001b[0m \u001b[0;32mimport\u001b[0m \u001b[0mnumpy\u001b[0m \u001b[0;32mas\u001b[0m \u001b[0mnp\u001b[0m\u001b[0;34m\u001b[0m\u001b[0;34m\u001b[0m\u001b[0m\n\u001b[0;32m----> 3\u001b[0;31m \u001b[0;32mfrom\u001b[0m \u001b[0msklearn\u001b[0m\u001b[0;34m.\u001b[0m\u001b[0mexternals\u001b[0m \u001b[0;32mimport\u001b[0m \u001b[0mjoblib\u001b[0m\u001b[0;34m\u001b[0m\u001b[0;34m\u001b[0m\u001b[0m\n\u001b[0m\u001b[1;32m      4\u001b[0m \u001b[0;34m\u001b[0m\u001b[0m\n\u001b[1;32m      5\u001b[0m \u001b[0mvectorizer\u001b[0m \u001b[0;34m=\u001b[0m \u001b[0mjoblib\u001b[0m\u001b[0;34m.\u001b[0m\u001b[0mload\u001b[0m\u001b[0;34m(\u001b[0m\u001b[0mpkg_resources\u001b[0m\u001b[0;34m.\u001b[0m\u001b[0mresource_filename\u001b[0m\u001b[0;34m(\u001b[0m\u001b[0;34m'profanity_check'\u001b[0m\u001b[0;34m,\u001b[0m \u001b[0;34m'data/vectorizer.joblib'\u001b[0m\u001b[0;34m)\u001b[0m\u001b[0;34m)\u001b[0m\u001b[0;34m\u001b[0m\u001b[0;34m\u001b[0m\u001b[0m\n",
      "\u001b[0;31mImportError\u001b[0m: cannot import name 'joblib' from 'sklearn.externals' (/Library/Frameworks/Python.framework/Versions/3.8/lib/python3.8/site-packages/sklearn/externals/__init__.py)"
     ]
    }
   ],
   "source": [
    "import profanity_check as pc"
   ]
  },
  {
   "cell_type": "code",
   "execution_count": 5,
   "metadata": {},
   "outputs": [],
   "source": [
    "import joblib"
   ]
  },
  {
   "cell_type": "code",
   "execution_count": null,
   "metadata": {},
   "outputs": [],
   "source": []
  }
 ],
 "metadata": {
  "kernelspec": {
   "display_name": "Python 3",
   "language": "python",
   "name": "python3"
  },
  "language_info": {
   "codemirror_mode": {
    "name": "ipython",
    "version": 3
   },
   "file_extension": ".py",
   "mimetype": "text/x-python",
   "name": "python",
   "nbconvert_exporter": "python",
   "pygments_lexer": "ipython3",
   "version": "3.8.3"
  }
 },
 "nbformat": 4,
 "nbformat_minor": 4
}
