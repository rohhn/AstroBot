{
 "cells": [
  {
   "cell_type": "code",
   "execution_count": 1,
   "metadata": {},
   "outputs": [],
   "source": [
    "import pandas as pd\n",
    "from bs4 import BeautifulSoup as bs4\n",
    "import requests\n",
    "from telegram.ext import Updater, InlineQueryHandler, CommandHandler, JobQueue\n",
    "import datetime\n",
    "import calendar\n",
    "from telegram import Bot\n",
    "import urllib3\n",
    "\n",
    "topics=['astronomy', 'latest+astronomy+news', 'astronomy+events','black+hole', 'space+exploration', 'hubble+space+telescope','space+observatory']"
   ]
  },
  {
   "cell_type": "code",
   "execution_count": 2,
   "metadata": {},
   "outputs": [],
   "source": [
    "def scrape(url):\n",
    "    page  = requests.get(url)\n",
    "    page_text = bs4(page.text,'html.parser')\n",
    "    articles_text = page_text.find_all(class_ = \"ZINbbc xpd O9g5cc uUPGi\")\n",
    "    return articles_text"
   ]
  },
  {
   "cell_type": "code",
   "execution_count": 3,
   "metadata": {},
   "outputs": [],
   "source": [
    "def get_url(i):\n",
    "    i = i.find('a').attrs['href'].replace('/url?q=','')\n",
    "    return i"
   ]
  },
  {
   "cell_type": "code",
   "execution_count": 4,
   "metadata": {},
   "outputs": [],
   "source": [
    "def get_time(i):\n",
    "    posted_time = i.find(class_ = \"r0bn4c rQMQod\").contents[0]\n",
    "    posted_time = posted_time.split(\" \")\n",
    "    if (posted_time[1] == 'hours' or posted_time[1] == 'hour'):\n",
    "        time_since = 0.1 * int(posted_time[0])\n",
    "    elif (posted_time[1] == 'days' or posted_time[1] == 'day'):\n",
    "        time_since = 1 * int(posted_time[0])\n",
    "    else:\n",
    "        time_since = 999\n",
    "    return(time_since)"
   ]
  },
  {
   "cell_type": "code",
   "execution_count": 5,
   "metadata": {},
   "outputs": [],
   "source": [
    "def get_final_article(articles_text):\n",
    "    data = []\n",
    "    for i in articles_text: \n",
    "        data.append([get_url(i),get_time(i),i.find(class_ = \"BNeawe vvjwJb AP7Wnd\").contents[0]])\n",
    "    data = sorted(data, key = lambda x: x[1])\n",
    "    return(data[0][0])"
   ]
  },
  {
   "cell_type": "code",
   "execution_count": 6,
   "metadata": {},
   "outputs": [],
   "source": [
    "def get_article(keyword):\n",
    "    \n",
    "    #day = datetime.datetime.now().strftime(\"%A\")\n",
    "    #time = int(datetime.datetime.now().strftime(\"%H\"))\n",
    "    #if day == 'Sunday' and time == 16:\n",
    "    #    keyword = topics[0]\n",
    "    #elif day == 'Wednesday' and time == 16:\n",
    "    #    keyword = topics[1]\n",
    "    #elif day == 'Friday' and time == 16:\n",
    "    #    keyword = topics[2]\n",
    "        \n",
    "    url = \"https://www.google.com/search?q=\"+keyword+\"&source=lnms&tbm=nws&sa=X&ved=2ahUKEwjZzKWTjv3qAhVFyzgGHeKzCf8Q_AUoAXoECBUQAw&biw=1680&bih=947\"\n",
    "    articles_text = scrape(url)\n",
    "    return(get_final_article(articles_text))"
   ]
  },
  {
   "cell_type": "code",
   "execution_count": null,
   "metadata": {},
   "outputs": [
    {
     "name": "stderr",
     "output_type": "stream",
     "text": [
      "No error handlers are registered, logging exception.\n",
      "Traceback (most recent call last):\n",
      "  File \"/Library/Frameworks/Python.framework/Versions/3.8/lib/python3.8/site-packages/telegram/ext/dispatcher.py\", line 340, in process_update\n",
      "    handler.handle_update(update, self, check, context)\n",
      "  File \"/Library/Frameworks/Python.framework/Versions/3.8/lib/python3.8/site-packages/telegram/ext/handler.py\", line 119, in handle_update\n",
      "    return self.callback(update, context)\n",
      "  File \"<ipython-input-8-bb65083791b2>\", line 6, in weekly_article\n",
      "    update.message.reply_text(get_article(context))\n",
      "  File \"<ipython-input-6-5d4ec0ac5759>\", line 12, in get_article\n",
      "    url = \"https://www.google.com/search?q=\"+keyword+\"&source=lnms&tbm=nws&sa=X&ved=2ahUKEwjZzKWTjv3qAhVFyzgGHeKzCf8Q_AUoAXoECBUQAw&biw=1680&bih=947\"\n",
      "TypeError: can only concatenate str (not \"CallbackContext\") to str\n",
      "No error handlers are registered, logging exception.\n",
      "Traceback (most recent call last):\n",
      "  File \"/Library/Frameworks/Python.framework/Versions/3.8/lib/python3.8/site-packages/telegram/ext/dispatcher.py\", line 340, in process_update\n",
      "    handler.handle_update(update, self, check, context)\n",
      "  File \"/Library/Frameworks/Python.framework/Versions/3.8/lib/python3.8/site-packages/telegram/ext/handler.py\", line 119, in handle_update\n",
      "    return self.callback(update, context)\n",
      "  File \"<ipython-input-8-bb65083791b2>\", line 6, in weekly_article\n",
      "    update.message.reply_text(get_article(context))\n",
      "  File \"<ipython-input-6-5d4ec0ac5759>\", line 12, in get_article\n",
      "    url = \"https://www.google.com/search?q=\"+keyword+\"&source=lnms&tbm=nws&sa=X&ved=2ahUKEwjZzKWTjv3qAhVFyzgGHeKzCf8Q_AUoAXoECBUQAw&biw=1680&bih=947\"\n",
      "TypeError: can only concatenate str (not \"CallbackContext\") to str\n"
     ]
    }
   ],
   "source": [
    "def weekly_article(update, context,args):\n",
    "    #get_article()\n",
    "    chat_id = update.message.chat_id\n",
    "    #update.message.reply_text(get_article())\n",
    "    #bot.send_message(chat_id=chat_id, text=get_article())\n",
    "    update.message.reply_text(get_article(args))\n",
    "\n",
    "def main():\n",
    "    #day = datetime.datetime.now().strftime(\"%A\")\n",
    "    #time = int(datetime.datetime.now().strftime(\"%H\"))\n",
    "    \n",
    "    updater = Updater('1183471904:AAENQORzTAU_mTDXfv8xJU1s3rmK1PuzlpU', use_context=True)\n",
    "    dp = updater.dispatcher\n",
    "    #dp.add_handler(CommandHandler('randomarticle',random_article))\n",
    "    dp.add_handler(CommandHandler('newarticle', weekly_article, pass_args=True))\n",
    "    #dp.add_handler(MessageHandler(~Filters.command & Filters.text, test))\n",
    "    updater.start_polling()\n",
    "    updater.idle()\n",
    "\n",
    "if __name__ == '__main__':\n",
    "    main()"
   ]
  },
  {
   "cell_type": "code",
   "execution_count": 8,
   "metadata": {},
   "outputs": [],
   "source": [
    "from better_profanity import profanity"
   ]
  },
  {
   "cell_type": "code",
   "execution_count": 14,
   "metadata": {},
   "outputs": [
    {
     "name": "stdout",
     "output_type": "stream",
     "text": [
      "sucks\n"
     ]
    }
   ],
   "source": [
    "text=\"fuck\"\n",
    "if(profanity.contains_profanity(text)):\n",
    "    print(\"sucks\")\n",
    "else:\n",
    "    print(\"nice\")"
   ]
  },
  {
   "cell_type": "code",
   "execution_count": 7,
   "metadata": {},
   "outputs": [],
   "source": [
    "from telegram import Bot"
   ]
  },
  {
   "cell_type": "code",
   "execution_count": 8,
   "metadata": {},
   "outputs": [
    {
     "data": {
      "text/plain": [
       "<telegram.message.Message at 0x7ff730977910>"
      ]
     },
     "execution_count": 8,
     "metadata": {},
     "output_type": "execute_result"
    }
   ],
   "source": [
    "bot = Bot(\"1222703294:AAEnBuUwV4H8GSv-h2e3Jgfv77QMqpTRsVc\")\n",
    "msg=\"message from over the hill\"\n",
    "bot.sendMessage(chat_id=\"-1001331038106\",text=msg)"
   ]
  },
  {
   "cell_type": "code",
   "execution_count": null,
   "metadata": {},
   "outputs": [],
   "source": [
    "-1001284948052"
   ]
  },
  {
   "cell_type": "code",
   "execution_count": 1,
   "metadata": {},
   "outputs": [],
   "source": [
    "from datetime import datetime, timezone\n",
    "import pytz"
   ]
  },
  {
   "cell_type": "code",
   "execution_count": 22,
   "metadata": {},
   "outputs": [
    {
     "data": {
      "text/plain": [
       "datetime.datetime(2020, 8, 4, 13, 18, 18, 436057)"
      ]
     },
     "execution_count": 22,
     "metadata": {},
     "output_type": "execute_result"
    }
   ],
   "source": [
    "time = datetime.now()\n",
    "time"
   ]
  },
  {
   "cell_type": "code",
   "execution_count": 14,
   "metadata": {},
   "outputs": [
    {
     "data": {
      "text/plain": [
       "datetime.timezone.utc"
      ]
     },
     "execution_count": 14,
     "metadata": {},
     "output_type": "execute_result"
    }
   ],
   "source": [
    "tz = timezone.\n",
    "tz"
   ]
  },
  {
   "cell_type": "code",
   "execution_count": 16,
   "metadata": {},
   "outputs": [],
   "source": [
    "tz = pytz.timezone('America/Chicago')"
   ]
  },
  {
   "cell_type": "code",
   "execution_count": 12,
   "metadata": {},
   "outputs": [
    {
     "data": {
      "text/plain": [
       "'13'"
      ]
     },
     "execution_count": 12,
     "metadata": {},
     "output_type": "execute_result"
    }
   ],
   "source": [
    "new_time = time.replace(tzinfo=tz)\n",
    "new_time.strftime(\"%H\")"
   ]
  },
  {
   "cell_type": "code",
   "execution_count": 19,
   "metadata": {},
   "outputs": [],
   "source": [
    "new_time = tz.localize(time)"
   ]
  },
  {
   "cell_type": "code",
   "execution_count": 20,
   "metadata": {},
   "outputs": [
    {
     "data": {
      "text/plain": [
       "datetime.datetime(2020, 8, 4, 13, 15, 58, 912695, tzinfo=<DstTzInfo 'America/Chicago' CDT-1 day, 19:00:00 DST>)"
      ]
     },
     "execution_count": 20,
     "metadata": {},
     "output_type": "execute_result"
    }
   ],
   "source": [
    "new_time"
   ]
  },
  {
   "cell_type": "code",
   "execution_count": 27,
   "metadata": {},
   "outputs": [
    {
     "data": {
      "text/plain": [
       "'13'"
      ]
     },
     "execution_count": 27,
     "metadata": {},
     "output_type": "execute_result"
    }
   ],
   "source": [
    "time.astimezone(pytz.timezone('Asia/Kolkata')).strftime(\"%H\")"
   ]
  },
  {
   "cell_type": "code",
   "execution_count": 4,
   "metadata": {},
   "outputs": [],
   "source": [
    "text = \"some text\""
   ]
  },
  {
   "cell_type": "code",
   "execution_count": 9,
   "metadata": {},
   "outputs": [
    {
     "data": {
      "text/plain": [
       "<telegram.message.Message at 0x7fc0b4d8d0a0>"
      ]
     },
     "execution_count": 9,
     "metadata": {},
     "output_type": "execute_result"
    }
   ],
   "source": [
    "bot = Bot(\"1183471904:AAENQORzTAU_mTDXfv8xJU1s3rmK1PuzlpU\")\n",
    "msg=\"<b>message</b><i>from</i>\\n\"+text+\"<u>over</u> the hill\"\n",
    "bot.sendMessage(chat_id=\"-1001331038106\",text=msg, parse_mode='HTML')"
   ]
  },
  {
   "cell_type": "code",
   "execution_count": 1,
   "metadata": {},
   "outputs": [],
   "source": [
    "random_topics=['astronomy', 'latest+astronomy+news', 'astronomy+events','black+holes', 'space+exploration', 'hubble+space+telescope','space+observatory','astrophysics', 'Cosmology', 'Astrophotography']"
   ]
  },
  {
   "cell_type": "code",
   "execution_count": 2,
   "metadata": {},
   "outputs": [],
   "source": [
    "import pandas as pd"
   ]
  },
  {
   "cell_type": "code",
   "execution_count": 4,
   "metadata": {},
   "outputs": [],
   "source": [
    "df = pd.DataFrame(random_topics, columns=[\"Topics\"])"
   ]
  },
  {
   "cell_type": "code",
   "execution_count": 5,
   "metadata": {},
   "outputs": [
    {
     "data": {
      "text/html": [
       "<div>\n",
       "<style scoped>\n",
       "    .dataframe tbody tr th:only-of-type {\n",
       "        vertical-align: middle;\n",
       "    }\n",
       "\n",
       "    .dataframe tbody tr th {\n",
       "        vertical-align: top;\n",
       "    }\n",
       "\n",
       "    .dataframe thead th {\n",
       "        text-align: right;\n",
       "    }\n",
       "</style>\n",
       "<table border=\"1\" class=\"dataframe\">\n",
       "  <thead>\n",
       "    <tr style=\"text-align: right;\">\n",
       "      <th></th>\n",
       "      <th>Topics</th>\n",
       "    </tr>\n",
       "  </thead>\n",
       "  <tbody>\n",
       "    <tr>\n",
       "      <th>0</th>\n",
       "      <td>astronomy</td>\n",
       "    </tr>\n",
       "    <tr>\n",
       "      <th>1</th>\n",
       "      <td>latest+astronomy+news</td>\n",
       "    </tr>\n",
       "    <tr>\n",
       "      <th>2</th>\n",
       "      <td>astronomy+events</td>\n",
       "    </tr>\n",
       "    <tr>\n",
       "      <th>3</th>\n",
       "      <td>black+holes</td>\n",
       "    </tr>\n",
       "    <tr>\n",
       "      <th>4</th>\n",
       "      <td>space+exploration</td>\n",
       "    </tr>\n",
       "    <tr>\n",
       "      <th>5</th>\n",
       "      <td>hubble+space+telescope</td>\n",
       "    </tr>\n",
       "    <tr>\n",
       "      <th>6</th>\n",
       "      <td>space+observatory</td>\n",
       "    </tr>\n",
       "    <tr>\n",
       "      <th>7</th>\n",
       "      <td>astrophysics</td>\n",
       "    </tr>\n",
       "    <tr>\n",
       "      <th>8</th>\n",
       "      <td>Cosmology</td>\n",
       "    </tr>\n",
       "    <tr>\n",
       "      <th>9</th>\n",
       "      <td>Astrophotography</td>\n",
       "    </tr>\n",
       "  </tbody>\n",
       "</table>\n",
       "</div>"
      ],
      "text/plain": [
       "                   Topics\n",
       "0               astronomy\n",
       "1   latest+astronomy+news\n",
       "2        astronomy+events\n",
       "3             black+holes\n",
       "4       space+exploration\n",
       "5  hubble+space+telescope\n",
       "6       space+observatory\n",
       "7            astrophysics\n",
       "8               Cosmology\n",
       "9        Astrophotography"
      ]
     },
     "execution_count": 5,
     "metadata": {},
     "output_type": "execute_result"
    }
   ],
   "source": [
    "df"
   ]
  },
  {
   "cell_type": "code",
   "execution_count": 1,
   "metadata": {},
   "outputs": [],
   "source": [
    "url = \"http://www.google.com/search?q=orion+nebula+picture&rlz=1C5CHFA_enIN908IN908&source=lnms&tbm=isch&sa=X&ved=2ahUKEwjkxYHbzYTrAhVTSX0KHZSHDvYQ_AUoAXoECA4QAw&biw=1261&bih=914&safe=active\""
   ]
  },
  {
   "cell_type": "code",
   "execution_count": 2,
   "metadata": {},
   "outputs": [
    {
     "name": "stdout",
     "output_type": "stream",
     "text": [
      "http://www.google.com/search?q=orion+nebula+picture&rlz=1C5CHFA_enIN908IN908&source=lnms&tbm=isch&sa=X&ved=2ahUKEwjkxYHbzYTrAhVTSX0KHZSHDvYQ_AUoAXoECA4QAw&biw=1261&bih=914&safe=active\n"
     ]
    }
   ],
   "source": [
    "print(url)"
   ]
  },
  {
   "cell_type": "code",
   "execution_count": 87,
   "metadata": {},
   "outputs": [],
   "source": [
    "import urllib.request"
   ]
  },
  {
   "cell_type": "code",
   "execution_count": 56,
   "metadata": {
    "collapsed": true,
    "jupyter": {
     "outputs_hidden": true
    }
   },
   "outputs": [
    {
     "name": "stdout",
     "output_type": "stream",
     "text": [
      "<!DOCTYPE html PUBLIC \"-//WAPFORUM//DTD XHTML Mobile 1.0//EN\" \"http://www.wapforum.org/DTD/xhtml-mobile10.dtd\">\n",
      "<html lang=\"en-IN\" xmlns=\"http://www.w3.org/1999/xhtml\">\n",
      " <head>\n",
      "  <meta content=\"application/xhtml+xml; charset=utf-8\" http-equiv=\"Content-Type\"/>\n",
      "  <meta content=\"no-cache\" name=\"Cache-Control\"/>\n",
      "  <title>\n",
      "   orion nebula picture - Google Search\n",
      "  </title>\n",
      "  <style>\n",
      "   a{text-decoration:none;color:inherit}a:hover{text-decoration:underline}a img{border:0}body{font-family:Roboto,Helvetica,Arial,sans-serif;padding:8px;margin:0 auto;max-width:700px;min-width:240px}.FbhRzb{border-left:thin solid #e0e0e0;border-right:thin solid #e0e0e0;border-top:thin solid #e0e0e0;height:40px;overflow:hidden}.n692Zd{margin-bottom:10px}.cvifge{height:40px;border-spacing:0}.QvGUP{height:40px;padding:0 8px 0 8px;vertical-align:top}.O4cRJf{height:40px;width:100%;padding:0;padding-right:16px}.O1ePr{height:40px;padding:0;vertical-align:top}.kgJEQe{height:36px;width:98px;vertical-align:top;margin-top:4px}.lXLRf{vertical-align:top}.MhzMZd{border:0;vertical-align:middle;font-size:14px;height:40px;padding:0;width:100%;padding-left:16px}.xB0fq{height:40px;border:none;font-size:14px;background-color:#4285f4;color:#fff;padding:0 16px;margin:0;vertical-align:top;cursor:pointer}.xB0fq:focus{border:1px solid #000}.M7pB2{border:thin solid #e0e0e0;margin:0 0 3px 0;font-size:13px;font-weight:500;height:40px}.euZec{width:100%;height:40px;text-align:center;border-spacing:0}table.euZec td{padding:0;width:25%}.QIqI7{display:inline-block;padding-top:4px;font-weight:bold;color:#4285f4}.EY24We{border-bottom:2px solid #4285f4}.CsQyDc{display:inline-block;color:#757575}.TuS8Ad{font-size:14px}.dzp8ae{font-weight:bold;color:#333}.rEM8G{color:#686868}.bookcf{table-layout:fixed;width:100%;border-spacing:0}.InWNIe{text-align:center}.uZgmoc{border:thin solid #e0e0e0;color:#686868;font-size:14px;text-align:center;table-layout:fixed;width:100%}.frGj1b{display:block;padding:12px 0px 12px 0px;width:100%}.BnJWBc{text-align:center;padding:6px 0 13px 0;height:35px}.e3goi{vertical-align:top;padding:0;height:180px}.GpQGbf{margin:auto;border-collapse:collapse;border-spacing:0;width:100%}\n",
      "  </style>\n",
      " </head>\n",
      " <body>\n",
      "  <style>\n",
      "   .X6ZCif{color:rgba(0,0,0,.87);font-size:11px;line-height:16px;display:inline-block;padding-top:2px;overflow:hidden;padding-bottom:4px;width:100%}.TwVfHd{border-radius:16px;border:thin solid #e0e0e0;display:inline-block;padding:8px 8px;margin-right:8px;margin-bottom:4px}.yekiAe{background-color:#d3d3d3}.svla5d{width:100%}.ezO2md{border:thin solid #e0e0e0;padding:12px 16px 12px 16px;margin-bottom:10px;font-family:Roboto,Helvetica,Arial,sans-serif}.lIMUZd{font-family:Roboto,Helvetica,Arial,sans-serif}.TxbwNb{border-spacing:0}.K35ahc{width:100%}.owohpf{text-align:center}.RAyV4b{width:162px;height:140px;line-height:140px;overflow:'hidden';text-align:center}.t0fcAb{text-align:center;margin:auto;vertical-align:middle;max-width:162px;max-height:140px}.Tor4Ec{padding-top:2px;padding-bottom:8px}.fYyStc{word-break:break-word}.Fj3V3b{color:#1967D2;font-size:14px;line-height:20px}.FrIlee{color:rgba(0,0,0,.87);font-size:11px;line-height:16px}.F9iS2e{color:#70757A;font-size:11px;line-height:16px}.WMQ2Le{color:#70757A;font-size:12px;line-height:16px}.x3G5ab{color:rgba(0,0,0,.87);font-size:12px;line-height:16px}.fuLhoc{color:#1967D2;font-size:18px;line-height:24px}.epoveb{font-size:32px;line-height:40px;font-weight:400;color:rgba(0,0,0,.87)}.dXDvrc{color:#006621;font-size:14px;line-height:20px;word-wrap:break-word}.dloBPe{font-weight:bold}.YVIcad{color:#70757A}.JkVVdd{color:#dd4b39}.oXZRFd{color:#dd4b39}.MQHtg{color:#fbc02d}.pyMRrb{color:#3d9400}.EtTZid{color:#3d9400}.M3vVJe{color:#1967D2}.qXLe6d{display:block}.NHQNef{font-style:italic}.Cb8Z7c{white-space:pre}a.ZWRArf{text-decoration:none}a .CVA68e:hover{text-decoration:underline}\n",
      "  </style>\n",
      "  <div class=\"n692Zd\">\n",
      "   <div class=\"BnJWBc\">\n",
      "    <a class=\"lXLRf\" href=\"/?safe=active&amp;sa=X&amp;rlz=1C5CHFA_enIN908IN908&amp;biw=1261&amp;bih=914&amp;output=images&amp;ie=UTF-8&amp;tbm=isch&amp;ved=0ahUKEwjWhL3E2YTrAhURcCsKHdraAw8QPAgC\">\n",
      "     <img alt=\"Google logo\" class=\"kgJEQe\" src=\"/images/branding/searchlogo/1x/googlelogo_desk_heirloom_color_150x55dp.gif\"/>\n",
      "    </a>\n",
      "   </div>\n",
      "   <div class=\"FbhRzb\">\n",
      "    <form action=\"/search\">\n",
      "     <input name=\"safe\" type=\"hidden\" value=\"active\"/>\n",
      "     <input name=\"rlz\" type=\"hidden\" value=\"1C5CHFA_enIN908IN908\"/>\n",
      "     <input name=\"biw\" type=\"hidden\" value=\"1261\"/>\n",
      "     <input name=\"bih\" type=\"hidden\" value=\"914\"/>\n",
      "     <input name=\"ie\" type=\"hidden\" value=\"ISO-8859-1\"/>\n",
      "     <input name=\"tbm\" type=\"hidden\" value=\"isch\"/>\n",
      "     <input name=\"oq\" type=\"hidden\"/>\n",
      "     <input name=\"aqs\" type=\"hidden\"/>\n",
      "     <table class=\"cvifge\">\n",
      "      <tr>\n",
      "       <td class=\"O4cRJf\">\n",
      "        <input class=\"MhzMZd\" name=\"q\" type=\"text\" value=\"orion nebula picture\"/>\n",
      "       </td>\n",
      "       <td class=\"O1ePr\">\n",
      "        <input class=\"xB0fq\" type=\"submit\" value=\"Search\"/>\n",
      "       </td>\n",
      "      </tr>\n",
      "     </table>\n",
      "    </form>\n",
      "   </div>\n",
      "   <div class=\"M7pB2\">\n",
      "    <table class=\"euZec\">\n",
      "     <tbody>\n",
      "      <tr>\n",
      "       <td>\n",
      "        <a class=\"CsQyDc\" href=\"/search?q=orion+nebula+picture&amp;safe=active&amp;rlz=1C5CHFA_enIN908IN908&amp;biw=1261&amp;bih=914&amp;ie=UTF-8&amp;source=lnms&amp;sa=X&amp;ved=0ahUKEwjWhL3E2YTrAhURcCsKHdraAw8Q_AUIBCgA\">\n",
      "         ALL\n",
      "        </a>\n",
      "       </td>\n",
      "       <td class=\"EY24We\">\n",
      "        <span class=\"QIqI7\">\n",
      "         IMAGES\n",
      "        </span>\n",
      "       </td>\n",
      "       <td>\n",
      "        <a class=\"CsQyDc\" href=\"/search?q=orion+nebula+picture&amp;safe=active&amp;rlz=1C5CHFA_enIN908IN908&amp;biw=1261&amp;bih=914&amp;ie=UTF-8&amp;tbm=nws&amp;source=lnms&amp;sa=X&amp;ved=0ahUKEwjWhL3E2YTrAhURcCsKHdraAw8Q_AUIBigC\">\n",
      "         NEWS\n",
      "        </a>\n",
      "       </td>\n",
      "       <td>\n",
      "        <a class=\"CsQyDc\" href=\"/search?q=orion+nebula+picture&amp;safe=active&amp;rlz=1C5CHFA_enIN908IN908&amp;biw=1261&amp;bih=914&amp;ie=UTF-8&amp;tbm=vid&amp;source=lnms&amp;sa=X&amp;ved=0ahUKEwjWhL3E2YTrAhURcCsKHdraAw8Q_AUIBygD\">\n",
      "         VIDEOS\n",
      "        </a>\n",
      "       </td>\n",
      "      </tr>\n",
      "     </tbody>\n",
      "    </table>\n",
      "   </div>\n",
      "  </div>\n",
      "  <div class=\"X6ZCif\">\n",
      "   <a class=\"TwVfHd\" href=\"/search?safe=active&amp;rlz=1C5CHFA_enIN908IN908&amp;biw=1261&amp;bih=914&amp;ie=UTF-8&amp;tbm=isch&amp;q=orion+nebula+picture&amp;chips=q:orion+nebula+picture,online_chips:m42&amp;sa=X&amp;ved=0ahUKEwjWhL3E2YTrAhURcCsKHdraAw8Q4lYICygA\">\n",
      "    m42\n",
      "   </a>\n",
      "   <a class=\"TwVfHd\" href=\"/search?safe=active&amp;rlz=1C5CHFA_enIN908IN908&amp;biw=1261&amp;bih=914&amp;ie=UTF-8&amp;tbm=isch&amp;q=orion+nebula+picture&amp;chips=q:orion+nebula+picture,online_chips:messier+42&amp;sa=X&amp;ved=0ahUKEwjWhL3E2YTrAhURcCsKHdraAw8Q4lYIDCgB\">\n",
      "    messier 42\n",
      "   </a>\n",
      "   <a class=\"TwVfHd\" href=\"/search?safe=active&amp;rlz=1C5CHFA_enIN908IN908&amp;biw=1261&amp;bih=914&amp;ie=UTF-8&amp;tbm=isch&amp;q=orion+nebula+picture&amp;chips=q:orion+nebula+picture,online_chips:nasa&amp;sa=X&amp;ved=0ahUKEwjWhL3E2YTrAhURcCsKHdraAw8Q4lYIDSgC\">\n",
      "    nasa\n",
      "   </a>\n",
      "   <a class=\"TwVfHd\" href=\"/search?safe=active&amp;rlz=1C5CHFA_enIN908IN908&amp;biw=1261&amp;bih=914&amp;ie=UTF-8&amp;tbm=isch&amp;q=orion+nebula+picture&amp;chips=q:orion+nebula+picture,online_chips:hubble&amp;sa=X&amp;ved=0ahUKEwjWhL3E2YTrAhURcCsKHdraAw8Q4lYIDigD\">\n",
      "    hubble\n",
      "   </a>\n",
      "   <a class=\"TwVfHd\" href=\"/search?safe=active&amp;rlz=1C5CHFA_enIN908IN908&amp;biw=1261&amp;bih=914&amp;ie=UTF-8&amp;tbm=isch&amp;q=orion+nebula+picture&amp;chips=q:orion+nebula+picture,online_chips:infrared&amp;sa=X&amp;ved=0ahUKEwjWhL3E2YTrAhURcCsKHdraAw8Q4lYIDygE\">\n",
      "    infrared\n",
      "   </a>\n",
      "   <a class=\"TwVfHd\" href=\"/search?safe=active&amp;rlz=1C5CHFA_enIN908IN908&amp;biw=1261&amp;bih=914&amp;ie=UTF-8&amp;tbm=isch&amp;q=orion+nebula+picture&amp;chips=q:orion+nebula+picture,online_chips:stellar+nursery&amp;sa=X&amp;ved=0ahUKEwjWhL3E2YTrAhURcCsKHdraAw8Q4lYIECgF\">\n",
      "    stellar nursery\n",
      "   </a>\n",
      "   <a class=\"TwVfHd\" href=\"/search?safe=active&amp;rlz=1C5CHFA_enIN908IN908&amp;biw=1261&amp;bih=914&amp;ie=UTF-8&amp;tbm=isch&amp;q=orion+nebula+picture&amp;chips=q:orion+nebula+picture,online_chips:star+cluster&amp;sa=X&amp;ved=0ahUKEwjWhL3E2YTrAhURcCsKHdraAw8Q4lYIESgG\">\n",
      "    star cluster\n",
      "   </a>\n",
      "   <a class=\"TwVfHd\" href=\"/search?safe=active&amp;rlz=1C5CHFA_enIN908IN908&amp;biw=1261&amp;bih=914&amp;ie=UTF-8&amp;tbm=isch&amp;q=orion+nebula+picture&amp;chips=q:orion+nebula+picture,online_chips:orion's+belt&amp;sa=X&amp;ved=0ahUKEwjWhL3E2YTrAhURcCsKHdraAw8Q4lYIEigH\">\n",
      "    orion's belt\n",
      "   </a>\n",
      "   <a class=\"TwVfHd\" href=\"/search?safe=active&amp;rlz=1C5CHFA_enIN908IN908&amp;biw=1261&amp;bih=914&amp;ie=UTF-8&amp;tbm=isch&amp;q=orion+nebula+picture&amp;chips=q:orion+nebula+picture,online_chips:hubble+space+telescope&amp;sa=X&amp;ved=0ahUKEwjWhL3E2YTrAhURcCsKHdraAw8Q4lYIEygI\">\n",
      "    hubble space telescope\n",
      "   </a>\n",
      "   <a class=\"TwVfHd\" href=\"/search?safe=active&amp;rlz=1C5CHFA_enIN908IN908&amp;biw=1261&amp;bih=914&amp;ie=UTF-8&amp;tbm=isch&amp;q=orion+nebula+picture&amp;chips=q:orion+nebula+picture,online_chips:galaxy&amp;sa=X&amp;ved=0ahUKEwjWhL3E2YTrAhURcCsKHdraAw8Q4lYIFCgJ\">\n",
      "    galaxy\n",
      "   </a>\n",
      "  </div>\n",
      "  <div>\n",
      "   <table class=\"GpQGbf\">\n",
      "    <tr>\n",
      "     <td align=\"center\" class=\"e3goi\">\n",
      "      <div class=\"svla5d\">\n",
      "       <div>\n",
      "        <div class=\"lIMUZd\">\n",
      "         <div>\n",
      "          <table class=\"TxbwNb\">\n",
      "           <tr>\n",
      "            <td>\n",
      "             <a href=\"/url?q=https://en.wikipedia.org/wiki/Orion_Nebula&amp;sa=U&amp;ved=2ahUKEwjWhL3E2YTrAhURcCsKHdraAw8QqoUBMAB6BAgAEAE&amp;usg=AOvVaw1DJIHfSfW7-a1TdxZD_vaM\">\n",
      "              <div class=\"RAyV4b\">\n",
      "               <img alt=\"\" class=\"t0fcAb\" src=\"https://encrypted-tbn0.gstatic.com/images?q=tbn:ANd9GcRI-gnOdY-P2Y1PPkQD7sFwU4XVo_nWeqIZgZyeOvYn7-WPcosbxWujWX2q6g&amp;s\"/>\n",
      "              </div>\n",
      "             </a>\n",
      "            </td>\n",
      "           </tr>\n",
      "           <tr>\n",
      "            <td>\n",
      "             <a href=\"/url?q=https://en.wikipedia.org/wiki/Orion_Nebula&amp;sa=U&amp;ved=2ahUKEwjWhL3E2YTrAhURcCsKHdraAw8Qr4kDMAB6BAgAEAI&amp;usg=AOvVaw2D17qHO-LnhLjwcbrt4FXx\">\n",
      "              <div class=\"Tor4Ec\">\n",
      "               <span class=\"qXLe6d x3G5ab\">\n",
      "                <span class=\"fYyStc\">\n",
      "                 Orion Nebula - Wikipedia\n",
      "                </span>\n",
      "               </span>\n",
      "               <span class=\"qXLe6d F9iS2e\">\n",
      "                <span class=\"fYyStc\">\n",
      "                 en.wikipedia.org\n",
      "                </span>\n",
      "               </span>\n",
      "              </div>\n",
      "             </a>\n",
      "            </td>\n",
      "           </tr>\n",
      "          </table>\n",
      "         </div>\n",
      "        </div>\n",
      "       </div>\n",
      "      </div>\n",
      "     </td>\n",
      "     <td align=\"center\" class=\"e3goi\">\n",
      "      <div class=\"svla5d\">\n",
      "       <div>\n",
      "        <div class=\"lIMUZd\">\n",
      "         <div>\n",
      "          <table class=\"TxbwNb\">\n",
      "           <tr>\n",
      "            <td>\n",
      "             <a href=\"/url?q=https://www.space.com/orion-nebula-visible-light-photo-miguel-claro.html&amp;sa=U&amp;ved=2ahUKEwjWhL3E2YTrAhURcCsKHdraAw8QqoUBMAF6BAgSEAE&amp;usg=AOvVaw3TGvsyipMDv0Jn8vicbODK\">\n",
      "              <div class=\"RAyV4b\">\n",
      "               <img alt=\"\" class=\"t0fcAb\" src=\"https://encrypted-tbn0.gstatic.com/images?q=tbn:ANd9GcSOl5DizW2xxy-kHnfdk_FaGPEZcpuELxd-EOvVEtrOZ2xrHltvyNWVe6jsIQ&amp;s\"/>\n",
      "              </div>\n",
      "             </a>\n",
      "            </td>\n",
      "           </tr>\n",
      "           <tr>\n",
      "            <td>\n",
      "             <a href=\"/url?q=https://www.space.com/orion-nebula-visible-light-photo-miguel-claro.html&amp;sa=U&amp;ved=2ahUKEwjWhL3E2YTrAhURcCsKHdraAw8Qr4kDMAF6BAgSEAI&amp;usg=AOvVaw2WQnqa18igNF00ZDvVv4cU\">\n",
      "              <div class=\"Tor4Ec\">\n",
      "               <span class=\"qXLe6d x3G5ab\">\n",
      "                <span class=\"fYyStc\">\n",
      "                 Gorgeous Orion Nebula Glows...\n",
      "                </span>\n",
      "               </span>\n",
      "               <span class=\"qXLe6d F9iS2e\">\n",
      "                <span class=\"fYyStc\">\n",
      "                 space.com\n",
      "                </span>\n",
      "               </span>\n",
      "              </div>\n",
      "             </a>\n",
      "            </td>\n",
      "           </tr>\n",
      "          </table>\n",
      "         </div>\n",
      "        </div>\n",
      "       </div>\n",
      "      </div>\n",
      "     </td>\n",
      "     <td align=\"center\" class=\"e3goi\">\n",
      "      <div class=\"svla5d\">\n",
      "       <div>\n",
      "        <div class=\"lIMUZd\">\n",
      "         <div>\n",
      "          <table class=\"TxbwNb\">\n",
      "           <tr>\n",
      "            <td>\n",
      "             <a href=\"/url?q=https://earthsky.org/clusters-nebulae-galaxies/orion-nebula-jewel-in-orions-sword&amp;sa=U&amp;ved=2ahUKEwjWhL3E2YTrAhURcCsKHdraAw8QqoUBMAJ6BAgTEAE&amp;usg=AOvVaw2I5K76UKqLEpJQlYraphjn\">\n",
      "              <div class=\"RAyV4b\">\n",
      "               <img alt=\"\" class=\"t0fcAb\" src=\"https://encrypted-tbn0.gstatic.com/images?q=tbn:ANd9GcQzkJBgjncQ26H_adhFCs0zvJDziy2jDBJuFLaot6wxKZvtizlGeOU70p1jEA&amp;s\"/>\n",
      "              </div>\n",
      "             </a>\n",
      "            </td>\n",
      "           </tr>\n",
      "           <tr>\n",
      "            <td>\n",
      "             <a href=\"/url?q=https://earthsky.org/clusters-nebulae-galaxies/orion-nebula-jewel-in-orions-sword&amp;sa=U&amp;ved=2ahUKEwjWhL3E2YTrAhURcCsKHdraAw8Qr4kDMAJ6BAgTEAI&amp;usg=AOvVaw3xxZX-nhF6_2k_kfNzS464\">\n",
      "              <div class=\"Tor4Ec\">\n",
      "               <span class=\"qXLe6d x3G5ab\">\n",
      "                <span class=\"fYyStc\">\n",
      "                 All you need to know: The...\n",
      "                </span>\n",
      "               </span>\n",
      "               <span class=\"qXLe6d F9iS2e\">\n",
      "                <span class=\"fYyStc\">\n",
      "                 earthsky.org\n",
      "                </span>\n",
      "               </span>\n",
      "              </div>\n",
      "             </a>\n",
      "            </td>\n",
      "           </tr>\n",
      "          </table>\n",
      "         </div>\n",
      "        </div>\n",
      "       </div>\n",
      "      </div>\n",
      "     </td>\n",
      "     <td align=\"center\" class=\"e3goi\">\n",
      "      <div class=\"svla5d\">\n",
      "       <div>\n",
      "        <div class=\"lIMUZd\">\n",
      "         <div>\n",
      "          <table class=\"TxbwNb\">\n",
      "           <tr>\n",
      "            <td>\n",
      "             <a href=\"/url?q=https://earthsky.org/clusters-nebulae-galaxies/orion-nebula-jewel-in-orions-sword&amp;sa=U&amp;ved=2ahUKEwjWhL3E2YTrAhURcCsKHdraAw8QqoUBMAN6BAgREAE&amp;usg=AOvVaw0B1qeceQhnlTlz_0I1mokH\">\n",
      "              <div class=\"RAyV4b\">\n",
      "               <img alt=\"\" class=\"t0fcAb\" src=\"https://encrypted-tbn0.gstatic.com/images?q=tbn:ANd9GcTG8InnTSsSooQ8lhGYDRr0P6-mi382x8_Azlai3q3Voro2oWLK_lPnG-b5wqE&amp;s\"/>\n",
      "              </div>\n",
      "             </a>\n",
      "            </td>\n",
      "           </tr>\n",
      "           <tr>\n",
      "            <td>\n",
      "             <a href=\"/url?q=https://earthsky.org/clusters-nebulae-galaxies/orion-nebula-jewel-in-orions-sword&amp;sa=U&amp;ved=2ahUKEwjWhL3E2YTrAhURcCsKHdraAw8Qr4kDMAN6BAgREAI&amp;usg=AOvVaw1AdaFlPr-vGvUf8khmixZD\">\n",
      "              <div class=\"Tor4Ec\">\n",
      "               <span class=\"qXLe6d x3G5ab\">\n",
      "                <span class=\"fYyStc\">\n",
      "                 All you need to know: The...\n",
      "                </span>\n",
      "               </span>\n",
      "               <span class=\"qXLe6d F9iS2e\">\n",
      "                <span class=\"fYyStc\">\n",
      "                 earthsky.org\n",
      "                </span>\n",
      "               </span>\n",
      "              </div>\n",
      "             </a>\n",
      "            </td>\n",
      "           </tr>\n",
      "          </table>\n",
      "         </div>\n",
      "        </div>\n",
      "       </div>\n",
      "      </div>\n",
      "     </td>\n",
      "    </tr>\n",
      "    <tr>\n",
      "     <td align=\"center\" class=\"e3goi\">\n",
      "      <div class=\"svla5d\">\n",
      "       <div>\n",
      "        <div class=\"lIMUZd\">\n",
      "         <div>\n",
      "          <table class=\"TxbwNb\">\n",
      "           <tr>\n",
      "            <td>\n",
      "             <a href=\"/url?q=https://apod.nasa.gov/apod/ap191030.html&amp;sa=U&amp;ved=2ahUKEwjWhL3E2YTrAhURcCsKHdraAw8QqoUBMAR6BAgQEAE&amp;usg=AOvVaw0iQiVYXc4NMAQ0V9vdiNM4\">\n",
      "              <div class=\"RAyV4b\">\n",
      "               <img alt=\"\" class=\"t0fcAb\" src=\"https://encrypted-tbn0.gstatic.com/images?q=tbn:ANd9GcTwLxOOgOAQ8uFCFrzKVQqd39sZ9fTJaGjJOU_6uPhbp1xdBhb_Mmywz2_n0g&amp;s\"/>\n",
      "              </div>\n",
      "             </a>\n",
      "            </td>\n",
      "           </tr>\n",
      "           <tr>\n",
      "            <td>\n",
      "             <a href=\"/url?q=https://apod.nasa.gov/apod/ap191030.html&amp;sa=U&amp;ved=2ahUKEwjWhL3E2YTrAhURcCsKHdraAw8Qr4kDMAR6BAgQEAI&amp;usg=AOvVaw2LI5o2OdALgbBOZygIvDmT\">\n",
      "              <div class=\"Tor4Ec\">\n",
      "               <span class=\"qXLe6d x3G5ab\">\n",
      "                <span class=\"fYyStc\">\n",
      "                 APOD: 2019 October 30 -...\n",
      "                </span>\n",
      "               </span>\n",
      "               <span class=\"qXLe6d F9iS2e\">\n",
      "                <span class=\"fYyStc\">\n",
      "                 apod.nasa.gov\n",
      "                </span>\n",
      "               </span>\n",
      "              </div>\n",
      "             </a>\n",
      "            </td>\n",
      "           </tr>\n",
      "          </table>\n",
      "         </div>\n",
      "        </div>\n",
      "       </div>\n",
      "      </div>\n",
      "     </td>\n",
      "     <td align=\"center\" class=\"e3goi\">\n",
      "      <div class=\"svla5d\">\n",
      "       <div>\n",
      "        <div class=\"lIMUZd\">\n",
      "         <div>\n",
      "          <table class=\"TxbwNb\">\n",
      "           <tr>\n",
      "            <td>\n",
      "             <a href=\"/url?q=https://astrodonimaging.com/gallery/m42-the-great-orion-nebula/&amp;sa=U&amp;ved=2ahUKEwjWhL3E2YTrAhURcCsKHdraAw8QqoUBMAV6BAgPEAE&amp;usg=AOvVaw2sIqDC4s1t4HfPdRuP8TVh\">\n",
      "              <div class=\"RAyV4b\">\n",
      "               <img alt=\"\" class=\"t0fcAb\" src=\"https://encrypted-tbn0.gstatic.com/images?q=tbn:ANd9GcTOLJOKeXrqzJyJLlOP4mr0zwOWyePUvriSuR4bVaQWNxI0sDuH3BIhme-wfoI&amp;s\"/>\n",
      "              </div>\n",
      "             </a>\n",
      "            </td>\n",
      "           </tr>\n",
      "           <tr>\n",
      "            <td>\n",
      "             <a href=\"/url?q=https://astrodonimaging.com/gallery/m42-the-great-orion-nebula/&amp;sa=U&amp;ved=2ahUKEwjWhL3E2YTrAhURcCsKHdraAw8Qr4kDMAV6BAgPEAI&amp;usg=AOvVaw0qqPDjGnzlGXlFcW76WBZP\">\n",
      "              <div class=\"Tor4Ec\">\n",
      "               <span class=\"qXLe6d x3G5ab\">\n",
      "                <span class=\"fYyStc\">\n",
      "                 M42 The Great Orion Nebula...\n",
      "                </span>\n",
      "               </span>\n",
      "               <span class=\"qXLe6d F9iS2e\">\n",
      "                <span class=\"fYyStc\">\n",
      "                 astrodonimaging.com\n",
      "                </span>\n",
      "               </span>\n",
      "              </div>\n",
      "             </a>\n",
      "            </td>\n",
      "           </tr>\n",
      "          </table>\n",
      "         </div>\n",
      "        </div>\n",
      "       </div>\n",
      "      </div>\n",
      "     </td>\n",
      "     <td align=\"center\" class=\"e3goi\">\n",
      "      <div class=\"svla5d\">\n",
      "       <div>\n",
      "        <div class=\"lIMUZd\">\n",
      "         <div>\n",
      "          <table class=\"TxbwNb\">\n",
      "           <tr>\n",
      "            <td>\n",
      "             <a href=\"/url?q=https://www.youtube.com/watch%3Fv%3DxCFg5udYbAg&amp;sa=U&amp;ved=2ahUKEwjWhL3E2YTrAhURcCsKHdraAw8QqoUBMAZ6BAgOEAE&amp;usg=AOvVaw2I6uSvDUArsx-bXYjysEaQ\">\n",
      "              <div class=\"RAyV4b\">\n",
      "               <img alt=\"\" class=\"t0fcAb\" src=\"https://encrypted-tbn0.gstatic.com/images?q=tbn:ANd9GcR8xZ1JRdI1EE-0Ck7zkcUnUV1Q4kYcLCWAqd-cwZNp5erCVDrVEM3n2YWFGQ&amp;s\"/>\n",
      "              </div>\n",
      "             </a>\n",
      "            </td>\n",
      "           </tr>\n",
      "           <tr>\n",
      "            <td>\n",
      "             <a href=\"/url?q=https://www.youtube.com/watch%3Fv%3DxCFg5udYbAg&amp;sa=U&amp;ved=2ahUKEwjWhL3E2YTrAhURcCsKHdraAw8Qr4kDMAZ6BAgOEAI&amp;usg=AOvVaw3m7TJNo39AMWY3CTL11l4g\">\n",
      "              <div class=\"Tor4Ec\">\n",
      "               <span class=\"qXLe6d x3G5ab\">\n",
      "                <span class=\"fYyStc\">\n",
      "                 Flight Through Orion Nebula...\n",
      "                </span>\n",
      "               </span>\n",
      "               <span class=\"qXLe6d F9iS2e\">\n",
      "                <span class=\"fYyStc\">\n",
      "                 youtube.com\n",
      "                </span>\n",
      "               </span>\n",
      "              </div>\n",
      "             </a>\n",
      "            </td>\n",
      "           </tr>\n",
      "          </table>\n",
      "         </div>\n",
      "        </div>\n",
      "       </div>\n",
      "      </div>\n",
      "     </td>\n",
      "     <td align=\"center\" class=\"e3goi\">\n",
      "      <div class=\"svla5d\">\n",
      "       <div>\n",
      "        <div class=\"lIMUZd\">\n",
      "         <div>\n",
      "          <table class=\"TxbwNb\">\n",
      "           <tr>\n",
      "            <td>\n",
      "             <a href=\"/url?q=https://en.wikipedia.org/wiki/Orion_Nebula&amp;sa=U&amp;ved=2ahUKEwjWhL3E2YTrAhURcCsKHdraAw8QqoUBMAd6BAgNEAE&amp;usg=AOvVaw2kdreBQc7rg7ev006d4Rt0\">\n",
      "              <div class=\"RAyV4b\">\n",
      "               <img alt=\"\" class=\"t0fcAb\" src=\"https://encrypted-tbn0.gstatic.com/images?q=tbn:ANd9GcRTycKILiD0OdDABE5uhfU1aOcfGVpkthzLcCg2wZYW8lRfwY9wn5gZblwN9bY&amp;s\"/>\n",
      "              </div>\n",
      "             </a>\n",
      "            </td>\n",
      "           </tr>\n",
      "           <tr>\n",
      "            <td>\n",
      "             <a href=\"/url?q=https://en.wikipedia.org/wiki/Orion_Nebula&amp;sa=U&amp;ved=2ahUKEwjWhL3E2YTrAhURcCsKHdraAw8Qr4kDMAd6BAgNEAI&amp;usg=AOvVaw0QysKfoL5KAeHyAcHPzKTV\">\n",
      "              <div class=\"Tor4Ec\">\n",
      "               <span class=\"qXLe6d x3G5ab\">\n",
      "                <span class=\"fYyStc\">\n",
      "                 Orion Nebula - Wikipedia\n",
      "                </span>\n",
      "               </span>\n",
      "               <span class=\"qXLe6d F9iS2e\">\n",
      "                <span class=\"fYyStc\">\n",
      "                 en.wikipedia.org\n",
      "                </span>\n",
      "               </span>\n",
      "              </div>\n",
      "             </a>\n",
      "            </td>\n",
      "           </tr>\n",
      "          </table>\n",
      "         </div>\n",
      "        </div>\n",
      "       </div>\n",
      "      </div>\n",
      "     </td>\n",
      "    </tr>\n",
      "    <tr>\n",
      "     <td align=\"center\" class=\"e3goi\">\n",
      "      <div class=\"svla5d\">\n",
      "       <div>\n",
      "        <div class=\"lIMUZd\">\n",
      "         <div>\n",
      "          <table class=\"TxbwNb\">\n",
      "           <tr>\n",
      "            <td>\n",
      "             <a href=\"/url?q=https://www.sierraclub.org/sierra/january-stargazing-orion-nebula&amp;sa=U&amp;ved=2ahUKEwjWhL3E2YTrAhURcCsKHdraAw8QqoUBMAh6BAgLEAE&amp;usg=AOvVaw1zHQe1DHXuZSrPXciK2ftA\">\n",
      "              <div class=\"RAyV4b\">\n",
      "               <img alt=\"\" class=\"t0fcAb\" src=\"https://encrypted-tbn0.gstatic.com/images?q=tbn:ANd9GcTDeZml-XtBYIrItJLFjoDLKlYD1E2w17Tnf8mOvLd6o2JkLU5lHKevgOVINA&amp;s\"/>\n",
      "              </div>\n",
      "             </a>\n",
      "            </td>\n",
      "           </tr>\n",
      "           <tr>\n",
      "            <td>\n",
      "             <a href=\"/url?q=https://www.sierraclub.org/sierra/january-stargazing-orion-nebula&amp;sa=U&amp;ved=2ahUKEwjWhL3E2YTrAhURcCsKHdraAw8Qr4kDMAh6BAgLEAI&amp;usg=AOvVaw2Tu52Pq5bHfgXHXe3UDM6w\">\n",
      "              <div class=\"Tor4Ec\">\n",
      "               <span class=\"qXLe6d x3G5ab\">\n",
      "                <span class=\"fYyStc\">\n",
      "                 Stargazing in January (and...\n",
      "                </span>\n",
      "               </span>\n",
      "               <span class=\"qXLe6d F9iS2e\">\n",
      "                <span class=\"fYyStc\">\n",
      "                 sierraclub.org\n",
      "                </span>\n",
      "               </span>\n",
      "              </div>\n",
      "             </a>\n",
      "            </td>\n",
      "           </tr>\n",
      "          </table>\n",
      "         </div>\n",
      "        </div>\n",
      "       </div>\n",
      "      </div>\n",
      "     </td>\n",
      "     <td align=\"center\" class=\"e3goi\">\n",
      "      <div class=\"svla5d\">\n",
      "       <div>\n",
      "        <div class=\"lIMUZd\">\n",
      "         <div>\n",
      "          <table class=\"TxbwNb\">\n",
      "           <tr>\n",
      "            <td>\n",
      "             <a href=\"/url?q=https://www.eso.org/public/news/eso0421/&amp;sa=U&amp;ved=2ahUKEwjWhL3E2YTrAhURcCsKHdraAw8QqoUBMAl6BAgIEAE&amp;usg=AOvVaw0KrdohMtpBMOYKXmjMviHz\">\n",
      "              <div class=\"RAyV4b\">\n",
      "               <img alt=\"\" class=\"t0fcAb\" src=\"https://encrypted-tbn0.gstatic.com/images?q=tbn:ANd9GcSipUsaqPNgqGe-gnUgkl0Z2sMLk-srIwO3GEavtxCIwPKeUqYUmpmjp-e28w&amp;s\"/>\n",
      "              </div>\n",
      "             </a>\n",
      "            </td>\n",
      "           </tr>\n",
      "           <tr>\n",
      "            <td>\n",
      "             <a href=\"/url?q=https://www.eso.org/public/news/eso0421/&amp;sa=U&amp;ved=2ahUKEwjWhL3E2YTrAhURcCsKHdraAw8Qr4kDMAl6BAgIEAI&amp;usg=AOvVaw3W7D2Ym6tA7j69adkz4i-w\">\n",
      "              <div class=\"Tor4Ec\">\n",
      "               <span class=\"qXLe6d x3G5ab\">\n",
      "                <span class=\"fYyStc\">\n",
      "                 Revisiting the Orion Nebula...\n",
      "                </span>\n",
      "               </span>\n",
      "               <span class=\"qXLe6d F9iS2e\">\n",
      "                <span class=\"fYyStc\">\n",
      "                 eso.org\n",
      "                </span>\n",
      "               </span>\n",
      "              </div>\n",
      "             </a>\n",
      "            </td>\n",
      "           </tr>\n",
      "          </table>\n",
      "         </div>\n",
      "        </div>\n",
      "       </div>\n",
      "      </div>\n",
      "     </td>\n",
      "     <td align=\"center\" class=\"e3goi\">\n",
      "      <div class=\"svla5d\">\n",
      "       <div>\n",
      "        <div class=\"lIMUZd\">\n",
      "         <div>\n",
      "          <table class=\"TxbwNb\">\n",
      "           <tr>\n",
      "            <td>\n",
      "             <a href=\"/url?q=https://earthsky.org/clusters-nebulae-galaxies/orion-nebula-jewel-in-orions-sword&amp;sa=U&amp;ved=2ahUKEwjWhL3E2YTrAhURcCsKHdraAw8QqoUBMAp6BAgJEAE&amp;usg=AOvVaw34vUIZVKxi8sLzbeS3m2L7\">\n",
      "              <div class=\"RAyV4b\">\n",
      "               <img alt=\"\" class=\"t0fcAb\" src=\"https://encrypted-tbn0.gstatic.com/images?q=tbn:ANd9GcSs0JPBqixLApg0EZVvJuDrDqP6e9n_EY7R4U10MKvJEDbhyLCrpXeFVSIORVk&amp;s\"/>\n",
      "              </div>\n",
      "             </a>\n",
      "            </td>\n",
      "           </tr>\n",
      "           <tr>\n",
      "            <td>\n",
      "             <a href=\"/url?q=https://earthsky.org/clusters-nebulae-galaxies/orion-nebula-jewel-in-orions-sword&amp;sa=U&amp;ved=2ahUKEwjWhL3E2YTrAhURcCsKHdraAw8Qr4kDMAp6BAgJEAI&amp;usg=AOvVaw387NrubkNdOSCOEGEX8w4k\">\n",
      "              <div class=\"Tor4Ec\">\n",
      "               <span class=\"qXLe6d x3G5ab\">\n",
      "                <span class=\"fYyStc\">\n",
      "                 All you need to know: The...\n",
      "                </span>\n",
      "               </span>\n",
      "               <span class=\"qXLe6d F9iS2e\">\n",
      "                <span class=\"fYyStc\">\n",
      "                 earthsky.org\n",
      "                </span>\n",
      "               </span>\n",
      "              </div>\n",
      "             </a>\n",
      "            </td>\n",
      "           </tr>\n",
      "          </table>\n",
      "         </div>\n",
      "        </div>\n",
      "       </div>\n",
      "      </div>\n",
      "     </td>\n",
      "     <td align=\"center\" class=\"e3goi\">\n",
      "      <div class=\"svla5d\">\n",
      "       <div>\n",
      "        <div class=\"lIMUZd\">\n",
      "         <div>\n",
      "          <table class=\"TxbwNb\">\n",
      "           <tr>\n",
      "            <td>\n",
      "             <a href=\"/url?q=https://apod.nasa.gov/apod/ap160718.html&amp;sa=U&amp;ved=2ahUKEwjWhL3E2YTrAhURcCsKHdraAw8QqoUBMAt6BAgKEAE&amp;usg=AOvVaw1Hq1JbI5j3gsNRtAoTCPeB\">\n",
      "              <div class=\"RAyV4b\">\n",
      "               <img alt=\"\" class=\"t0fcAb\" src=\"https://encrypted-tbn0.gstatic.com/images?q=tbn:ANd9GcTbeoYyaaDolxcg24ZNO2hx2GrZymQiJwcymZOzlWr-q5bpMWN8GO5Vqmx48A&amp;s\"/>\n",
      "              </div>\n",
      "             </a>\n",
      "            </td>\n",
      "           </tr>\n",
      "           <tr>\n",
      "            <td>\n",
      "             <a href=\"/url?q=https://apod.nasa.gov/apod/ap160718.html&amp;sa=U&amp;ved=2ahUKEwjWhL3E2YTrAhURcCsKHdraAw8Qr4kDMAt6BAgKEAI&amp;usg=AOvVaw1VAteWzY5yew11qZxAciOS\">\n",
      "              <div class=\"Tor4Ec\">\n",
      "               <span class=\"qXLe6d x3G5ab\">\n",
      "                <span class=\"fYyStc\">\n",
      "                 APOD: 2016 July 18 - The...\n",
      "                </span>\n",
      "               </span>\n",
      "               <span class=\"qXLe6d F9iS2e\">\n",
      "                <span class=\"fYyStc\">\n",
      "                 apod.nasa.gov\n",
      "                </span>\n",
      "               </span>\n",
      "              </div>\n",
      "             </a>\n",
      "            </td>\n",
      "           </tr>\n",
      "          </table>\n",
      "         </div>\n",
      "        </div>\n",
      "       </div>\n",
      "      </div>\n",
      "     </td>\n",
      "    </tr>\n",
      "    <tr>\n",
      "     <td align=\"center\" class=\"e3goi\">\n",
      "      <div class=\"svla5d\">\n",
      "       <div>\n",
      "        <div class=\"lIMUZd\">\n",
      "         <div>\n",
      "          <table class=\"TxbwNb\">\n",
      "           <tr>\n",
      "            <td>\n",
      "             <a href=\"/url?q=https://www.eso.org/public/images/eso1723a/&amp;sa=U&amp;ved=2ahUKEwjWhL3E2YTrAhURcCsKHdraAw8QqoUBMAx6BAgMEAE&amp;usg=AOvVaw3YGEsA_GgoLYiIQ-1NzeFJ\">\n",
      "              <div class=\"RAyV4b\">\n",
      "               <img alt=\"\" class=\"t0fcAb\" src=\"https://encrypted-tbn0.gstatic.com/images?q=tbn:ANd9GcRHFQ_27RYzglhFuLOLDCcwRbmZdeUuX9Ea1svtFJr-WF65-PbFzldKe66FpF8&amp;s\"/>\n",
      "              </div>\n",
      "             </a>\n",
      "            </td>\n",
      "           </tr>\n",
      "           <tr>\n",
      "            <td>\n",
      "             <a href=\"/url?q=https://www.eso.org/public/images/eso1723a/&amp;sa=U&amp;ved=2ahUKEwjWhL3E2YTrAhURcCsKHdraAw8Qr4kDMAx6BAgMEAI&amp;usg=AOvVaw0iVjgjVe_CvgvzLPMoBYpI\">\n",
      "              <div class=\"Tor4Ec\">\n",
      "               <span class=\"qXLe6d x3G5ab\">\n",
      "                <span class=\"fYyStc\">\n",
      "                 The Orion Nebula and...\n",
      "                </span>\n",
      "               </span>\n",
      "               <span class=\"qXLe6d F9iS2e\">\n",
      "                <span class=\"fYyStc\">\n",
      "                 eso.org\n",
      "                </span>\n",
      "               </span>\n",
      "              </div>\n",
      "             </a>\n",
      "            </td>\n",
      "           </tr>\n",
      "          </table>\n",
      "         </div>\n",
      "        </div>\n",
      "       </div>\n",
      "      </div>\n",
      "     </td>\n",
      "     <td align=\"center\" class=\"e3goi\">\n",
      "      <div class=\"svla5d\">\n",
      "       <div>\n",
      "        <div class=\"lIMUZd\">\n",
      "         <div>\n",
      "          <table class=\"TxbwNb\">\n",
      "           <tr>\n",
      "            <td>\n",
      "             <a href=\"/url?q=https://www.noao.edu/image_gallery/html/im0349.html&amp;sa=U&amp;ved=2ahUKEwjWhL3E2YTrAhURcCsKHdraAw8QqoUBMA16BAgHEAE&amp;usg=AOvVaw3tCO-PW8xtaOsWLZZ1p_6J\">\n",
      "              <div class=\"RAyV4b\">\n",
      "               <img alt=\"\" class=\"t0fcAb\" src=\"https://encrypted-tbn0.gstatic.com/images?q=tbn:ANd9GcSC9uRCaD285Du5SZsTsbNOrglihnt9WR8ypF0D7HvM4ZIYtUMF4IhdQCX47Q&amp;s\"/>\n",
      "              </div>\n",
      "             </a>\n",
      "            </td>\n",
      "           </tr>\n",
      "           <tr>\n",
      "            <td>\n",
      "             <a href=\"/url?q=https://www.noao.edu/image_gallery/html/im0349.html&amp;sa=U&amp;ved=2ahUKEwjWhL3E2YTrAhURcCsKHdraAw8Qr4kDMA16BAgHEAI&amp;usg=AOvVaw1COHYe_CKQ03oBWZvcSKlf\">\n",
      "              <div class=\"Tor4Ec\">\n",
      "               <span class=\"qXLe6d x3G5ab\">\n",
      "                <span class=\"fYyStc\">\n",
      "                 National Optical Astronomy...\n",
      "                </span>\n",
      "               </span>\n",
      "               <span class=\"qXLe6d F9iS2e\">\n",
      "                <span class=\"fYyStc\">\n",
      "                 noao.edu\n",
      "                </span>\n",
      "               </span>\n",
      "              </div>\n",
      "             </a>\n",
      "            </td>\n",
      "           </tr>\n",
      "          </table>\n",
      "         </div>\n",
      "        </div>\n",
      "       </div>\n",
      "      </div>\n",
      "     </td>\n",
      "     <td align=\"center\" class=\"e3goi\">\n",
      "      <div class=\"svla5d\">\n",
      "       <div>\n",
      "        <div class=\"lIMUZd\">\n",
      "         <div>\n",
      "          <table class=\"TxbwNb\">\n",
      "           <tr>\n",
      "            <td>\n",
      "             <a href=\"/url?q=https://www.space.com/18464-orion-nebula-star-cluster.html&amp;sa=U&amp;ved=2ahUKEwjWhL3E2YTrAhURcCsKHdraAw8QqoUBMA56BAgCEAE&amp;usg=AOvVaw1yvDmoi0Ai41RX6rBDdErs\">\n",
      "              <div class=\"RAyV4b\">\n",
      "               <img alt=\"\" class=\"t0fcAb\" src=\"https://encrypted-tbn0.gstatic.com/images?q=tbn:ANd9GcT6hY_Xva-fB86hn93HTUVl1GuT1lMnfu1zjKBcDLu4DtUTr5jLQ3byI8UG&amp;s\"/>\n",
      "              </div>\n",
      "             </a>\n",
      "            </td>\n",
      "           </tr>\n",
      "           <tr>\n",
      "            <td>\n",
      "             <a href=\"/url?q=https://www.space.com/18464-orion-nebula-star-cluster.html&amp;sa=U&amp;ved=2ahUKEwjWhL3E2YTrAhURcCsKHdraAw8Qr4kDMA56BAgCEAI&amp;usg=AOvVaw1QlP4-CjkTj-nqpJAZVKV3\">\n",
      "              <div class=\"Tor4Ec\">\n",
      "               <span class=\"qXLe6d x3G5ab\">\n",
      "                <span class=\"fYyStc\">\n",
      "                 Star Cluster Near Orion...\n",
      "                </span>\n",
      "               </span>\n",
      "               <span class=\"qXLe6d F9iS2e\">\n",
      "                <span class=\"fYyStc\">\n",
      "                 space.com\n",
      "                </span>\n",
      "               </span>\n",
      "              </div>\n",
      "             </a>\n",
      "            </td>\n",
      "           </tr>\n",
      "          </table>\n",
      "         </div>\n",
      "        </div>\n",
      "       </div>\n",
      "      </div>\n",
      "     </td>\n",
      "     <td align=\"center\" class=\"e3goi\">\n",
      "      <div class=\"svla5d\">\n",
      "       <div>\n",
      "        <div class=\"lIMUZd\">\n",
      "         <div>\n",
      "          <table class=\"TxbwNb\">\n",
      "           <tr>\n",
      "            <td>\n",
      "             <a href=\"/url?q=https://astronomy.com/magazine/2019/10/inside-the-orion-nebula&amp;sa=U&amp;ved=2ahUKEwjWhL3E2YTrAhURcCsKHdraAw8QqoUBMA96BAgEEAE&amp;usg=AOvVaw3lKDRs49kBWmrVTpG3MfWF\">\n",
      "              <div class=\"RAyV4b\">\n",
      "               <img alt=\"\" class=\"t0fcAb\" src=\"https://encrypted-tbn0.gstatic.com/images?q=tbn:ANd9GcTP5uBjtPT5DZM38d5SD04iQP0-msiNy3ZcgmTV0-ZgeJ_9LNffmrs2hjVrhg&amp;s\"/>\n",
      "              </div>\n",
      "             </a>\n",
      "            </td>\n",
      "           </tr>\n",
      "           <tr>\n",
      "            <td>\n",
      "             <a href=\"/url?q=https://astronomy.com/magazine/2019/10/inside-the-orion-nebula&amp;sa=U&amp;ved=2ahUKEwjWhL3E2YTrAhURcCsKHdraAw8Qr4kDMA96BAgEEAI&amp;usg=AOvVaw39hEg5-SGtr5VUyxQNcYjt\">\n",
      "              <div class=\"Tor4Ec\">\n",
      "               <span class=\"qXLe6d x3G5ab\">\n",
      "                <span class=\"fYyStc\">\n",
      "                 Inside the Orion Nebula |...\n",
      "                </span>\n",
      "               </span>\n",
      "               <span class=\"qXLe6d F9iS2e\">\n",
      "                <span class=\"fYyStc\">\n",
      "                 astronomy.com\n",
      "                </span>\n",
      "               </span>\n",
      "              </div>\n",
      "             </a>\n",
      "            </td>\n",
      "           </tr>\n",
      "          </table>\n",
      "         </div>\n",
      "        </div>\n",
      "       </div>\n",
      "      </div>\n",
      "     </td>\n",
      "    </tr>\n",
      "    <tr>\n",
      "     <td align=\"center\" class=\"e3goi\">\n",
      "      <div class=\"svla5d\">\n",
      "       <div>\n",
      "        <div class=\"lIMUZd\">\n",
      "         <div>\n",
      "          <table class=\"TxbwNb\">\n",
      "           <tr>\n",
      "            <td>\n",
      "             <a href=\"/url?q=http://ddnews.gov.in/sci-tech/nasa-telescopes-provide-3d-journey-through-orion-nebula&amp;sa=U&amp;ved=2ahUKEwjWhL3E2YTrAhURcCsKHdraAw8QqoUBMBB6BAgGEAE&amp;usg=AOvVaw2epeWPJMGY_aclTUq8_fS9\">\n",
      "              <div class=\"RAyV4b\">\n",
      "               <img alt=\"\" class=\"t0fcAb\" src=\"https://encrypted-tbn0.gstatic.com/images?q=tbn:ANd9GcQyGGvYlBsaLuumoN_OPbOM9mBU9a3BdYZHEsvHGyWoz1DxHDftw1p78K6HEw&amp;s\"/>\n",
      "              </div>\n",
      "             </a>\n",
      "            </td>\n",
      "           </tr>\n",
      "           <tr>\n",
      "            <td>\n",
      "             <a href=\"/url?q=http://ddnews.gov.in/sci-tech/nasa-telescopes-provide-3d-journey-through-orion-nebula&amp;sa=U&amp;ved=2ahUKEwjWhL3E2YTrAhURcCsKHdraAw8Qr4kDMBB6BAgGEAI&amp;usg=AOvVaw1lR0p4SR3q_GMJpBfpWIf_\">\n",
      "              <div class=\"Tor4Ec\">\n",
      "               <span class=\"qXLe6d x3G5ab\">\n",
      "                <span class=\"fYyStc\">\n",
      "                 NASA telescopes provide 3D...\n",
      "                </span>\n",
      "               </span>\n",
      "               <span class=\"qXLe6d F9iS2e\">\n",
      "                <span class=\"fYyStc\">\n",
      "                 ddnews.gov.in\n",
      "                </span>\n",
      "               </span>\n",
      "              </div>\n",
      "             </a>\n",
      "            </td>\n",
      "           </tr>\n",
      "          </table>\n",
      "         </div>\n",
      "        </div>\n",
      "       </div>\n",
      "      </div>\n",
      "     </td>\n",
      "     <td align=\"center\" class=\"e3goi\">\n",
      "      <div class=\"svla5d\">\n",
      "       <div>\n",
      "        <div class=\"lIMUZd\">\n",
      "         <div>\n",
      "          <table class=\"TxbwNb\">\n",
      "           <tr>\n",
      "            <td>\n",
      "             <a href=\"/url?q=https://astrobackyard.com/orion-nebula/&amp;sa=U&amp;ved=2ahUKEwjWhL3E2YTrAhURcCsKHdraAw8QqoUBMBF6BAgFEAE&amp;usg=AOvVaw0jG65EvB4lnPgr47cpQp1t\">\n",
      "              <div class=\"RAyV4b\">\n",
      "               <img alt=\"\" class=\"t0fcAb\" src=\"https://encrypted-tbn0.gstatic.com/images?q=tbn:ANd9GcS4aAasnEeptxue_XuqSz1sodUPDUBPyc69ytHCOxDQMUFm0-9YQgNC5mE3ag&amp;s\"/>\n",
      "              </div>\n",
      "             </a>\n",
      "            </td>\n",
      "           </tr>\n",
      "           <tr>\n",
      "            <td>\n",
      "             <a href=\"/url?q=https://astrobackyard.com/orion-nebula/&amp;sa=U&amp;ved=2ahUKEwjWhL3E2YTrAhURcCsKHdraAw8Qr4kDMBF6BAgFEAI&amp;usg=AOvVaw3W1MVa86PoOXOc0YdjiC89\">\n",
      "              <div class=\"Tor4Ec\">\n",
      "               <span class=\"qXLe6d x3G5ab\">\n",
      "                <span class=\"fYyStc\">\n",
      "                 The Orion Nebula | The Most...\n",
      "                </span>\n",
      "               </span>\n",
      "               <span class=\"qXLe6d F9iS2e\">\n",
      "                <span class=\"fYyStc\">\n",
      "                 astrobackyard.com\n",
      "                </span>\n",
      "               </span>\n",
      "              </div>\n",
      "             </a>\n",
      "            </td>\n",
      "           </tr>\n",
      "          </table>\n",
      "         </div>\n",
      "        </div>\n",
      "       </div>\n",
      "      </div>\n",
      "     </td>\n",
      "     <td align=\"center\" class=\"e3goi\">\n",
      "      <div class=\"svla5d\">\n",
      "       <div>\n",
      "        <div class=\"lIMUZd\">\n",
      "         <div>\n",
      "          <table class=\"TxbwNb\">\n",
      "           <tr>\n",
      "            <td>\n",
      "             <a href=\"/url?q=https://www.buckslocalnews.com/lifestyle/the-night-sky-the-orion-nebula---window-into-a-stellar-nursery/article_a33c16ac-2c09-11ea-83b3-ffd26dae7e51.html&amp;sa=U&amp;ved=2ahUKEwjWhL3E2YTrAhURcCsKHdraAw8QqoUBMBJ6BAgDEAE&amp;usg=AOvVaw22B4ybsVXOPZzIJygUm09g\">\n",
      "              <div class=\"RAyV4b\">\n",
      "               <img alt=\"\" class=\"t0fcAb\" src=\"https://encrypted-tbn0.gstatic.com/images?q=tbn:ANd9GcQqBNq9HqjyJqY6nV2w7caLZ8er6WynZSFVRh4qRaj6HHFbxpqShedSA3qPFUQ&amp;s\"/>\n",
      "              </div>\n",
      "             </a>\n",
      "            </td>\n",
      "           </tr>\n",
      "           <tr>\n",
      "            <td>\n",
      "             <a href=\"/url?q=https://www.buckslocalnews.com/lifestyle/the-night-sky-the-orion-nebula---window-into-a-stellar-nursery/article_a33c16ac-2c09-11ea-83b3-ffd26dae7e51.html&amp;sa=U&amp;ved=2ahUKEwjWhL3E2YTrAhURcCsKHdraAw8Qr4kDMBJ6BAgDEAI&amp;usg=AOvVaw0rwgANYfKRNR-_VOcPTES1\">\n",
      "              <div class=\"Tor4Ec\">\n",
      "               <span class=\"qXLe6d x3G5ab\">\n",
      "                <span class=\"fYyStc\">\n",
      "                 THE NIGHT SKY: The Orion...\n",
      "                </span>\n",
      "               </span>\n",
      "               <span class=\"qXLe6d F9iS2e\">\n",
      "                <span class=\"fYyStc\">\n",
      "                 buckslocalnews.com\n",
      "                </span>\n",
      "               </span>\n",
      "              </div>\n",
      "             </a>\n",
      "            </td>\n",
      "           </tr>\n",
      "          </table>\n",
      "         </div>\n",
      "        </div>\n",
      "       </div>\n",
      "      </div>\n",
      "     </td>\n",
      "     <td align=\"center\" class=\"e3goi\">\n",
      "      <div class=\"svla5d\">\n",
      "       <div>\n",
      "        <div class=\"lIMUZd\">\n",
      "         <div>\n",
      "          <table class=\"TxbwNb\">\n",
      "           <tr>\n",
      "            <td>\n",
      "             <a href=\"/url?q=https://kottke.org/17/04/the-orion-nebula-our-friendly-neighborhood-star-factory&amp;sa=U&amp;ved=2ahUKEwjWhL3E2YTrAhURcCsKHdraAw8QqoUBMBN6BAgBEAE&amp;usg=AOvVaw1xSFPsHvdfLHJZU5KqcaOR\">\n",
      "              <div class=\"RAyV4b\">\n",
      "               <img alt=\"\" class=\"t0fcAb\" src=\"https://encrypted-tbn0.gstatic.com/images?q=tbn:ANd9GcRyS3RivNguRgjdVgaG9D5pnfGhdg9oCUk7mf05FrjRUy53Q2Pv9NfxrGPjlQ&amp;s\"/>\n",
      "              </div>\n",
      "             </a>\n",
      "            </td>\n",
      "           </tr>\n",
      "           <tr>\n",
      "            <td>\n",
      "             <a href=\"/url?q=https://kottke.org/17/04/the-orion-nebula-our-friendly-neighborhood-star-factory&amp;sa=U&amp;ved=2ahUKEwjWhL3E2YTrAhURcCsKHdraAw8Qr4kDMBN6BAgBEAI&amp;usg=AOvVaw3ElS5FkYgSNcTuSV6GSVDI\">\n",
      "              <div class=\"Tor4Ec\">\n",
      "               <span class=\"qXLe6d x3G5ab\">\n",
      "                <span class=\"fYyStc\">\n",
      "                 The Orion Nebula, our...\n",
      "                </span>\n",
      "               </span>\n",
      "               <span class=\"qXLe6d F9iS2e\">\n",
      "                <span class=\"fYyStc\">\n",
      "                 kottke.org\n",
      "                </span>\n",
      "               </span>\n",
      "              </div>\n",
      "             </a>\n",
      "            </td>\n",
      "           </tr>\n",
      "          </table>\n",
      "         </div>\n",
      "        </div>\n",
      "       </div>\n",
      "      </div>\n",
      "     </td>\n",
      "    </tr>\n",
      "   </table>\n",
      "  </div>\n",
      "  <table class=\"uZgmoc\">\n",
      "   <tbody>\n",
      "    <td>\n",
      "     <a class=\"frGj1b\" href=\"/search?q=orion+nebula+picture&amp;safe=active&amp;rlz=1C5CHFA_enIN908IN908&amp;biw=1261&amp;bih=914&amp;ie=UTF-8&amp;tbm=isch&amp;ei=RPsqX9bSM5HgrQHatY94&amp;start=20&amp;sa=N\">\n",
      "      Next &gt;\n",
      "     </a>\n",
      "    </td>\n",
      "   </tbody>\n",
      "  </table>\n",
      "  <br/>\n",
      "  <div class=\"TuS8Ad\" data-ved=\"0ahUKEwjWhL3E2YTrAhURcCsKHdraAw8QpyoIUg\">\n",
      "   <div align=\"center\">\n",
      "    <a class=\"rEM8G\" href=\"/url?q=https://accounts.google.com/ServiceLogin%3Fcontinue%3Dhttps://www.google.com/search%253Fq%253Dorion%252Bnebula%252Bpicture%2526rlz%253D1C5CHFA_enIN908IN908%2526source%253Dlnms%2526tbm%253Disch%2526sa%253DX%2526ved%253D2ahUKEwjkxYHbzYTrAhVTSX0KHZSHDvYQ_AUoAXoECA4QAw%2526biw%253D1261%2526bih%253D914%2526safe%253Dactive%26hl%3Den&amp;sa=U&amp;ved=0ahUKEwjWhL3E2YTrAhURcCsKHdraAw8Qxs8CCFM&amp;usg=AOvVaw3oGRGpwaDxiN_8GrmwvlGN\">\n",
      "     Sign in\n",
      "    </a>\n",
      "   </div>\n",
      "   <div>\n",
      "    <table class=\"bookcf\">\n",
      "     <tbody class=\"InWNIe\">\n",
      "      <tr>\n",
      "       <td>\n",
      "        <a class=\"rEM8G\" href=\"https://www.google.com/preferences?hl=en&amp;sa=X&amp;ved=0ahUKEwjWhL3E2YTrAhURcCsKHdraAw8Qv5YECFQ\">\n",
      "         Settings\n",
      "        </a>\n",
      "       </td>\n",
      "       <td>\n",
      "        <a class=\"rEM8G\" href=\"https://www.google.com/intl/en_in/policies/privacy/\">\n",
      "         Privacy\n",
      "        </a>\n",
      "       </td>\n",
      "       <td>\n",
      "        <a class=\"rEM8G\" href=\"https://www.google.com/intl/en_in/policies/terms/\">\n",
      "         Terms\n",
      "        </a>\n",
      "       </td>\n",
      "      </tr>\n",
      "     </tbody>\n",
      "    </table>\n",
      "   </div>\n",
      "  </div>\n",
      "  <div>\n",
      "  </div>\n",
      " </body>\n",
      "</html>\n"
     ]
    }
   ],
   "source": [
    "print(page_text.prettify())"
   ]
  },
  {
   "cell_type": "code",
   "execution_count": 22,
   "metadata": {
    "collapsed": true,
    "jupyter": {
     "outputs_hidden": true
    }
   },
   "outputs": [
    {
     "name": "stdout",
     "output_type": "stream",
     "text": [
      "<body><style>.X6ZCif{color:rgba(0,0,0,.87);font-size:11px;line-height:16px;display:inline-block;padding-top:2px;overflow:hidden;padding-bottom:4px;width:100%}.TwVfHd{border-radius:16px;border:thin solid #e0e0e0;display:inline-block;padding:8px 8px;margin-right:8px;margin-bottom:4px}.yekiAe{background-color:#d3d3d3}.svla5d{width:100%}.ezO2md{border:thin solid #e0e0e0;padding:12px 16px 12px 16px;margin-bottom:10px;font-family:Roboto,Helvetica,Arial,sans-serif}.lIMUZd{font-family:Roboto,Helvetica,Arial,sans-serif}.TxbwNb{border-spacing:0}.K35ahc{width:100%}.owohpf{text-align:center}.RAyV4b{width:162px;height:140px;line-height:140px;overflow:'hidden';text-align:center}.t0fcAb{text-align:center;margin:auto;vertical-align:middle;max-width:162px;max-height:140px}.Tor4Ec{padding-top:2px;padding-bottom:8px}.fYyStc{word-break:break-word}.Fj3V3b{color:#1967D2;font-size:14px;line-height:20px}.FrIlee{color:rgba(0,0,0,.87);font-size:11px;line-height:16px}.F9iS2e{color:#70757A;font-size:11px;line-height:16px}.WMQ2Le{color:#70757A;font-size:12px;line-height:16px}.x3G5ab{color:rgba(0,0,0,.87);font-size:12px;line-height:16px}.fuLhoc{color:#1967D2;font-size:18px;line-height:24px}.epoveb{font-size:32px;line-height:40px;font-weight:400;color:rgba(0,0,0,.87)}.dXDvrc{color:#006621;font-size:14px;line-height:20px;word-wrap:break-word}.dloBPe{font-weight:bold}.YVIcad{color:#70757A}.JkVVdd{color:#dd4b39}.oXZRFd{color:#dd4b39}.MQHtg{color:#fbc02d}.pyMRrb{color:#3d9400}.EtTZid{color:#3d9400}.M3vVJe{color:#1967D2}.qXLe6d{display:block}.NHQNef{font-style:italic}.Cb8Z7c{white-space:pre}a.ZWRArf{text-decoration:none}a .CVA68e:hover{text-decoration:underline}</style><div class=\"n692Zd\"><div class=\"BnJWBc\"><a class=\"lXLRf\" href=\"/?sa=X&amp;rlz=1C5CHFA_enIN908IN908&amp;biw=1261&amp;bih=914&amp;output=images&amp;ie=UTF-8&amp;tbm=isch&amp;ved=0ahUKEwizxfztzoTrAhWOzTgGHSh2AmEQPAgC\"><img alt=\"Google logo\" class=\"kgJEQe\" src=\"/images/branding/searchlogo/1x/googlelogo_desk_heirloom_color_150x55dp.gif\"/></a></div><div class=\"FbhRzb\"><form action=\"/search\"><input name=\"rlz\" type=\"hidden\" value=\"1C5CHFA_enIN908IN908\"/><input name=\"biw\" type=\"hidden\" value=\"1261\"/><input name=\"bih\" type=\"hidden\" value=\"914\"/><input name=\"ie\" type=\"hidden\" value=\"ISO-8859-1\"/><input name=\"tbm\" type=\"hidden\" value=\"isch\"/><input name=\"oq\" type=\"hidden\"/><input name=\"aqs\" type=\"hidden\"/><table class=\"cvifge\"><tr><td class=\"O4cRJf\"><input class=\"MhzMZd\" name=\"q\" type=\"text\" value=\"orion nebula picture\"/></td><td class=\"O1ePr\"><input class=\"xB0fq\" type=\"submit\" value=\"Search\"/></td></tr></table></form></div><div class=\"M7pB2\"><table class=\"euZec\"><tbody><tr><td><a class=\"CsQyDc\" href=\"/search?q=orion+nebula+picture&amp;rlz=1C5CHFA_enIN908IN908&amp;biw=1261&amp;bih=914&amp;ie=UTF-8&amp;source=lnms&amp;sa=X&amp;ved=0ahUKEwizxfztzoTrAhWOzTgGHSh2AmEQ_AUIBCgA\">ALL</a></td><td class=\"EY24We\"><span class=\"QIqI7\">IMAGES</span></td><td><a class=\"CsQyDc\" href=\"/search?q=orion+nebula+picture&amp;rlz=1C5CHFA_enIN908IN908&amp;biw=1261&amp;bih=914&amp;ie=UTF-8&amp;tbm=nws&amp;source=lnms&amp;sa=X&amp;ved=0ahUKEwizxfztzoTrAhWOzTgGHSh2AmEQ_AUIBigC\">NEWS</a></td><td><a class=\"CsQyDc\" href=\"/search?q=orion+nebula+picture&amp;rlz=1C5CHFA_enIN908IN908&amp;biw=1261&amp;bih=914&amp;ie=UTF-8&amp;tbm=vid&amp;source=lnms&amp;sa=X&amp;ved=0ahUKEwizxfztzoTrAhWOzTgGHSh2AmEQ_AUIBygD\">VIDEOS</a></td></tr></tbody></table></div></div><div class=\"X6ZCif\"><a class=\"TwVfHd\" href=\"/search?rlz=1C5CHFA_enIN908IN908&amp;biw=1261&amp;bih=914&amp;ie=UTF-8&amp;tbm=isch&amp;q=orion+nebula+picture&amp;chips=q:orion+nebula+picture,online_chips:m42&amp;sa=X&amp;ved=0ahUKEwizxfztzoTrAhWOzTgGHSh2AmEQ4lYICygA\">m42</a><a class=\"TwVfHd\" href=\"/search?rlz=1C5CHFA_enIN908IN908&amp;biw=1261&amp;bih=914&amp;ie=UTF-8&amp;tbm=isch&amp;q=orion+nebula+picture&amp;chips=q:orion+nebula+picture,online_chips:messier+42&amp;sa=X&amp;ved=0ahUKEwizxfztzoTrAhWOzTgGHSh2AmEQ4lYIDCgB\">messier 42</a><a class=\"TwVfHd\" href=\"/search?rlz=1C5CHFA_enIN908IN908&amp;biw=1261&amp;bih=914&amp;ie=UTF-8&amp;tbm=isch&amp;q=orion+nebula+picture&amp;chips=q:orion+nebula+picture,online_chips:nasa&amp;sa=X&amp;ved=0ahUKEwizxfztzoTrAhWOzTgGHSh2AmEQ4lYIDSgC\">nasa</a><a class=\"TwVfHd\" href=\"/search?rlz=1C5CHFA_enIN908IN908&amp;biw=1261&amp;bih=914&amp;ie=UTF-8&amp;tbm=isch&amp;q=orion+nebula+picture&amp;chips=q:orion+nebula+picture,online_chips:hubble&amp;sa=X&amp;ved=0ahUKEwizxfztzoTrAhWOzTgGHSh2AmEQ4lYIDigD\">hubble</a><a class=\"TwVfHd\" href=\"/search?rlz=1C5CHFA_enIN908IN908&amp;biw=1261&amp;bih=914&amp;ie=UTF-8&amp;tbm=isch&amp;q=orion+nebula+picture&amp;chips=q:orion+nebula+picture,online_chips:infrared&amp;sa=X&amp;ved=0ahUKEwizxfztzoTrAhWOzTgGHSh2AmEQ4lYIDygE\">infrared</a><a class=\"TwVfHd\" href=\"/search?rlz=1C5CHFA_enIN908IN908&amp;biw=1261&amp;bih=914&amp;ie=UTF-8&amp;tbm=isch&amp;q=orion+nebula+picture&amp;chips=q:orion+nebula+picture,online_chips:stellar+nursery&amp;sa=X&amp;ved=0ahUKEwizxfztzoTrAhWOzTgGHSh2AmEQ4lYIECgF\">stellar nursery</a><a class=\"TwVfHd\" href=\"/search?rlz=1C5CHFA_enIN908IN908&amp;biw=1261&amp;bih=914&amp;ie=UTF-8&amp;tbm=isch&amp;q=orion+nebula+picture&amp;chips=q:orion+nebula+picture,online_chips:star+cluster&amp;sa=X&amp;ved=0ahUKEwizxfztzoTrAhWOzTgGHSh2AmEQ4lYIESgG\">star cluster</a><a class=\"TwVfHd\" href=\"/search?rlz=1C5CHFA_enIN908IN908&amp;biw=1261&amp;bih=914&amp;ie=UTF-8&amp;tbm=isch&amp;q=orion+nebula+picture&amp;chips=q:orion+nebula+picture,online_chips:orion's+belt&amp;sa=X&amp;ved=0ahUKEwizxfztzoTrAhWOzTgGHSh2AmEQ4lYIEigH\">orion's belt</a><a class=\"TwVfHd\" href=\"/search?rlz=1C5CHFA_enIN908IN908&amp;biw=1261&amp;bih=914&amp;ie=UTF-8&amp;tbm=isch&amp;q=orion+nebula+picture&amp;chips=q:orion+nebula+picture,online_chips:hubble+space+telescope&amp;sa=X&amp;ved=0ahUKEwizxfztzoTrAhWOzTgGHSh2AmEQ4lYIEygI\">hubble space telescope</a><a class=\"TwVfHd\" href=\"/search?rlz=1C5CHFA_enIN908IN908&amp;biw=1261&amp;bih=914&amp;ie=UTF-8&amp;tbm=isch&amp;q=orion+nebula+picture&amp;chips=q:orion+nebula+picture,online_chips:galaxy&amp;sa=X&amp;ved=0ahUKEwizxfztzoTrAhWOzTgGHSh2AmEQ4lYIFCgJ\">galaxy</a></div><div><table class=\"GpQGbf\"><tr><td align=\"center\" class=\"e3goi\"><div class=\"svla5d\"> <div> <div class=\"lIMUZd\"><div><table class=\"TxbwNb\"><tr><td><a href=\"/url?q=https://en.wikipedia.org/wiki/Orion_Nebula&amp;sa=U&amp;ved=2ahUKEwizxfztzoTrAhWOzTgGHSh2AmEQqoUBMAB6BAgEEAE&amp;usg=AOvVaw2zQICs-jAfVE_FZoIfQ5zy\"><div class=\"RAyV4b\"><img alt=\"\" class=\"t0fcAb\" src=\"https://encrypted-tbn0.gstatic.com/images?q=tbn:ANd9GcRI-gnOdY-P2Y1PPkQD7sFwU4XVo_nWeqIZgZyeOvYn7-WPcosbxWujWX2q6g&amp;s\"/></div></a></td></tr><tr><td><a href=\"/url?q=https://en.wikipedia.org/wiki/Orion_Nebula&amp;sa=U&amp;ved=2ahUKEwizxfztzoTrAhWOzTgGHSh2AmEQr4kDMAB6BAgEEAI&amp;usg=AOvVaw2vOuTB4fX8aSYkKDF_NgAN\"><div class=\"Tor4Ec\"> <span class=\"qXLe6d x3G5ab\"> <span class=\"fYyStc\">Orion Nebula - Wikipedia</span> </span> <span class=\"qXLe6d F9iS2e\"> <span class=\"fYyStc\">en.wikipedia.org</span> </span> </div></a></td></tr></table></div></div> </div> </div></td><td align=\"center\" class=\"e3goi\"><div class=\"svla5d\"> <div> <div class=\"lIMUZd\"><div><table class=\"TxbwNb\"><tr><td><a href=\"/url?q=https://www.space.com/orion-nebula-visible-light-photo-miguel-claro.html&amp;sa=U&amp;ved=2ahUKEwizxfztzoTrAhWOzTgGHSh2AmEQqoUBMAF6BAgREAE&amp;usg=AOvVaw32VIAQ77-agRvieK4W-9Vs\"><div class=\"RAyV4b\"><img alt=\"\" class=\"t0fcAb\" src=\"https://encrypted-tbn0.gstatic.com/images?q=tbn:ANd9GcSOl5DizW2xxy-kHnfdk_FaGPEZcpuELxd-EOvVEtrOZ2xrHltvyNWVe6jsIQ&amp;s\"/></div></a></td></tr><tr><td><a href=\"/url?q=https://www.space.com/orion-nebula-visible-light-photo-miguel-claro.html&amp;sa=U&amp;ved=2ahUKEwizxfztzoTrAhWOzTgGHSh2AmEQr4kDMAF6BAgREAI&amp;usg=AOvVaw0kFji2Ctb-vjVnSD5kpzIi\"><div class=\"Tor4Ec\"> <span class=\"qXLe6d x3G5ab\"> <span class=\"fYyStc\">Gorgeous Orion Nebula Glows...</span> </span> <span class=\"qXLe6d F9iS2e\"> <span class=\"fYyStc\">space.com</span> </span> </div></a></td></tr></table></div></div> </div> </div></td><td align=\"center\" class=\"e3goi\"><div class=\"svla5d\"> <div> <div class=\"lIMUZd\"><div><table class=\"TxbwNb\"><tr><td><a href=\"/url?q=https://earthsky.org/clusters-nebulae-galaxies/orion-nebula-jewel-in-orions-sword&amp;sa=U&amp;ved=2ahUKEwizxfztzoTrAhWOzTgGHSh2AmEQqoUBMAJ6BAgSEAE&amp;usg=AOvVaw1BTlp37eJC4xOTvxBd2Jsr\"><div class=\"RAyV4b\"><img alt=\"\" class=\"t0fcAb\" src=\"https://encrypted-tbn0.gstatic.com/images?q=tbn:ANd9GcQzkJBgjncQ26H_adhFCs0zvJDziy2jDBJuFLaot6wxKZvtizlGeOU70p1jEA&amp;s\"/></div></a></td></tr><tr><td><a href=\"/url?q=https://earthsky.org/clusters-nebulae-galaxies/orion-nebula-jewel-in-orions-sword&amp;sa=U&amp;ved=2ahUKEwizxfztzoTrAhWOzTgGHSh2AmEQr4kDMAJ6BAgSEAI&amp;usg=AOvVaw1UWj1_yQ195MDINR1tJH62\"><div class=\"Tor4Ec\"> <span class=\"qXLe6d x3G5ab\"> <span class=\"fYyStc\">All you need to know: The...</span> </span> <span class=\"qXLe6d F9iS2e\"> <span class=\"fYyStc\">earthsky.org</span> </span> </div></a></td></tr></table></div></div> </div> </div></td><td align=\"center\" class=\"e3goi\"><div class=\"svla5d\"> <div> <div class=\"lIMUZd\"><div><table class=\"TxbwNb\"><tr><td><a href=\"/url?q=https://earthsky.org/clusters-nebulae-galaxies/orion-nebula-jewel-in-orions-sword&amp;sa=U&amp;ved=2ahUKEwizxfztzoTrAhWOzTgGHSh2AmEQqoUBMAN6BAgTEAE&amp;usg=AOvVaw3RjfAglRFmuPzczG76lMZ5\"><div class=\"RAyV4b\"><img alt=\"\" class=\"t0fcAb\" src=\"https://encrypted-tbn0.gstatic.com/images?q=tbn:ANd9GcTG8InnTSsSooQ8lhGYDRr0P6-mi382x8_Azlai3q3Voro2oWLK_lPnG-b5wqE&amp;s\"/></div></a></td></tr><tr><td><a href=\"/url?q=https://earthsky.org/clusters-nebulae-galaxies/orion-nebula-jewel-in-orions-sword&amp;sa=U&amp;ved=2ahUKEwizxfztzoTrAhWOzTgGHSh2AmEQr4kDMAN6BAgTEAI&amp;usg=AOvVaw2o-TT1VEKfZvuStk6C4Mj8\"><div class=\"Tor4Ec\"> <span class=\"qXLe6d x3G5ab\"> <span class=\"fYyStc\">All you need to know: The...</span> </span> <span class=\"qXLe6d F9iS2e\"> <span class=\"fYyStc\">earthsky.org</span> </span> </div></a></td></tr></table></div></div> </div> </div></td></tr><tr><td align=\"center\" class=\"e3goi\"><div class=\"svla5d\"> <div> <div class=\"lIMUZd\"><div><table class=\"TxbwNb\"><tr><td><a href=\"/url?q=https://apod.nasa.gov/apod/ap191030.html&amp;sa=U&amp;ved=2ahUKEwizxfztzoTrAhWOzTgGHSh2AmEQqoUBMAR6BAgQEAE&amp;usg=AOvVaw2erF9zOloDhgqy6V-E4j99\"><div class=\"RAyV4b\"><img alt=\"\" class=\"t0fcAb\" src=\"https://encrypted-tbn0.gstatic.com/images?q=tbn:ANd9GcTwLxOOgOAQ8uFCFrzKVQqd39sZ9fTJaGjJOU_6uPhbp1xdBhb_Mmywz2_n0g&amp;s\"/></div></a></td></tr><tr><td><a href=\"/url?q=https://apod.nasa.gov/apod/ap191030.html&amp;sa=U&amp;ved=2ahUKEwizxfztzoTrAhWOzTgGHSh2AmEQr4kDMAR6BAgQEAI&amp;usg=AOvVaw3u2Xm4b7uMA_bfVO5M1REO\"><div class=\"Tor4Ec\"> <span class=\"qXLe6d x3G5ab\"> <span class=\"fYyStc\">APOD: 2019 October 30 -...</span> </span> <span class=\"qXLe6d F9iS2e\"> <span class=\"fYyStc\">apod.nasa.gov</span> </span> </div></a></td></tr></table></div></div> </div> </div></td><td align=\"center\" class=\"e3goi\"><div class=\"svla5d\"> <div> <div class=\"lIMUZd\"><div><table class=\"TxbwNb\"><tr><td><a href=\"/url?q=https://astrodonimaging.com/gallery/m42-the-great-orion-nebula/&amp;sa=U&amp;ved=2ahUKEwizxfztzoTrAhWOzTgGHSh2AmEQqoUBMAV6BAgOEAE&amp;usg=AOvVaw0kn1sWHj5w0dj0YYq4hWTL\"><div class=\"RAyV4b\"><img alt=\"\" class=\"t0fcAb\" src=\"https://encrypted-tbn0.gstatic.com/images?q=tbn:ANd9GcTOLJOKeXrqzJyJLlOP4mr0zwOWyePUvriSuR4bVaQWNxI0sDuH3BIhme-wfoI&amp;s\"/></div></a></td></tr><tr><td><a href=\"/url?q=https://astrodonimaging.com/gallery/m42-the-great-orion-nebula/&amp;sa=U&amp;ved=2ahUKEwizxfztzoTrAhWOzTgGHSh2AmEQr4kDMAV6BAgOEAI&amp;usg=AOvVaw3EJIopRpNiA14vcavKu30i\"><div class=\"Tor4Ec\"> <span class=\"qXLe6d x3G5ab\"> <span class=\"fYyStc\">M42 The Great Orion Nebula...</span> </span> <span class=\"qXLe6d F9iS2e\"> <span class=\"fYyStc\">astrodonimaging.com</span> </span> </div></a></td></tr></table></div></div> </div> </div></td><td align=\"center\" class=\"e3goi\"><div class=\"svla5d\"> <div> <div class=\"lIMUZd\"><div><table class=\"TxbwNb\"><tr><td><a href=\"/url?q=https://www.youtube.com/watch%3Fv%3DxCFg5udYbAg&amp;sa=U&amp;ved=2ahUKEwizxfztzoTrAhWOzTgGHSh2AmEQqoUBMAZ6BAgPEAE&amp;usg=AOvVaw07IybpF8vSiAyxgtSNMR21\"><div class=\"RAyV4b\"><img alt=\"\" class=\"t0fcAb\" src=\"https://encrypted-tbn0.gstatic.com/images?q=tbn:ANd9GcR8xZ1JRdI1EE-0Ck7zkcUnUV1Q4kYcLCWAqd-cwZNp5erCVDrVEM3n2YWFGQ&amp;s\"/></div></a></td></tr><tr><td><a href=\"/url?q=https://www.youtube.com/watch%3Fv%3DxCFg5udYbAg&amp;sa=U&amp;ved=2ahUKEwizxfztzoTrAhWOzTgGHSh2AmEQr4kDMAZ6BAgPEAI&amp;usg=AOvVaw0gfgSxVh8jObl5b_XC6UpI\"><div class=\"Tor4Ec\"> <span class=\"qXLe6d x3G5ab\"> <span class=\"fYyStc\">Flight Through Orion Nebula...</span> </span> <span class=\"qXLe6d F9iS2e\"> <span class=\"fYyStc\">youtube.com</span> </span> </div></a></td></tr></table></div></div> </div> </div></td><td align=\"center\" class=\"e3goi\"><div class=\"svla5d\"> <div> <div class=\"lIMUZd\"><div><table class=\"TxbwNb\"><tr><td><a href=\"/url?q=https://astronomy.com/magazine/glenn-chaple/2019/01/observe-the-orion-nebula&amp;sa=U&amp;ved=2ahUKEwizxfztzoTrAhWOzTgGHSh2AmEQqoUBMAd6BAgLEAE&amp;usg=AOvVaw3QdipMT0sQal9BBqxqT-ty\"><div class=\"RAyV4b\"><img alt=\"\" class=\"t0fcAb\" src=\"https://encrypted-tbn0.gstatic.com/images?q=tbn:ANd9GcSmy1P18rt3AMbha-atWf0X-tSy1P4HCAz1D93qyDfkHhN-5kO6Um7xgrkCjVE&amp;s\"/></div></a></td></tr><tr><td><a href=\"/url?q=https://astronomy.com/magazine/glenn-chaple/2019/01/observe-the-orion-nebula&amp;sa=U&amp;ved=2ahUKEwizxfztzoTrAhWOzTgGHSh2AmEQr4kDMAd6BAgLEAI&amp;usg=AOvVaw0L4awXRatOejcofPbnHpF0\"><div class=\"Tor4Ec\"> <span class=\"qXLe6d x3G5ab\"> <span class=\"fYyStc\">Observe the Orion Nebula |...</span> </span> <span class=\"qXLe6d F9iS2e\"> <span class=\"fYyStc\">astronomy.com</span> </span> </div></a></td></tr></table></div></div> </div> </div></td></tr><tr><td align=\"center\" class=\"e3goi\"><div class=\"svla5d\"> <div> <div class=\"lIMUZd\"><div><table class=\"TxbwNb\"><tr><td><a href=\"/url?q=https://en.wikipedia.org/wiki/Orion_Nebula&amp;sa=U&amp;ved=2ahUKEwizxfztzoTrAhWOzTgGHSh2AmEQqoUBMAh6BAgKEAE&amp;usg=AOvVaw2x7awYpjF1IxueQqzarfHo\"><div class=\"RAyV4b\"><img alt=\"\" class=\"t0fcAb\" src=\"https://encrypted-tbn0.gstatic.com/images?q=tbn:ANd9GcRTycKILiD0OdDABE5uhfU1aOcfGVpkthzLcCg2wZYW8lRfwY9wn5gZblwN9bY&amp;s\"/></div></a></td></tr><tr><td><a href=\"/url?q=https://en.wikipedia.org/wiki/Orion_Nebula&amp;sa=U&amp;ved=2ahUKEwizxfztzoTrAhWOzTgGHSh2AmEQr4kDMAh6BAgKEAI&amp;usg=AOvVaw0ZdDi2Xd0nCFy9bAIzpuk7\"><div class=\"Tor4Ec\"> <span class=\"qXLe6d x3G5ab\"> <span class=\"fYyStc\">Orion Nebula - Wikipedia</span> </span> <span class=\"qXLe6d F9iS2e\"> <span class=\"fYyStc\">en.wikipedia.org</span> </span> </div></a></td></tr></table></div></div> </div> </div></td><td align=\"center\" class=\"e3goi\"><div class=\"svla5d\"> <div> <div class=\"lIMUZd\"><div><table class=\"TxbwNb\"><tr><td><a href=\"/url?q=https://www.sierraclub.org/sierra/january-stargazing-orion-nebula&amp;sa=U&amp;ved=2ahUKEwizxfztzoTrAhWOzTgGHSh2AmEQqoUBMAl6BAgMEAE&amp;usg=AOvVaw142atx3oyEJnOhZw1naWhA\"><div class=\"RAyV4b\"><img alt=\"\" class=\"t0fcAb\" src=\"https://encrypted-tbn0.gstatic.com/images?q=tbn:ANd9GcTDeZml-XtBYIrItJLFjoDLKlYD1E2w17Tnf8mOvLd6o2JkLU5lHKevgOVINA&amp;s\"/></div></a></td></tr><tr><td><a href=\"/url?q=https://www.sierraclub.org/sierra/january-stargazing-orion-nebula&amp;sa=U&amp;ved=2ahUKEwizxfztzoTrAhWOzTgGHSh2AmEQr4kDMAl6BAgMEAI&amp;usg=AOvVaw1Ofw83s8T-AUSZEK4H0J-F\"><div class=\"Tor4Ec\"> <span class=\"qXLe6d x3G5ab\"> <span class=\"fYyStc\">Stargazing in January (and...</span> </span> <span class=\"qXLe6d F9iS2e\"> <span class=\"fYyStc\">sierraclub.org</span> </span> </div></a></td></tr></table></div></div> </div> </div></td><td align=\"center\" class=\"e3goi\"><div class=\"svla5d\"> <div> <div class=\"lIMUZd\"><div><table class=\"TxbwNb\"><tr><td><a href=\"/url?q=https://www.eso.org/public/news/eso0421/&amp;sa=U&amp;ved=2ahUKEwizxfztzoTrAhWOzTgGHSh2AmEQqoUBMAp6BAgNEAE&amp;usg=AOvVaw2bIhN9WSqAG0G0cLWRqj6w\"><div class=\"RAyV4b\"><img alt=\"\" class=\"t0fcAb\" src=\"https://encrypted-tbn0.gstatic.com/images?q=tbn:ANd9GcSipUsaqPNgqGe-gnUgkl0Z2sMLk-srIwO3GEavtxCIwPKeUqYUmpmjp-e28w&amp;s\"/></div></a></td></tr><tr><td><a href=\"/url?q=https://www.eso.org/public/news/eso0421/&amp;sa=U&amp;ved=2ahUKEwizxfztzoTrAhWOzTgGHSh2AmEQr4kDMAp6BAgNEAI&amp;usg=AOvVaw3pOATRaqM9tuARBXNPsw9s\"><div class=\"Tor4Ec\"> <span class=\"qXLe6d x3G5ab\"> <span class=\"fYyStc\">Revisiting the Orion Nebula...</span> </span> <span class=\"qXLe6d F9iS2e\"> <span class=\"fYyStc\">eso.org</span> </span> </div></a></td></tr></table></div></div> </div> </div></td><td align=\"center\" class=\"e3goi\"><div class=\"svla5d\"> <div> <div class=\"lIMUZd\"><div><table class=\"TxbwNb\"><tr><td><a href=\"/url?q=https://earthsky.org/clusters-nebulae-galaxies/orion-nebula-jewel-in-orions-sword&amp;sa=U&amp;ved=2ahUKEwizxfztzoTrAhWOzTgGHSh2AmEQqoUBMAt6BAgJEAE&amp;usg=AOvVaw2xz-yTAFwLwTnAkuZDMt-3\"><div class=\"RAyV4b\"><img alt=\"\" class=\"t0fcAb\" src=\"https://encrypted-tbn0.gstatic.com/images?q=tbn:ANd9GcSs0JPBqixLApg0EZVvJuDrDqP6e9n_EY7R4U10MKvJEDbhyLCrpXeFVSIORVk&amp;s\"/></div></a></td></tr><tr><td><a href=\"/url?q=https://earthsky.org/clusters-nebulae-galaxies/orion-nebula-jewel-in-orions-sword&amp;sa=U&amp;ved=2ahUKEwizxfztzoTrAhWOzTgGHSh2AmEQr4kDMAt6BAgJEAI&amp;usg=AOvVaw0hxXVEM9ndBJaxJ2xnJGCE\"><div class=\"Tor4Ec\"> <span class=\"qXLe6d x3G5ab\"> <span class=\"fYyStc\">All you need to know: The...</span> </span> <span class=\"qXLe6d F9iS2e\"> <span class=\"fYyStc\">earthsky.org</span> </span> </div></a></td></tr></table></div></div> </div> </div></td></tr><tr><td align=\"center\" class=\"e3goi\"><div class=\"svla5d\"> <div> <div class=\"lIMUZd\"><div><table class=\"TxbwNb\"><tr><td><a href=\"/url?q=https://apod.nasa.gov/apod/ap160718.html&amp;sa=U&amp;ved=2ahUKEwizxfztzoTrAhWOzTgGHSh2AmEQqoUBMAx6BAgIEAE&amp;usg=AOvVaw0KUi3FQ5SDwiBYjQowpOJ-\"><div class=\"RAyV4b\"><img alt=\"\" class=\"t0fcAb\" src=\"https://encrypted-tbn0.gstatic.com/images?q=tbn:ANd9GcTbeoYyaaDolxcg24ZNO2hx2GrZymQiJwcymZOzlWr-q5bpMWN8GO5Vqmx48A&amp;s\"/></div></a></td></tr><tr><td><a href=\"/url?q=https://apod.nasa.gov/apod/ap160718.html&amp;sa=U&amp;ved=2ahUKEwizxfztzoTrAhWOzTgGHSh2AmEQr4kDMAx6BAgIEAI&amp;usg=AOvVaw2n4QjIGOvkTyTHK2xFSKzP\"><div class=\"Tor4Ec\"> <span class=\"qXLe6d x3G5ab\"> <span class=\"fYyStc\">APOD: 2016 July 18 - The...</span> </span> <span class=\"qXLe6d F9iS2e\"> <span class=\"fYyStc\">apod.nasa.gov</span> </span> </div></a></td></tr></table></div></div> </div> </div></td><td align=\"center\" class=\"e3goi\"><div class=\"svla5d\"> <div> <div class=\"lIMUZd\"><div><table class=\"TxbwNb\"><tr><td><a href=\"/url?q=https://www.eso.org/public/images/eso1723a/&amp;sa=U&amp;ved=2ahUKEwizxfztzoTrAhWOzTgGHSh2AmEQqoUBMA16BAgHEAE&amp;usg=AOvVaw3UU3QoxZKlIE_ynaaTexDT\"><div class=\"RAyV4b\"><img alt=\"\" class=\"t0fcAb\" src=\"https://encrypted-tbn0.gstatic.com/images?q=tbn:ANd9GcRHFQ_27RYzglhFuLOLDCcwRbmZdeUuX9Ea1svtFJr-WF65-PbFzldKe66FpF8&amp;s\"/></div></a></td></tr><tr><td><a href=\"/url?q=https://www.eso.org/public/images/eso1723a/&amp;sa=U&amp;ved=2ahUKEwizxfztzoTrAhWOzTgGHSh2AmEQr4kDMA16BAgHEAI&amp;usg=AOvVaw2XZTy_MjE8_73RsvoEOehj\"><div class=\"Tor4Ec\"> <span class=\"qXLe6d x3G5ab\"> <span class=\"fYyStc\">The Orion Nebula and...</span> </span> <span class=\"qXLe6d F9iS2e\"> <span class=\"fYyStc\">eso.org</span> </span> </div></a></td></tr></table></div></div> </div> </div></td><td align=\"center\" class=\"e3goi\"><div class=\"svla5d\"> <div> <div class=\"lIMUZd\"><div><table class=\"TxbwNb\"><tr><td><a href=\"/url?q=http://www.astrophotographybyjoemorris.net/Great_Orion_Nebula.htm&amp;sa=U&amp;ved=2ahUKEwizxfztzoTrAhWOzTgGHSh2AmEQqoUBMA56BAgGEAE&amp;usg=AOvVaw1FqFN-RndvkS5n6VKlPkbr\"><div class=\"RAyV4b\"><img alt=\"\" class=\"t0fcAb\" src=\"https://encrypted-tbn0.gstatic.com/images?q=tbn:ANd9GcSmIlToPRlrW156z1qI_mBCG3IHUAJKHxKFDCtVwDQ9hBc2_fvhWfakWnxM1qA&amp;s\"/></div></a></td></tr><tr><td><a href=\"/url?q=http://www.astrophotographybyjoemorris.net/Great_Orion_Nebula.htm&amp;sa=U&amp;ved=2ahUKEwizxfztzoTrAhWOzTgGHSh2AmEQr4kDMA56BAgGEAI&amp;usg=AOvVaw3eXxZGrikJByRFm2msOGSt\"><div class=\"Tor4Ec\"> <span class=\"qXLe6d x3G5ab\"> <span class=\"fYyStc\">Great Orion Nebula</span> </span> <span class=\"qXLe6d F9iS2e\"> <span class=\"fYyStc\">astrophotographybyjoemorris...</span> </span> </div></a></td></tr></table></div></div> </div> </div></td><td align=\"center\" class=\"e3goi\"><div class=\"svla5d\"> <div> <div class=\"lIMUZd\"><div><table class=\"TxbwNb\"><tr><td><a href=\"/url?q=https://www.noao.edu/image_gallery/html/im0349.html&amp;sa=U&amp;ved=2ahUKEwizxfztzoTrAhWOzTgGHSh2AmEQqoUBMA96BAgCEAE&amp;usg=AOvVaw1tuxD196GDbE-V9Pj8lfBW\"><div class=\"RAyV4b\"><img alt=\"\" class=\"t0fcAb\" src=\"https://encrypted-tbn0.gstatic.com/images?q=tbn:ANd9GcSC9uRCaD285Du5SZsTsbNOrglihnt9WR8ypF0D7HvM4ZIYtUMF4IhdQCX47Q&amp;s\"/></div></a></td></tr><tr><td><a href=\"/url?q=https://www.noao.edu/image_gallery/html/im0349.html&amp;sa=U&amp;ved=2ahUKEwizxfztzoTrAhWOzTgGHSh2AmEQr4kDMA96BAgCEAI&amp;usg=AOvVaw0BkX_YiivreF_Pojliujs8\"><div class=\"Tor4Ec\"> <span class=\"qXLe6d x3G5ab\"> <span class=\"fYyStc\">National Optical Astronomy...</span> </span> <span class=\"qXLe6d F9iS2e\"> <span class=\"fYyStc\">noao.edu</span> </span> </div></a></td></tr></table></div></div> </div> </div></td></tr><tr><td align=\"center\" class=\"e3goi\"><div class=\"svla5d\"> <div> <div class=\"lIMUZd\"><div><table class=\"TxbwNb\"><tr><td><a href=\"/url?q=https://www.space.com/18464-orion-nebula-star-cluster.html&amp;sa=U&amp;ved=2ahUKEwizxfztzoTrAhWOzTgGHSh2AmEQqoUBMBB6BAgDEAE&amp;usg=AOvVaw0yWlpMgmsaIxqU_UI-Kca_\"><div class=\"RAyV4b\"><img alt=\"\" class=\"t0fcAb\" src=\"https://encrypted-tbn0.gstatic.com/images?q=tbn:ANd9GcT6hY_Xva-fB86hn93HTUVl1GuT1lMnfu1zjKBcDLu4DtUTr5jLQ3byI8UG&amp;s\"/></div></a></td></tr><tr><td><a href=\"/url?q=https://www.space.com/18464-orion-nebula-star-cluster.html&amp;sa=U&amp;ved=2ahUKEwizxfztzoTrAhWOzTgGHSh2AmEQr4kDMBB6BAgDEAI&amp;usg=AOvVaw3Rull1fECN-Nls8b1tLmQ2\"><div class=\"Tor4Ec\"> <span class=\"qXLe6d x3G5ab\"> <span class=\"fYyStc\">Star Cluster Near Orion...</span> </span> <span class=\"qXLe6d F9iS2e\"> <span class=\"fYyStc\">space.com</span> </span> </div></a></td></tr></table></div></div> </div> </div></td><td align=\"center\" class=\"e3goi\"><div class=\"svla5d\"> <div> <div class=\"lIMUZd\"><div><table class=\"TxbwNb\"><tr><td><a href=\"/url?q=https://astrobackyard.com/orion-nebula/&amp;sa=U&amp;ved=2ahUKEwizxfztzoTrAhWOzTgGHSh2AmEQqoUBMBF6BAgBEAE&amp;usg=AOvVaw2q8BM_VTXExFxLCi-orVmU\"><div class=\"RAyV4b\"><img alt=\"\" class=\"t0fcAb\" src=\"https://encrypted-tbn0.gstatic.com/images?q=tbn:ANd9GcS4aAasnEeptxue_XuqSz1sodUPDUBPyc69ytHCOxDQMUFm0-9YQgNC5mE3ag&amp;s\"/></div></a></td></tr><tr><td><a href=\"/url?q=https://astrobackyard.com/orion-nebula/&amp;sa=U&amp;ved=2ahUKEwizxfztzoTrAhWOzTgGHSh2AmEQr4kDMBF6BAgBEAI&amp;usg=AOvVaw3JA47wTy9FxlYXTTGm15cW\"><div class=\"Tor4Ec\"> <span class=\"qXLe6d x3G5ab\"> <span class=\"fYyStc\">The Orion Nebula | The Most...</span> </span> <span class=\"qXLe6d F9iS2e\"> <span class=\"fYyStc\">astrobackyard.com</span> </span> </div></a></td></tr></table></div></div> </div> </div></td><td align=\"center\" class=\"e3goi\"><div class=\"svla5d\"> <div> <div class=\"lIMUZd\"><div><table class=\"TxbwNb\"><tr><td><a href=\"/url?q=https://astronomy.com/magazine/2019/10/inside-the-orion-nebula&amp;sa=U&amp;ved=2ahUKEwizxfztzoTrAhWOzTgGHSh2AmEQqoUBMBJ6BAgAEAE&amp;usg=AOvVaw0nthqQwIWuUQXTjI9llO0Q\"><div class=\"RAyV4b\"><img alt=\"\" class=\"t0fcAb\" src=\"https://encrypted-tbn0.gstatic.com/images?q=tbn:ANd9GcTP5uBjtPT5DZM38d5SD04iQP0-msiNy3ZcgmTV0-ZgeJ_9LNffmrs2hjVrhg&amp;s\"/></div></a></td></tr><tr><td><a href=\"/url?q=https://astronomy.com/magazine/2019/10/inside-the-orion-nebula&amp;sa=U&amp;ved=2ahUKEwizxfztzoTrAhWOzTgGHSh2AmEQr4kDMBJ6BAgAEAI&amp;usg=AOvVaw0dJ7vGI47kqi7H7Avwthbu\"><div class=\"Tor4Ec\"> <span class=\"qXLe6d x3G5ab\"> <span class=\"fYyStc\">Inside the Orion Nebula |...</span> </span> <span class=\"qXLe6d F9iS2e\"> <span class=\"fYyStc\">astronomy.com</span> </span> </div></a></td></tr></table></div></div> </div> </div></td><td align=\"center\" class=\"e3goi\"><div class=\"svla5d\"> <div> <div class=\"lIMUZd\"><div><table class=\"TxbwNb\"><tr><td><a href=\"/url?q=https://www.amateurastrophotography.com/top-5-orion-nebula-images&amp;sa=U&amp;ved=2ahUKEwizxfztzoTrAhWOzTgGHSh2AmEQqoUBMBN6BAgFEAE&amp;usg=AOvVaw26zDAuKT5vEGH7Qky9nHLf\"><div class=\"RAyV4b\"><img alt=\"\" class=\"t0fcAb\" src=\"https://encrypted-tbn0.gstatic.com/images?q=tbn:ANd9GcQULtVm8RVuG-u5UPFfrnV9NH03J_A8QrhHskCXB0Q1AkSpcHJV7e_x6zSP-T4&amp;s\"/></div></a></td></tr><tr><td><a href=\"/url?q=https://www.amateurastrophotography.com/top-5-orion-nebula-images&amp;sa=U&amp;ved=2ahUKEwizxfztzoTrAhWOzTgGHSh2AmEQr4kDMBN6BAgFEAI&amp;usg=AOvVaw37mf0LLPMcGpPUPSulHYut\"><div class=\"Tor4Ec\"> <span class=\"qXLe6d x3G5ab\"> <span class=\"fYyStc\">TOP 5 ORION NEBULA IMAGES —...</span> </span> <span class=\"qXLe6d F9iS2e\"> <span class=\"fYyStc\">amateurastrophotography.com...</span> </span> </div></a></td></tr></table></div></div> </div> </div></td></tr></table></div><table class=\"uZgmoc\"><tbody><td><a class=\"frGj1b\" href=\"/search?q=orion+nebula+picture&amp;rlz=1C5CHFA_enIN908IN908&amp;biw=1261&amp;bih=914&amp;ie=UTF-8&amp;tbm=isch&amp;ei=E_AqX_PvBI6b4-EPqOyJiAY&amp;start=20&amp;sa=N\">Next &gt;</a></td></tbody></table><br/><div class=\"TuS8Ad\" data-ved=\"0ahUKEwizxfztzoTrAhWOzTgGHSh2AmEQpyoIUg\"><div align=\"center\"><a class=\"rEM8G\" href=\"/url?q=https://accounts.google.com/ServiceLogin%3Fcontinue%3Dhttps://www.google.com/search%253Fq%253Dorion%252Bnebula%252Bpicture%2526rlz%253D1C5CHFA_enIN908IN908%2526source%253Dlnms%2526tbm%253Disch%2526sa%253DX%2526ved%253D2ahUKEwjkxYHbzYTrAhVTSX0KHZSHDvYQ_AUoAXoECA4QAw%2526biw%253D1261%2526bih%253D914%26hl%3Den&amp;sa=U&amp;ved=0ahUKEwizxfztzoTrAhWOzTgGHSh2AmEQxs8CCFM&amp;usg=AOvVaw325A2bNhvBRhwx4hpcEgOS\">Sign in</a></div><div><table class=\"bookcf\"><tbody class=\"InWNIe\"><tr><td><a class=\"rEM8G\" href=\"https://www.google.com/preferences?hl=en&amp;sa=X&amp;ved=0ahUKEwizxfztzoTrAhWOzTgGHSh2AmEQv5YECFQ\">Settings</a></td><td><a class=\"rEM8G\" href=\"https://www.google.com/intl/en_in/policies/privacy/\">Privacy</a></td><td><a class=\"rEM8G\" href=\"https://www.google.com/intl/en_in/policies/terms/\">Terms</a></td></tr></tbody></table></div></div><div> </div></body>\n"
     ]
    }
   ],
   "source": [
    "print(page_text.find('body'))"
   ]
  },
  {
   "cell_type": "code",
   "execution_count": 5,
   "metadata": {},
   "outputs": [
    {
     "data": {
      "text/plain": [
       "'http://t0.gstatic.com/images?q=tbn:ANd9GcRI-gnOdY-P2Y1PPkQD7sFwU4XVo_nWeqIZgZyeOvYn7-WPcosbxWujWX2q6g&s'"
      ]
     },
     "execution_count": 5,
     "metadata": {},
     "output_type": "execute_result"
    }
   ],
   "source": [
    "page_text = requests.get(url)\n",
    "page_text = bs4(page_text.text, 'html.parser')\n",
    "articles = page_text.find_all(class_ =\"TxbwNb\")[0].find('img')['src']\n",
    "articles"
   ]
  },
  {
   "cell_type": "code",
   "execution_count": 64,
   "metadata": {},
   "outputs": [
    {
     "data": {
      "text/plain": [
       "<telegram.message.Message at 0x7fc9ca3b5df0>"
      ]
     },
     "execution_count": 64,
     "metadata": {},
     "output_type": "execute_result"
    }
   ],
   "source": [
    "bot = Bot('1183471904:AAENQORzTAU_mTDXfv8xJU1s3rmK1PuzlpU')\n",
    "bot.sendPhoto(chat_id=\"-1001331038106\", photo=articles)"
   ]
  },
  {
   "cell_type": "code",
   "execution_count": 1,
   "metadata": {},
   "outputs": [
    {
     "name": "stderr",
     "output_type": "stream",
     "text": [
      "<ipython-input-1-282501b63331>:16: TelegramDeprecationWarning: Old Handler API is deprecated - see https://git.io/fxJuV for details\n",
      "  updater = Updater(\"1183471904:AAEhVDnMzq55DJ7apyOH5-rHVyGCRP5qeKo\")\n"
     ]
    },
    {
     "data": {
      "text/plain": [
       "<queue.Queue at 0x7fbe8b4960a0>"
      ]
     },
     "execution_count": 1,
     "metadata": {},
     "output_type": "execute_result"
    }
   ],
   "source": [
    "from telegram.ext import Updater, CommandHandler\n",
    "\n",
    "def get_apod(bot, job):\n",
    "    \n",
    "\n",
    "def callback_timer(bot, update, job_queue):\n",
    "    job_queue.run_repeating(get_apod, 86400, context=update.message.chat_id)\n",
    "\n",
    "def Stop_timer(bot, update, job_queue):\n",
    "    bot.send_message(chat_id=update.message.chat_id,\n",
    "                      text='stopped')\n",
    "    job_queue.stop()\n",
    "\n",
    "updater = Updater(\"1183471904:AAEhVDnMzq55DJ7apyOH5-rHVyGCRP5qeKo\")\n",
    "updater.dispatcher.add_handler(CommandHandler('startapod', callback_timer, pass_job_queue=True))\n",
    "updater.dispatcher.add_handler(CommandHandler('stopapod', Stop_timer, pass_job_queue=True))\n",
    "\n",
    "updater.start_polling()"
   ]
  },
  {
   "cell_type": "code",
   "execution_count": 13,
   "metadata": {},
   "outputs": [
    {
     "data": {
      "text/plain": [
       "'05'"
      ]
     },
     "execution_count": 13,
     "metadata": {},
     "output_type": "execute_result"
    }
   ],
   "source": [
    "import datetime\n",
    "import pytz\n",
    "indt = pytz.timezone(\"Asia/Kolkata\")\n",
    "datetime.time(21,5,00,0000, tzinfo=indt).strftime(\"%M\")"
   ]
  },
  {
   "cell_type": "code",
   "execution_count": 2,
   "metadata": {},
   "outputs": [
    {
     "data": {
      "text/plain": [
       "\"https://www.google.com/search?q=+planck's+law+wiki&oq=planck%27s+law&aqs=chrome..69i57.3094j0j1&sourceid=chrome&ie=UTF-8\""
      ]
     },
     "execution_count": 2,
     "metadata": {},
     "output_type": "execute_result"
    }
   ],
   "source": [
    "t = \"+planck's+law+wiki\"\n",
    "url = r\"https://www.google.com/search?q=\"+t+\"&oq=planck%27s+law&aqs=chrome..69i57.3094j0j1&sourceid=chrome&ie=UTF-8\"\n",
    "url"
   ]
  },
  {
   "cell_type": "code",
   "execution_count": null,
   "metadata": {},
   "outputs": [],
   "source": [
    "resp = requests.get(url)"
   ]
  },
  {
   "cell_type": "code",
   "execution_count": 4,
   "metadata": {},
   "outputs": [],
   "source": [
    "def get_wiki_link(search_text):\n",
    "    google_url = \"https://www.google.com/search?q=\"+search_text+\"&rlz=1C5CHFA_enIN908IN908&oq=\"+search_text+\"&aqs=chrome.0.69i59.6224j0j1&sourceid=chrome&ie=UTF-8\"\n",
    "    google_page = requests.get(google_url)\n",
    "    google_page = bs4(google_page.text,'html.parser')\n",
    "    google_page = google_page.find(class_ = \"ZINbbc xpd O9g5cc uUPGi\")\n",
    "    wiki_link = google_page.find('a')['href'].replace('/url?q=','')\n",
    "    wiki_link = wiki_link.split(\"&sa\")[0]\n",
    "    return(wiki_link)\n",
    "\n",
    "def scrape_wiki(search_text):\n",
    "    if(profanity.contains_profanity(search_text)):\n",
    "        return(\"BAZINGA!\")\n",
    "    else:\n",
    "        wiki_link = get_wiki_link(search_text)\n",
    "        wiki_page = requests.get(wiki_link)\n",
    "        wiki_page = bs4(wiki_page.text,'html.parser')\n",
    "        summary = wiki_page.find_all('p')\n",
    "        summary_text=\"\"\n",
    "        for i in summary:\n",
    "            if(len(i.get_text()) > 30):\n",
    "                summary_text = i.get_text()\n",
    "                break\n",
    "        #image_url = \"https://en.wikipedia.org\"+ wiki_page.find('table').find('a')['href']\n",
    "        text = summary_text + \"\\n\\n\" + wiki_link\n",
    "        return(text)"
   ]
  },
  {
   "cell_type": "code",
   "execution_count": 5,
   "metadata": {},
   "outputs": [
    {
     "data": {
      "text/plain": [
       "'https://en.wikipedia.org/wiki/Planck%2527s_law'"
      ]
     },
     "execution_count": 5,
     "metadata": {},
     "output_type": "execute_result"
    }
   ],
   "source": [
    "get_wiki_link(t)"
   ]
  },
  {
   "cell_type": "code",
   "execution_count": 6,
   "metadata": {},
   "outputs": [],
   "source": [
    "from urllib.parse import urlparse"
   ]
  },
  {
   "cell_type": "code",
   "execution_count": 11,
   "metadata": {},
   "outputs": [
    {
     "data": {
      "text/plain": [
       "ParseResult(scheme='https', netloc='en.wikipedia.org', path='/wiki/Planck%2527s_law', params='', query='', fragment='')"
      ]
     },
     "execution_count": 11,
     "metadata": {},
     "output_type": "execute_result"
    }
   ],
   "source": [
    "x = urlparse(get_wiki_link(t))\n",
    "x"
   ]
  },
  {
   "cell_type": "code",
   "execution_count": 12,
   "metadata": {},
   "outputs": [
    {
     "data": {
      "text/plain": [
       "'en.wikipedia.org/wiki/Planck%2527s_law'"
      ]
     },
     "execution_count": 12,
     "metadata": {},
     "output_type": "execute_result"
    }
   ],
   "source": [
    "x.netloc + x.path"
   ]
  },
  {
   "cell_type": "code",
   "execution_count": 13,
   "metadata": {},
   "outputs": [],
   "source": [
    "from bs4 import BeautifulSoup as bs4\n",
    "import requests\n",
    "import time\n",
    "from telegram import Bot\n",
    "from datetime import datetime\n",
    "import pytz\n",
    "import hashlib\n",
    "import re"
   ]
  },
  {
   "cell_type": "code",
   "execution_count": 16,
   "metadata": {},
   "outputs": [],
   "source": [
    "bot = Bot(\"1163369796:AAE1BI447fKiuDQ9RUTCUZKcS7-Ek96zlYI\") #photobot\n",
    "group_id = \"-1001284948052\"# \"-1001331038106\" #\n",
    "\n",
    "def get_url(page_text):\n",
    "    if(page_text.find('img')):\n",
    "        url = \"https://apod.nasa.gov/apod/\"+page_text.find_all('center')[0].find('img')['src']\n",
    "        return(url)\n",
    "    elif(page_text.find('iframe')):\n",
    "        url = page_text.find_all('center')[0].find('iframe')['src']\n",
    "        return url\n",
    "    \n",
    "def get_title(page_text):\n",
    "    if(page_text.find('img')):\n",
    "        return(re.sub(\"  +\",\"\",page_text.find_all('center')[1].get_text().replace(\"\\n\",\"\").split(\"Image\")[0]))\n",
    "    elif(page_text.find('iframe')):\n",
    "        return(re.sub(\"  +\",\"\",page_text.find_all('center')[1].get_text().replace(\"\\n\",\"\").split(\"Video\")[0]))\n",
    "    \n",
    "def sendmessage(response):\n",
    "    page_text = bs4(response.text,'html.parser')\n",
    "    date = page_text.find(\"p\").contents[3].get_text().replace('\\n','')\n",
    "    url = get_url(page_text)\n",
    "    title = get_title(page_text)\n",
    "    explanation = page_text.find_all('p')[2].get_text().replace(\"\\n\",\"\").split(\"Tomorrow\")[0].split(\"Explanation: \")[1]\n",
    "    if(page_text.find('img')):\n",
    "        bot.sendPhoto(chat_id=group_id, photo=url, caption = str(\"APOD: \"+title+\"\\n\\n\"+explanation+\"\\nDate: \" + date))\n",
    "    elif(page_text.find('iframe')):\n",
    "        message = (\"<a href=\\\"\"+url+\"\\\">\" +\"<b>Astronomy Picture of the Day</b></a>\\n\\n\" +\"\\n\" +explanation+\"\\n<i>Date: \"+date+\"</i>\\n\")\n",
    "        bot.sendMessage(chat_id=group_id, text=message, parse_mode='HTML')"
   ]
  },
  {
   "cell_type": "code",
   "execution_count": 17,
   "metadata": {},
   "outputs": [],
   "source": [
    "url = \"https://apod.nasa.gov/apod/astropix.html\"\n",
    "new_response = requests.get(url)\n",
    "sendmessage(new_response)"
   ]
  },
  {
   "cell_type": "code",
   "execution_count": 1,
   "metadata": {},
   "outputs": [],
   "source": [
    "import datetime"
   ]
  },
  {
   "cell_type": "code",
   "execution_count": 2,
   "metadata": {},
   "outputs": [
    {
     "data": {
      "text/plain": [
       "datetime.time(10, 20)"
      ]
     },
     "execution_count": 2,
     "metadata": {},
     "output_type": "execute_result"
    }
   ],
   "source": [
    "datetime.time(10,20,0)"
   ]
  },
  {
   "cell_type": "code",
   "execution_count": 6,
   "metadata": {},
   "outputs": [
    {
     "data": {
      "text/plain": [
       "datetime.time(10, 30)"
      ]
     },
     "execution_count": 6,
     "metadata": {},
     "output_type": "execute_result"
    }
   ],
   "source": [
    "datetime.time(10,30)"
   ]
  },
  {
   "cell_type": "code",
   "execution_count": 7,
   "metadata": {},
   "outputs": [
    {
     "data": {
      "text/plain": [
       "' hello there+wiki'"
      ]
     },
     "execution_count": 7,
     "metadata": {},
     "output_type": "execute_result"
    }
   ],
   "source": [
    "t=['hello','there']\n",
    "s=\"\"\n",
    "for i in t:\n",
    "    s = s +\" \"+i\n",
    "s = s+\"+wiki\"\n",
    "s"
   ]
  },
  {
   "cell_type": "code",
   "execution_count": 9,
   "metadata": {},
   "outputs": [],
   "source": [
    "from datetime import datetime\n",
    "import pytz\n",
    "ind_tz = pytz.timezone('Asia/Kolkata')\n",
    "time_now = datetime.now().astimezone(ind_tz)"
   ]
  },
  {
   "cell_type": "code",
   "execution_count": 13,
   "metadata": {},
   "outputs": [
    {
     "data": {
      "text/plain": [
       "'Saturday'"
      ]
     },
     "execution_count": 13,
     "metadata": {},
     "output_type": "execute_result"
    }
   ],
   "source": [
    "time_now.strftime(\"%A\")"
   ]
  },
  {
   "cell_type": "code",
   "execution_count": 9,
   "metadata": {},
   "outputs": [],
   "source": [
    "pin_url = \"https://www.nightsky.at/Photo/Neb/M16_HaRGB.php\""
   ]
  },
  {
   "cell_type": "code",
   "execution_count": 10,
   "metadata": {},
   "outputs": [],
   "source": [
    "resp = requests.get(pin_url)"
   ]
  },
  {
   "cell_type": "code",
   "execution_count": 11,
   "metadata": {},
   "outputs": [],
   "source": [
    "resp = bs4(resp.text, 'html.parser')"
   ]
  },
  {
   "cell_type": "code",
   "execution_count": 12,
   "metadata": {},
   "outputs": [
    {
     "name": "stdout",
     "output_type": "stream",
     "text": [
      "<body>\n",
      "<span title=\"Previous Image\"><a class=\"prev\" href=\"LBN310_WN_Ha.php\">❮</a></span>\n",
      "<span title=\"Next Image\"><a class=\"next\" href=\"M16_NGC6604_WN.php\">❯</a></span>\n",
      "<div class=\"linkgrid\">\n",
      "<div><a href=\"./\"><img alt=\"\" src=\"/res/back.gif\"/></a> <a href=\"./\">Back to Galactic Nebulae</a></div>\n",
      "<div><a href=\"/Photo/\"><img alt=\"\" src=\"/res/up.gif\"/></a> <a href=\"/Photo/\">Up to the Gallery of Astrophotography</a></div>\n",
      "<div><a href=\"/\"><img alt=\"\" src=\"/res/Bullet2.gif\"/></a> <a href=\"/\">Home to nightsky.at</a></div>\n",
      "</div>\n",
      "<hr/>\n",
      "<h2>M16 - Eagle Nebula</h2>\n",
      "<img alt=\"M16, IC 4703, Sh2-48\" class=\"astrophoto\" src=\"M16_HaRGB.jpg\"/>\n",
      "<br/>\n",
      "<div class=\"description\">\n",
      "<p>The star cluster M16 and its surrounding nebula, the Eagle or \n",
      "Star Queen Nebula, are situated some 7.000 light years distant in the \n",
      "constellation Serpens, and in the next inner spiral arm of the Milky Way galaxy. \n",
      "The open cluster has formed from the diffuse Eagle Nebula IC 4703, which is now \n",
      "caused to shine by emission light, excited by the high-energy radiation of the \n",
      "cluster's massive hot, young stars. It is actually still in the process of \n",
      "forming new stars, this formation is taking place near the dark gas pillars \n",
      "which can be seen in this picture as dark inclusions into the very center of the \n",
      "nebula. A deeper insight into the star formation process has been obtained from \n",
      "the famous \t\t\t<a href=\"http://en.wikipedia.org/wiki/Pillars_of_Creation\">\"Pillars \n",
      "of Creation\" HST image of M16</a>, published in 1995.</p>\n",
      "<p>The HII region near the lower left corner of the image with many stars on top \n",
      "bears the designation Sharpless 48 or Gum 82.</p>\n",
      "<p>\n",
      "<a href=\"/Photo/StarF/M17_135mm.php\"><img alt=\"\" src=\"/res/Zoom_out.gif\"/>M17 - Omega Nebula and Surrounding Area</a>, telelens photograph.<br/>\n",
      "<a href=\"M16_WN_Ha.php\"><img alt=\"\" src=\"/res/See_also.gif\"/>M16 - Eagle Nebula in Hα</a>, which is part of this image.\n",
      "\t\t</p>\n",
      "</div>\n",
      "<hr/>\n",
      "<div class=\"expdata\">\n",
      "<p><b>Exposure Data</b></p>\n",
      "<ul>\n",
      "<li><b>Instruments:</b> Hα: 4.9\" f/3.8 Wright-Newtonian, RGB: 4.9\" f/3.8 Wright-Newtonian + TMB 4.1\" f/6.2 APO + Telephoto Lens\n",
      "\t\t\t<li><b>Exposures:</b> Hα: 15 x 10 min, RGB: various\n",
      "\t\t\t<li><b>Cameras:</b> Hα: ATIK 383L+, RGB: Canon 350D with Baader UV-IR-Cut-Filter + QHY8 Pro \n",
      "\t\t\t<li><b>Dates:</b> Hα: August 23, 2011 + August 24, 2011, RGB: August 27, 2008 + August 29, 2008 + August 23, 2011 + August 24, 2011\n",
      "\t\t\t<li><b>Locations:</b> Edelweißspitze, Salzburg; Wallackhaus, Carinthia\n",
      "\t\t\t<li><b>Conditions:</b> (for August 23, 2011 / August 24, 2011): Visual limiting magnitude 6.3 mag (decreasing), SQM-L sky brightness 21.1 mag/arcsec<sup>2</sup> (decreasing), temperature 14-18°C, gusts of wind, low humidity\n",
      "\t\t\t<li><b>Autoguider:</b> Meade Pictor 216 XT\n",
      "\t\t\t<li><b>Enhancement:</b> Basic data reduction, combine, logarithmic curves, local contrast enhancement, noise filtering, star size reduction, Hα + RGB composition, color correction\n",
      "\t\t\t<li><b>Notes:</b> A combination of the following images: <a href=\"M16_WN_Ha.php\">Hα</a> and <a href=\"M16_NGC6604_WN.php\">color</a>. Color \n",
      "images taken with the TMB refractor on a setup parallel to the Hα images \n",
      "and an older telephoto lens image of the region were also added to the color rendition. Most photos \n",
      "were taken during my stay at the Großglockner-Hochalpenstraße in \n",
      "August 2011. See an <a href=\"/Obs/Glockner11\">Observation Report</a>\n",
      " of this \n",
      "event (in German).\n",
      "\t\t</li></li></li></li></li></li></li></li></li></ul>\n",
      "</div>\n",
      "<hr/>\n",
      "<div class=\"linkgrid\">\n",
      "<div><a href=\"./\"><img alt=\"\" src=\"/res/back.gif\"/></a> <a href=\"./\">Back to Galactic Nebulae</a></div>\n",
      "<div><a href=\"/Photo/\"><img alt=\"\" src=\"/res/up.gif\"/></a> <a href=\"/Photo/\">Up to the Gallery of Astrophotography</a></div>\n",
      "<div><a href=\"/\"><img alt=\"\" src=\"/res/Bullet2.gif\"/></a> <a href=\"/\">Home to nightsky.at</a></div>\n",
      "</div>\n",
      "<hr/>\n",
      "<div class=\"copymail\">\n",
      "<a href=\"/Copyright.php\">© 2020</a> <a href=\"/Auth/\">Walter Koprolin</a>\n",
      "</div>\n",
      "</body>\n"
     ]
    }
   ],
   "source": [
    "print(resp.find('body'))"
   ]
  },
  {
   "cell_type": "code",
   "execution_count": 20,
   "metadata": {},
   "outputs": [],
   "source": [
    "x = \"The star cluster M16 and its surrounding wehbtgberiubg eiug eur gue rguy ruyg hae uyg  duv y vay piusg vauire iua pub vu vpu uap vupi bup ui ear u pb va epv aie pire pa braie bviup bruiapb purv apubr puebr peubr hjerbgj heb grhuebguhbuh guyb eugb uyrguybguoe rug eug u gu urg ug uer ugb eu geipub piu gwpi wgiue gpnebula, the dsnjvnd hsbdfhb sgberijtwepoi fsuybd dsinfua sdfg adsn g diubdf ufdbs dn gjdn du vjsnbviusnEagle or Star Queen Nebula, are situated some 7.000 light years distant in the constellation Serpens, and in the next inner spiral arm of the Milky Way galaxy. The open cluster has formed from the diffuse Eagle Nebula IC 4703, which is now caused to shine by emission light, excited by the high-energy radiation of the cluster's massive hot, young stars. It is actually still in the process of forming new stars, this formation is taking place near the dark gas pillars which can be seen in this picture as dark inclusions into the very center of the nebula. A deeper insight into the star formation process has been obtained from the famous\"\n",
    "url = \"https://apod.nasa.gov/apod/image/2007/giantsummerAPOD.jpg\""
   ]
  },
  {
   "cell_type": "code",
   "execution_count": 25,
   "metadata": {},
   "outputs": [],
   "source": [
    "bot = Bot(\"1183471904:AAHzW9eC9XIHJwJXRiyRKrJemA3WVxY_mug\")\n",
    "\n",
    "try:\n",
    "    bot.sendPhoto(chat_id=\"1045695336\", photo=url ,caption=x)\n",
    "except:\n",
    "    bot.sendMessage(chat_id=\"1045695336\", text = url + \"\\n\\n\" + x)"
   ]
  },
  {
   "cell_type": "code",
   "execution_count": 5,
   "metadata": {},
   "outputs": [],
   "source": [
    "topics=['astronomy', 'latest+astronomy+news', 'astronomy+events']\n",
    "bot = Bot(\"1222703294:AAFtKTZoWytkkt9ZUFehhbwuUrYyzzlitUU\")\n",
    "group = \"-1001284948052\"\n",
    "import pytz\n",
    "ind_tz = pytz.timezone('Asia/Kolkata')\n",
    "\n",
    "def scrape(url):\n",
    "    #parse html text of the google news page url\n",
    "    page  = requests.get(url)\n",
    "    page_text = bs4(page.text,'html.parser')\n",
    "    articles_text = page_text.find_all(class_ = \"ZINbbc xpd O9g5cc uUPGi\")\n",
    "    #create list of articles\n",
    "    return articles_text\n",
    "\n",
    "def get_article_url(url):\n",
    "    #\n",
    "    url = url.find('a').attrs['href'].replace('/url?q=','')\n",
    "    url = url.split(\"&sa\")[0]\n",
    "    return url\n",
    "\n",
    "def get_time(i):\n",
    "    posted_time = i.find(class_ = \"r0bn4c rQMQod\").contents[0]\n",
    "    posted_time = posted_time.split(\" \")\n",
    "    if (posted_time[1] == 'mins' or posted_time[1] == 'min'):\n",
    "        time_since = int(posted_time[0])\n",
    "    if (posted_time[1] == 'hours' or posted_time[1] == 'hour'):\n",
    "        time_since = 60 * int(posted_time[0])\n",
    "    elif (posted_time[1] == 'days' or posted_time[1] == 'day'):\n",
    "        time_since = 24*60 * int(posted_time[0])\n",
    "    elif (posted_time[1] == 'weeks' or posted_time[1] == 'week'):\n",
    "        time_since = 7*24*60* int(posted_time[0])\n",
    "    #elif (posted_time[1] == 'months' or posted_time[1] == 'month'):\n",
    "    #    time_since = 100* int(posted_time[0])\n",
    "    else:\n",
    "        time_since = 9999999\n",
    "    return(time_since)\n",
    "\n",
    "\n",
    "\n",
    "def get_final_article(articles_text):\n",
    "    data = []\n",
    "    for i in articles_text: \n",
    "        data.append([get_article_url(i),get_time(i),i.find(class_ = \"BNeawe vvjwJb AP7Wnd\").contents[0]])\n",
    "    data = sorted(data, key = lambda x: x[1])\n",
    "    return(data[0][0])\n",
    "\n",
    "def send_article():\n",
    "    day = datetime.datetime.now().astimezone(ind_tz).strftime(\"%A\")\n",
    "    #time = int(datetime.datetime.now().strftime(\"%H\"))\n",
    "    if day == 'Sunday':\n",
    "        topic_day = topics[0]\n",
    "    elif day == 'Wednesday':\n",
    "        topic_day = topics[1]\n",
    "    elif day == 'Friday':\n",
    "        topic_day = topics[2]\n",
    "        \n",
    "    url = \"https://www.google.com/search?q=\"+topic_day+\"&source=lnms&tbm=nws&sa=X&ved=2ahUKEwjZzKWTjv3qAhVFyzgGHeKzCf8Q_AUoAXoECBUQAw&biw=1680&bih=947\"\n",
    "    articles_text = scrape(url)\n",
    "    bot.sendMessage(chat_id = group,text = (day + \"\\'s article:\\n\\n\" + get_final_article(articles_text)))\n",
    "    return()"
   ]
  },
  {
   "cell_type": "code",
   "execution_count": 6,
   "metadata": {},
   "outputs": [
    {
     "ename": "NameError",
     "evalue": "name 'scrape' is not defined",
     "output_type": "error",
     "traceback": [
      "\u001b[0;31m---------------------------------------------------------------------------\u001b[0m",
      "\u001b[0;31mNameError\u001b[0m                                 Traceback (most recent call last)",
      "\u001b[0;32m<ipython-input-6-dd1622e4a80e>\u001b[0m in \u001b[0;36m<module>\u001b[0;34m\u001b[0m\n\u001b[0;32m----> 1\u001b[0;31m \u001b[0msend_article\u001b[0m\u001b[0;34m(\u001b[0m\u001b[0;34m)\u001b[0m\u001b[0;34m\u001b[0m\u001b[0;34m\u001b[0m\u001b[0m\n\u001b[0m",
      "\u001b[0;32m<ipython-input-5-5c43626d496b>\u001b[0m in \u001b[0;36msend_article\u001b[0;34m()\u001b[0m\n\u001b[1;32m     23\u001b[0m \u001b[0;34m\u001b[0m\u001b[0m\n\u001b[1;32m     24\u001b[0m     \u001b[0murl\u001b[0m \u001b[0;34m=\u001b[0m \u001b[0;34m\"https://www.google.com/search?q=\"\u001b[0m\u001b[0;34m+\u001b[0m\u001b[0mtopic_day\u001b[0m\u001b[0;34m+\u001b[0m\u001b[0;34m\"&source=lnms&tbm=nws&sa=X&ved=2ahUKEwjZzKWTjv3qAhVFyzgGHeKzCf8Q_AUoAXoECBUQAw&biw=1680&bih=947\"\u001b[0m\u001b[0;34m\u001b[0m\u001b[0;34m\u001b[0m\u001b[0m\n\u001b[0;32m---> 25\u001b[0;31m     \u001b[0marticles_text\u001b[0m \u001b[0;34m=\u001b[0m \u001b[0mscrape\u001b[0m\u001b[0;34m(\u001b[0m\u001b[0murl\u001b[0m\u001b[0;34m)\u001b[0m\u001b[0;34m\u001b[0m\u001b[0;34m\u001b[0m\u001b[0m\n\u001b[0m\u001b[1;32m     26\u001b[0m     \u001b[0mbot\u001b[0m\u001b[0;34m.\u001b[0m\u001b[0msendMessage\u001b[0m\u001b[0;34m(\u001b[0m\u001b[0mchat_id\u001b[0m \u001b[0;34m=\u001b[0m \u001b[0mgroup\u001b[0m\u001b[0;34m,\u001b[0m\u001b[0mtext\u001b[0m \u001b[0;34m=\u001b[0m \u001b[0;34m(\u001b[0m\u001b[0mday\u001b[0m \u001b[0;34m+\u001b[0m \u001b[0;34m\"\\'s article:\\n\\n\"\u001b[0m \u001b[0;34m+\u001b[0m \u001b[0mget_final_article\u001b[0m\u001b[0;34m(\u001b[0m\u001b[0marticles_text\u001b[0m\u001b[0;34m)\u001b[0m\u001b[0;34m)\u001b[0m\u001b[0;34m)\u001b[0m\u001b[0;34m\u001b[0m\u001b[0;34m\u001b[0m\u001b[0m\n\u001b[1;32m     27\u001b[0m     \u001b[0;32mreturn\u001b[0m\u001b[0;34m(\u001b[0m\u001b[0;34m)\u001b[0m\u001b[0;34m\u001b[0m\u001b[0;34m\u001b[0m\u001b[0m\n",
      "\u001b[0;31mNameError\u001b[0m: name 'scrape' is not defined"
     ]
    }
   ],
   "source": [
    "send_article()"
   ]
  },
  {
   "cell_type": "code",
   "execution_count": null,
   "metadata": {},
   "outputs": [],
   "source": []
  }
 ],
 "metadata": {
  "kernelspec": {
   "display_name": "Python 3",
   "language": "python",
   "name": "python3"
  },
  "language_info": {
   "codemirror_mode": {
    "name": "ipython",
    "version": 3
   },
   "file_extension": ".py",
   "mimetype": "text/x-python",
   "name": "python",
   "nbconvert_exporter": "python",
   "pygments_lexer": "ipython3",
   "version": "3.8.3"
  }
 },
 "nbformat": 4,
 "nbformat_minor": 4
}
