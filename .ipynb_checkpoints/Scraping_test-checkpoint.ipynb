{
 "cells": [
  {
   "cell_type": "code",
   "execution_count": 114,
   "metadata": {},
   "outputs": [],
   "source": [
    "import pandas as pd\n",
    "from bs4 import BeautifulSoup as bs4\n",
    "import requests\n",
    "import json"
   ]
  },
  {
   "cell_type": "code",
   "execution_count": 172,
   "metadata": {},
   "outputs": [],
   "source": [
    "def scrape(url):\n",
    "    page  = requests.get(url)\n",
    "    page_text = bs4(page.text,'html.parser')\n",
    "    articles_text = page_text.find_all(class_ = \"ZINbbc xpd O9g5cc uUPGi\")\n",
    "    return articles_text"
   ]
  },
  {
   "cell_type": "code",
   "execution_count": 173,
   "metadata": {},
   "outputs": [],
   "source": [
    "def get_url(i):\n",
    "    i = i.find('a').attrs['href'].replace('/url?q=','')\n",
    "    return i"
   ]
  },
  {
   "cell_type": "code",
   "execution_count": 174,
   "metadata": {},
   "outputs": [],
   "source": [
    "def get_time(i):\n",
    "    posted_time = i.find(class_ = \"r0bn4c rQMQod\").contents[0]\n",
    "    posted_time = posted_time.split(\" \")\n",
    "    if (posted_time[1] == 'hours' or posted_time[1] == 'hour'):\n",
    "        time_since = 0.1 * int(posted_time[0])\n",
    "    elif (posted_time[1] == 'days' or posted_time[1] == 'day'):\n",
    "        time_since = 1 * int(posted_time[0])\n",
    "    else:\n",
    "        time_since = 999\n",
    "    return(time_since)"
   ]
  },
  {
   "cell_type": "code",
   "execution_count": 175,
   "metadata": {},
   "outputs": [],
   "source": [
    "def get_final_article(articles_text):\n",
    "    data = []\n",
    "    for i in articles_text: \n",
    "        data.append([get_url(i),get_time(i),i.find(class_ = \"BNeawe vvjwJb AP7Wnd\").contents[0]])\n",
    "    data = sorted(data, key = lambda x: x[1])\n",
    "    return(data[0][0])"
   ]
  },
  {
   "cell_type": "code",
   "execution_count": 176,
   "metadata": {},
   "outputs": [],
   "source": [
    "def get_article():\n",
    "    keyword = input(\"Enter search parameter\")\n",
    "    url = \"https://www.google.com/search?q=\"+keyword+\"&source=lnms&tbm=nws&sa=X&ved=2ahUKEwjZzKWTjv3qAhVFyzgGHeKzCf8Q_AUoAXoECBUQAw&biw=1680&bih=947\"\n",
    "    articles_text = scrape(url)\n",
    "    return(get_final_article(articles_text))"
   ]
  },
  {
   "cell_type": "code",
   "execution_count": 177,
   "metadata": {},
   "outputs": [
    {
     "name": "stdin",
     "output_type": "stream",
     "text": [
      "Enter search parameter astronomy\n"
     ]
    },
    {
     "data": {
      "text/plain": [
       "'https://www.cnn.com/2020/08/02/world/space-butterfly-nebula-scn-trnd/index.html&sa=U&ved=2ahUKEwj0_6zopf3qAhWaxjgGHWAYCRoQxfQBMAB6BAgGEAE&usg=AOvVaw1DOyZRujqgs7ggaQx0MOzA'"
      ]
     },
     "execution_count": 177,
     "metadata": {},
     "output_type": "execute_result"
    }
   ],
   "source": [
    "get_article()"
   ]
  },
  {
   "cell_type": "code",
   "execution_count": null,
   "metadata": {},
   "outputs": [],
   "source": []
  }
 ],
 "metadata": {
  "kernelspec": {
   "display_name": "Python 3",
   "language": "python",
   "name": "python3"
  },
  "language_info": {
   "codemirror_mode": {
    "name": "ipython",
    "version": 3
   },
   "file_extension": ".py",
   "mimetype": "text/x-python",
   "name": "python",
   "nbconvert_exporter": "python",
   "pygments_lexer": "ipython3",
   "version": "3.8.3"
  }
 },
 "nbformat": 4,
 "nbformat_minor": 4
}
