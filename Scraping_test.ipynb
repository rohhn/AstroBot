{
 "cells": [
  {
   "cell_type": "code",
   "execution_count": 32,
   "metadata": {},
   "outputs": [],
   "source": [
    "import pandas as pd\n",
    "from bs4 import BeautifulSoup as bs4\n",
    "import requests\n",
    "import json"
   ]
  },
  {
   "cell_type": "code",
   "execution_count": 83,
   "metadata": {},
   "outputs": [
    {
     "name": "stdin",
     "output_type": "stream",
     "text": [
      "Enter URL: https://www.space.com/science-astronomy\n"
     ]
    },
    {
     "name": "stdout",
     "output_type": "stream",
     "text": [
      "https://www.space.com/science-astronomy\n"
     ]
    }
   ],
   "source": [
    "url = input(\"Enter URL:\")"
   ]
  },
  {
   "cell_type": "code",
   "execution_count": 84,
   "metadata": {},
   "outputs": [],
   "source": [
    "page  = requests.get(url)\n",
    "page_text = bs4(page.text,'html.parser')"
   ]
  },
  {
   "cell_type": "code",
   "execution_count": 91,
   "metadata": {},
   "outputs": [
    {
     "data": {
      "text/plain": [
       "20"
      ]
     },
     "execution_count": 91,
     "metadata": {},
     "output_type": "execute_result"
    }
   ],
   "source": [
    "articles = page_text.find_all(class_ = 'article-link')"
   ]
  },
  {
   "cell_type": "code",
   "execution_count": 90,
   "metadata": {},
   "outputs": [
    {
     "data": {
      "text/html": [
       "<div>\n",
       "<style scoped>\n",
       "    .dataframe tbody tr th:only-of-type {\n",
       "        vertical-align: middle;\n",
       "    }\n",
       "\n",
       "    .dataframe tbody tr th {\n",
       "        vertical-align: top;\n",
       "    }\n",
       "\n",
       "    .dataframe thead th {\n",
       "        text-align: right;\n",
       "    }\n",
       "</style>\n",
       "<table border=\"1\" class=\"dataframe\">\n",
       "  <thead>\n",
       "    <tr style=\"text-align: right;\">\n",
       "      <th></th>\n",
       "      <th>page_url</th>\n",
       "      <th>date_posted</th>\n",
       "      <th>article_name</th>\n",
       "      <th>article_url</th>\n",
       "      <th>article_image_url</th>\n",
       "      <th>summary</th>\n",
       "    </tr>\n",
       "  </thead>\n",
       "  <tbody>\n",
       "    <tr>\n",
       "      <th>0</th>\n",
       "      <td>https://www.space.com/science-astronomy</td>\n",
       "      <td>2020-08-02T13:04:36Z</td>\n",
       "      <td>US Space Force hires a horse to boldly go wher...</td>\n",
       "      <td>https://www.space.com/space-force-space-horse....</td>\n",
       "      <td>https://cdn.mos.cms.futurecdn.net/gLrChM7Zjjtz...</td>\n",
       "      <td>\\nThe United States Space Force has a new recr...</td>\n",
       "    </tr>\n",
       "    <tr>\n",
       "      <th>1</th>\n",
       "      <td>https://www.space.com/science-astronomy</td>\n",
       "      <td>2020-08-01T12:09:54Z</td>\n",
       "      <td>The top space stories of the week!</td>\n",
       "      <td>https://www.space.com/36316-the-most-amazing-s...</td>\n",
       "      <td>https://cdn.mos.cms.futurecdn.net/hYb5AU2LG5EC...</td>\n",
       "      <td>\\nThese are the top space stories this week fr...</td>\n",
       "    </tr>\n",
       "    <tr>\n",
       "      <th>2</th>\n",
       "      <td>https://www.space.com/science-astronomy</td>\n",
       "      <td>2020-07-31T20:08:55Z</td>\n",
       "      <td>Comet Neowise: An increasingly rare opportunit...</td>\n",
       "      <td>https://www.space.com/comet-neowise-increasing...</td>\n",
       "      <td>https://cdn.mos.cms.futurecdn.net/SatuWc7dbkWf...</td>\n",
       "      <td>\\nNeowise is the first bright comet to be visi...</td>\n",
       "    </tr>\n",
       "    <tr>\n",
       "      <th>3</th>\n",
       "      <td>https://www.space.com/science-astronomy</td>\n",
       "      <td>2020-07-31T20:03:58Z</td>\n",
       "      <td>We could one day predict the most dangerous so...</td>\n",
       "      <td>https://www.space.com/predicting-solar-flares-...</td>\n",
       "      <td>https://cdn.mos.cms.futurecdn.net/WRUKwmVj46M4...</td>\n",
       "      <td>\\nScientists may one day be able to predict da...</td>\n",
       "    </tr>\n",
       "    <tr>\n",
       "      <th>4</th>\n",
       "      <td>https://www.space.com/science-astronomy</td>\n",
       "      <td>2020-07-31T17:28:46Z</td>\n",
       "      <td>NASA's Mars rover Perseverance is fine and out...</td>\n",
       "      <td>https://www.space.com/mars-rover-perseverance-...</td>\n",
       "      <td>https://cdn.mos.cms.futurecdn.net/GYqdzeLHU7Z8...</td>\n",
       "      <td>\\nYou can breathe easy now: All is officially ...</td>\n",
       "    </tr>\n",
       "  </tbody>\n",
       "</table>\n",
       "</div>"
      ],
      "text/plain": [
       "                                  page_url           date_posted  \\\n",
       "0  https://www.space.com/science-astronomy  2020-08-02T13:04:36Z   \n",
       "1  https://www.space.com/science-astronomy  2020-08-01T12:09:54Z   \n",
       "2  https://www.space.com/science-astronomy  2020-07-31T20:08:55Z   \n",
       "3  https://www.space.com/science-astronomy  2020-07-31T20:03:58Z   \n",
       "4  https://www.space.com/science-astronomy  2020-07-31T17:28:46Z   \n",
       "\n",
       "                                        article_name  \\\n",
       "0  US Space Force hires a horse to boldly go wher...   \n",
       "1                 The top space stories of the week!   \n",
       "2  Comet Neowise: An increasingly rare opportunit...   \n",
       "3  We could one day predict the most dangerous so...   \n",
       "4  NASA's Mars rover Perseverance is fine and out...   \n",
       "\n",
       "                                         article_url  \\\n",
       "0  https://www.space.com/space-force-space-horse....   \n",
       "1  https://www.space.com/36316-the-most-amazing-s...   \n",
       "2  https://www.space.com/comet-neowise-increasing...   \n",
       "3  https://www.space.com/predicting-solar-flares-...   \n",
       "4  https://www.space.com/mars-rover-perseverance-...   \n",
       "\n",
       "                                   article_image_url  \\\n",
       "0  https://cdn.mos.cms.futurecdn.net/gLrChM7Zjjtz...   \n",
       "1  https://cdn.mos.cms.futurecdn.net/hYb5AU2LG5EC...   \n",
       "2  https://cdn.mos.cms.futurecdn.net/SatuWc7dbkWf...   \n",
       "3  https://cdn.mos.cms.futurecdn.net/WRUKwmVj46M4...   \n",
       "4  https://cdn.mos.cms.futurecdn.net/GYqdzeLHU7Z8...   \n",
       "\n",
       "                                             summary  \n",
       "0  \\nThe United States Space Force has a new recr...  \n",
       "1  \\nThese are the top space stories this week fr...  \n",
       "2  \\nNeowise is the first bright comet to be visi...  \n",
       "3  \\nScientists may one day be able to predict da...  \n",
       "4  \\nYou can breathe easy now: All is officially ...  "
      ]
     },
     "execution_count": 90,
     "metadata": {},
     "output_type": "execute_result"
    }
   ],
   "source": [
    "columns=['page_url','date_posted','article_name','article_url','article_image_url','summary']\n",
    "data = []\n",
    "for i in articles:\n",
    "    data.append([url, i.find('time').attrs['datetime'], i.find(class_ = 'article-name').contents[0], i.attrs['href'], i.find('source').attrs['data-original-mos'], i.find(class_ = 'synopsis').contents[0]])\n",
    "df = pd.DataFrame(data, columns=columns)"
   ]
  },
  {
   "cell_type": "code",
   "execution_count": 82,
   "metadata": {},
   "outputs": [
    {
     "data": {
      "text/plain": [
       "(20, 6)"
      ]
     },
     "execution_count": 82,
     "metadata": {},
     "output_type": "execute_result"
    }
   ],
   "source": [
    "df.shape"
   ]
  },
  {
   "cell_type": "code",
   "execution_count": null,
   "metadata": {},
   "outputs": [],
   "source": []
  }
 ],
 "metadata": {
  "kernelspec": {
   "display_name": "Python 3",
   "language": "python",
   "name": "python3"
  },
  "language_info": {
   "codemirror_mode": {
    "name": "ipython",
    "version": 3
   },
   "file_extension": ".py",
   "mimetype": "text/x-python",
   "name": "python",
   "nbconvert_exporter": "python",
   "pygments_lexer": "ipython3",
   "version": "3.8.3"
  }
 },
 "nbformat": 4,
 "nbformat_minor": 4
}
