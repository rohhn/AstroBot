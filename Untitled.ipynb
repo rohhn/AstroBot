{
 "cells": [
  {
   "cell_type": "code",
   "execution_count": 21,
   "metadata": {},
   "outputs": [],
   "source": [
    "import folium\n",
    "import requests\n",
    "from folium import plugins\n",
    "import scipy.ndimage as reader\n",
    "from bs4 import BeautifulSoup as bs4"
   ]
  },
  {
   "cell_type": "code",
   "execution_count": 71,
   "metadata": {},
   "outputs": [],
   "source": [
    "openweather_layer_url = 'https://tile.openweathermap.org/map/clouds_new/1/0/0.png?appid=90701b1aba6e661af014c16e653b91c3'\n",
    "openweather_layer = requests.get(openweather_layer_url)"
   ]
  },
  {
   "cell_type": "code",
   "execution_count": 72,
   "metadata": {},
   "outputs": [
    {
     "data": {
      "text/plain": [
       "200"
      ]
     },
     "execution_count": 72,
     "metadata": {},
     "output_type": "execute_result"
    }
   ],
   "source": [
    "openweather_layer.status_code"
   ]
  },
  {
   "cell_type": "code",
   "execution_count": 73,
   "metadata": {},
   "outputs": [],
   "source": [
    "#r = requests.get(settings.STATICMAP_URL.format(**data), stream=True)\n",
    "if openweather_layer.status_code == 200:\n",
    "    with open('test1.png', 'wb') as f:\n",
    "        f.write(openweather_layer.content)"
   ]
  },
  {
   "cell_type": "code",
   "execution_count": 30,
   "metadata": {},
   "outputs": [
    {
     "name": "stdout",
     "output_type": "stream",
     "text": [
      "A <span class=\"searchmatch\">black</span> <span class=\"searchmatch\">hole</span> is a region of spacetime where gravity is so strong that nothing—no particles or even electromagnetic radiation such as light—can escape from\n"
     ]
    }
   ],
   "source": [
    "url = 'https://en.wikipedia.org/w/api.php?action=query&list=search&srsearch=black%20hole&format=json'\n",
    "response = requests.get(url).json()\n",
    "x = response['query']['search'][0]['snippet']\n",
    "print(x)"
   ]
  },
  {
   "cell_type": "code",
   "execution_count": 31,
   "metadata": {},
   "outputs": [
    {
     "data": {
      "text/plain": [
       "{'ns': 0,\n",
       " 'title': 'Black hole',\n",
       " 'pageid': 4650,\n",
       " 'size': 148744,\n",
       " 'wordcount': 16921,\n",
       " 'snippet': 'A <span class=\"searchmatch\">black</span> <span class=\"searchmatch\">hole</span> is a region of spacetime where gravity is so strong that nothing—no particles or even electromagnetic radiation such as light—can escape from',\n",
       " 'timestamp': '2020-09-18T11:50:10Z'}"
      ]
     },
     "execution_count": 31,
     "metadata": {},
     "output_type": "execute_result"
    }
   ],
   "source": [
    "response['query']['search'][0]"
   ]
  },
  {
   "cell_type": "code",
   "execution_count": 112,
   "metadata": {},
   "outputs": [],
   "source": [
    "url = 'https://en.wikipedia.org/w/api.php?action=query&list=search&srsearch=andromeda%20galaxy&srlimit=3&srwhat=nearmatch&format=json'\n",
    "response = requests.get(url).json()\n",
    "#x  = bs4(response.text, 'html.parser')\n",
    "#print(x.prettify())"
   ]
  },
  {
   "cell_type": "code",
   "execution_count": 113,
   "metadata": {},
   "outputs": [
    {
     "data": {
      "text/plain": [
       "{'batchcomplete': '',\n",
       " 'query': {'search': [{'ns': 0,\n",
       "    'title': 'Andromeda galaxy',\n",
       "    'pageid': 305632,\n",
       "    'size': 126,\n",
       "    'wordcount': 14,\n",
       "    'snippet': '',\n",
       "    'timestamp': '2016-11-29T20:57:17Z'}]}}"
      ]
     },
     "execution_count": 113,
     "metadata": {},
     "output_type": "execute_result"
    }
   ],
   "source": [
    "response"
   ]
  },
  {
   "cell_type": "code",
   "execution_count": 104,
   "metadata": {},
   "outputs": [],
   "source": [
    "page = response['query']['search'][0]['pageid']\n",
    "title = response['query']['search'][0]['title'].replace(' ', '_')"
   ]
  },
  {
   "cell_type": "code",
   "execution_count": 105,
   "metadata": {},
   "outputs": [
    {
     "data": {
      "text/plain": [
       "{'parse': {'title': 'Andromeda galaxy',\n",
       "  'pageid': 305632,\n",
       "  'revid': 752162656,\n",
       "  'text': {'*': '<div class=\"mw-parser-output\"><div class=\"redirectMsg\"><p>Redirect to:</p><ul class=\"redirectText\"><li><a href=\"/wiki/Andromeda_Galaxy\" title=\"Andromeda Galaxy\">Andromeda Galaxy</a></li></ul></div><table class=\"box-Redirect_category_shell plainlinks metadata ambox ambox-move\" role=\"presentation\" style=\"margin-top: 1.1em; border: solid 1px darkblue; border-left-width: 0.5em;\"><tbody><tr><td class=\"mbox-empty-cell\"></td><td class=\"mbox-text\" style=\"padding-top: 0.9em; padding-bottom: 0.9em;\"><div class=\"mbox-text-span\"><img alt=\"Symbol redirect arrow with gradient.svg\" src=\"//upload.wikimedia.org/wikipedia/commons/thumb/7/71/Symbol_redirect_arrow_with_gradient.svg/25px-Symbol_redirect_arrow_with_gradient.svg.png\" decoding=\"async\" width=\"25\" height=\"15\" srcset=\"//upload.wikimedia.org/wikipedia/commons/thumb/7/71/Symbol_redirect_arrow_with_gradient.svg/38px-Symbol_redirect_arrow_with_gradient.svg.png 1.5x, //upload.wikimedia.org/wikipedia/commons/thumb/7/71/Symbol_redirect_arrow_with_gradient.svg/50px-Symbol_redirect_arrow_with_gradient.svg.png 2x\" data-file-width=\"143\" data-file-height=\"88\" /> <b>This page is a <a href=\"/wiki/Wikipedia:Redirect\" title=\"Wikipedia:Redirect\">redirect</a>:</b>\\n<div class=\"rcat\">\\n<ul><li><b><a href=\"/wiki/Category:Redirects_from_moves\" title=\"Category:Redirects from moves\">From a page move</a></b>: This is a redirect from a page that has been moved (renamed). This page was kept as a redirect to avoid breaking links, both internal and external, that may have been made to the old page name.</li></ul>\\n</div>\\n<div class=\"rcat\">\\n<ul><li><b><a href=\"/wiki/Category:Redirects_from_miscapitalisations\" title=\"Category:Redirects from miscapitalisations\">From a miscapitalisation</a></b>: This is a redirect from a capitalisation error. The correct form is given by the target of the redirect.\\n<ul><li>This redirect is made available to aid <a href=\"/wiki/H:S\" class=\"mw-redirect\" title=\"H:S\">searches</a> or to maintain <a href=\"/wiki/H:L\" class=\"mw-redirect\" title=\"H:L\">links</a>. Pages that use this link should be updated to link directly to the correct form without using a <a href=\"/wiki/Wikipedia:Piped_link\" title=\"Wikipedia:Piped link\">piped link</a> hiding the correct details.</li>\\n<li>This template tags redirects with the <a href=\"/wiki/Category:Redirects_from_miscapitalisations\" title=\"Category:Redirects from miscapitalisations\">Redirects from miscapitalisations</a> category, a subcategory of <a href=\"/wiki/Category:Redirects_from_incorrect_names\" title=\"Category:Redirects from incorrect names\">Redirects from incorrect names</a>, so template &#123;&#123;<a href=\"/wiki/Template:R_from_incorrect_name\" title=\"Template:R from incorrect name\">R from incorrect name</a>&#125;&#125; should not be used with this template.</li></ul></li></ul>\\n</div>\\n<div class=\"rcat\">\\n<ul><li><b><a href=\"/wiki/Category:Unprintworthy_redirects\" title=\"Category:Unprintworthy redirects\">From an unprintworthy page title</a></b>: This is a redirect from a title that would <i>not</i> be helpful in a <a href=\"https://meta.wikimedia.org/wiki/Paper_Wikipedia\" class=\"extiw\" title=\"meta:Paper Wikipedia\">printed</a> or <a href=\"/wiki/Wikipedia:1\" class=\"mw-redirect\" title=\"Wikipedia:1\">CD/DVD</a> version of Wikipedia. See <a href=\"/wiki/Wikipedia:Printability\" title=\"Wikipedia:Printability\">Wikipedia:Printability</a> for more helpful information.</li></ul>\\n</div>\\n<i><small>When appropriate, <a href=\"/wiki/Wikipedia:Protection_policy\" title=\"Wikipedia:Protection policy\">protection levels</a> are automatically sensed, described and categorized.</small></i></div></td></tr></tbody></table>\\n<!-- \\nNewPP limit report\\nParsed by mw2286\\nCached time: 20200919045441\\nCache expiry: 2592000\\nDynamic content: false\\nComplications: []\\nCPU time usage: 0.068 seconds\\nReal time usage: 0.101 seconds\\nPreprocessor visited node count: 156/1000000\\nPost‐expand include size: 13342/2097152 bytes\\nTemplate argument size: 3393/2097152 bytes\\nHighest expansion depth: 13/40\\nExpensive parser function count: 0/500\\nUnstrip recursion depth: 0/20\\nUnstrip post‐expand size: 0/5000000 bytes\\nLua time usage: 0.012/10.000 seconds\\nLua memory usage: 835 KB/50 MB\\nNumber of Wikibase entities loaded: 0/400\\n-->\\n<!--\\nTransclusion expansion time report (%,ms,calls,template)\\n100.00%   81.931      1 -total\\n100.00%   81.931      1 Template:Redirect_category_shell\\n 94.69%   77.582      1 Template:Mbox\\n 18.75%   15.365      1 Template:R_from_move\\n 18.45%   15.120      1 Template:R_from_miscapitalization\\n 18.25%   14.949      3 Template:Redirect_template\\n  5.61%    4.599      1 Template:R_from_move/except\\n  3.83%    3.137      1 Template:R_unprintworthy\\n  3.70%    3.035      1 Template:Main_other\\n  2.97%    2.432      1 Template:Tl\\n-->\\n\\n<!-- Saved in parser cache with key enwiki:pcache:idhash:305632-0!canonical and timestamp 20200919045441 and revision id 752162656\\n -->\\n</div>'},\n",
       "  'langlinks': [],\n",
       "  'categories': [{'sortkey': '', 'hidden': '', '*': 'Redirects_from_moves'},\n",
       "   {'sortkey': '', 'hidden': '', '*': 'Redirects_from_miscapitalisations'},\n",
       "   {'sortkey': '', 'hidden': '', '*': 'Unprintworthy_redirects'}],\n",
       "  'links': [{'ns': 0, 'exists': '', '*': 'H:L'},\n",
       "   {'ns': 0, 'exists': '', '*': 'H:S'},\n",
       "   {'ns': 0, 'exists': '', '*': 'Andromeda Galaxy'},\n",
       "   {'ns': 4, 'exists': '', '*': 'Wikipedia:1'},\n",
       "   {'ns': 4, 'exists': '', '*': 'Wikipedia:Piped link'},\n",
       "   {'ns': 4, 'exists': '', '*': 'Wikipedia:Printability'},\n",
       "   {'ns': 4, 'exists': '', '*': 'Wikipedia:Protection policy'},\n",
       "   {'ns': 4, 'exists': '', '*': 'Wikipedia:Redirect'},\n",
       "   {'ns': 10, 'exists': '', '*': 'Template:R from incorrect name'},\n",
       "   {'ns': 14, 'exists': '', '*': 'Category:Redirects from incorrect names'},\n",
       "   {'ns': 14, 'exists': '', '*': 'Category:Redirects from miscapitalisations'},\n",
       "   {'ns': 14, 'exists': '', '*': 'Category:Redirects from moves'},\n",
       "   {'ns': 14, 'exists': '', '*': 'Category:Unprintworthy redirects'}],\n",
       "  'templates': [{'ns': 10,\n",
       "    'exists': '',\n",
       "    '*': 'Template:Redirect category shell'},\n",
       "   {'ns': 10, 'exists': '', '*': 'Template:Mbox'},\n",
       "   {'ns': 10, 'exists': '', '*': 'Template:R from move'},\n",
       "   {'ns': 10, 'exists': '', '*': 'Template:Redirect template'},\n",
       "   {'ns': 10, 'exists': '', '*': 'Template:R from move/except'},\n",
       "   {'ns': 10, 'exists': '', '*': 'Template:R from miscapitalization'},\n",
       "   {'ns': 10, 'exists': '', '*': 'Template:R from miscapitalisation'},\n",
       "   {'ns': 10, 'exists': '', '*': 'Template:C'},\n",
       "   {'ns': 10, 'exists': '', '*': 'Template:Tl'},\n",
       "   {'ns': 10, 'exists': '', '*': 'Template:Main other'},\n",
       "   {'ns': 10, 'exists': '', '*': 'Template:R unprintworthy'},\n",
       "   {'ns': 828, 'exists': '', '*': 'Module:Message box'},\n",
       "   {'ns': 828, 'exists': '', '*': 'Module:No globals'},\n",
       "   {'ns': 828, 'exists': '', '*': 'Module:Yesno'},\n",
       "   {'ns': 828, 'exists': '', '*': 'Module:Arguments'},\n",
       "   {'ns': 828, 'exists': '', '*': 'Module:Message box/configuration'},\n",
       "   {'ns': 828, 'exists': '', '*': 'Module:Redirect template'}],\n",
       "  'images': ['Symbol_redirect_arrow_with_gradient.svg'],\n",
       "  'externallinks': [],\n",
       "  'sections': [],\n",
       "  'parsewarnings': [],\n",
       "  'displaytitle': 'Andromeda galaxy',\n",
       "  'iwlinks': [{'prefix': 'meta',\n",
       "    'url': 'https://meta.wikimedia.org/wiki/Paper_Wikipedia',\n",
       "    '*': 'meta:Paper Wikipedia'}],\n",
       "  'properties': []}}"
      ]
     },
     "execution_count": 105,
     "metadata": {},
     "output_type": "execute_result"
    }
   ],
   "source": [
    "url = 'https://en.wikipedia.org/w/api.php?action=parse&page='+str(title)+'&format=json'\n",
    "response = requests.get(url).json()\n",
    "response"
   ]
  },
  {
   "cell_type": "code",
   "execution_count": 111,
   "metadata": {},
   "outputs": [
    {
     "name": "stdout",
     "output_type": "stream",
     "text": [
      "<div class=\"mw-parser-output\">\n",
      " <div class=\"redirectMsg\">\n",
      "  <p>\n",
      "   Redirect to:\n",
      "  </p>\n",
      "  <ul class=\"redirectText\">\n",
      "   <li>\n",
      "    <a href=\"/wiki/Andromeda_Galaxy\" title=\"Andromeda Galaxy\">\n",
      "     Andromeda Galaxy\n",
      "    </a>\n",
      "   </li>\n",
      "  </ul>\n",
      " </div>\n",
      " <table class=\"box-Redirect_category_shell plainlinks metadata ambox ambox-move\" role=\"presentation\" style=\"margin-top: 1.1em; border: solid 1px darkblue; border-left-width: 0.5em;\">\n",
      "  <tbody>\n",
      "   <tr>\n",
      "    <td class=\"mbox-empty-cell\">\n",
      "    </td>\n",
      "    <td class=\"mbox-text\" style=\"padding-top: 0.9em; padding-bottom: 0.9em;\">\n",
      "     <div class=\"mbox-text-span\">\n",
      "      <img alt=\"Symbol redirect arrow with gradient.svg\" data-file-height=\"88\" data-file-width=\"143\" decoding=\"async\" height=\"15\" src=\"//upload.wikimedia.org/wikipedia/commons/thumb/7/71/Symbol_redirect_arrow_with_gradient.svg/25px-Symbol_redirect_arrow_with_gradient.svg.png\" srcset=\"//upload.wikimedia.org/wikipedia/commons/thumb/7/71/Symbol_redirect_arrow_with_gradient.svg/38px-Symbol_redirect_arrow_with_gradient.svg.png 1.5x, //upload.wikimedia.org/wikipedia/commons/thumb/7/71/Symbol_redirect_arrow_with_gradient.svg/50px-Symbol_redirect_arrow_with_gradient.svg.png 2x\" width=\"25\"/>\n",
      "      <b>\n",
      "       This page is a\n",
      "       <a href=\"/wiki/Wikipedia:Redirect\" title=\"Wikipedia:Redirect\">\n",
      "        redirect\n",
      "       </a>\n",
      "       :\n",
      "      </b>\n",
      "      <div class=\"rcat\">\n",
      "       <ul>\n",
      "        <li>\n",
      "         <b>\n",
      "          <a href=\"/wiki/Category:Redirects_from_moves\" title=\"Category:Redirects from moves\">\n",
      "           From a page move\n",
      "          </a>\n",
      "         </b>\n",
      "         : This is a redirect from a page that has been moved (renamed). This page was kept as a redirect to avoid breaking links, both internal and external, that may have been made to the old page name.\n",
      "        </li>\n",
      "       </ul>\n",
      "      </div>\n",
      "      <div class=\"rcat\">\n",
      "       <ul>\n",
      "        <li>\n",
      "         <b>\n",
      "          <a href=\"/wiki/Category:Redirects_from_miscapitalisations\" title=\"Category:Redirects from miscapitalisations\">\n",
      "           From a miscapitalisation\n",
      "          </a>\n",
      "         </b>\n",
      "         : This is a redirect from a capitalisation error. The correct form is given by the target of the redirect.\n",
      "         <ul>\n",
      "          <li>\n",
      "           This redirect is made available to aid\n",
      "           <a class=\"mw-redirect\" href=\"/wiki/H:S\" title=\"H:S\">\n",
      "            searches\n",
      "           </a>\n",
      "           or to maintain\n",
      "           <a class=\"mw-redirect\" href=\"/wiki/H:L\" title=\"H:L\">\n",
      "            links\n",
      "           </a>\n",
      "           . Pages that use this link should be updated to link directly to the correct form without using a\n",
      "           <a href=\"/wiki/Wikipedia:Piped_link\" title=\"Wikipedia:Piped link\">\n",
      "            piped link\n",
      "           </a>\n",
      "           hiding the correct details.\n",
      "          </li>\n",
      "          <li>\n",
      "           This template tags redirects with the\n",
      "           <a href=\"/wiki/Category:Redirects_from_miscapitalisations\" title=\"Category:Redirects from miscapitalisations\">\n",
      "            Redirects from miscapitalisations\n",
      "           </a>\n",
      "           category, a subcategory of\n",
      "           <a href=\"/wiki/Category:Redirects_from_incorrect_names\" title=\"Category:Redirects from incorrect names\">\n",
      "            Redirects from incorrect names\n",
      "           </a>\n",
      "           , so template {{\n",
      "           <a href=\"/wiki/Template:R_from_incorrect_name\" title=\"Template:R from incorrect name\">\n",
      "            R from incorrect name\n",
      "           </a>\n",
      "           }} should not be used with this template.\n",
      "          </li>\n",
      "         </ul>\n",
      "        </li>\n",
      "       </ul>\n",
      "      </div>\n",
      "      <div class=\"rcat\">\n",
      "       <ul>\n",
      "        <li>\n",
      "         <b>\n",
      "          <a href=\"/wiki/Category:Unprintworthy_redirects\" title=\"Category:Unprintworthy redirects\">\n",
      "           From an unprintworthy page title\n",
      "          </a>\n",
      "         </b>\n",
      "         : This is a redirect from a title that would\n",
      "         <i>\n",
      "          not\n",
      "         </i>\n",
      "         be helpful in a\n",
      "         <a class=\"extiw\" href=\"https://meta.wikimedia.org/wiki/Paper_Wikipedia\" title=\"meta:Paper Wikipedia\">\n",
      "          printed\n",
      "         </a>\n",
      "         or\n",
      "         <a class=\"mw-redirect\" href=\"/wiki/Wikipedia:1\" title=\"Wikipedia:1\">\n",
      "          CD/DVD\n",
      "         </a>\n",
      "         version of Wikipedia. See\n",
      "         <a href=\"/wiki/Wikipedia:Printability\" title=\"Wikipedia:Printability\">\n",
      "          Wikipedia:Printability\n",
      "         </a>\n",
      "         for more helpful information.\n",
      "        </li>\n",
      "       </ul>\n",
      "      </div>\n",
      "      <i>\n",
      "       <small>\n",
      "        When appropriate,\n",
      "        <a href=\"/wiki/Wikipedia:Protection_policy\" title=\"Wikipedia:Protection policy\">\n",
      "         protection levels\n",
      "        </a>\n",
      "        are automatically sensed, described and categorized.\n",
      "       </small>\n",
      "      </i>\n",
      "     </div>\n",
      "    </td>\n",
      "   </tr>\n",
      "  </tbody>\n",
      " </table>\n",
      " <!-- \n",
      "NewPP limit report\n",
      "Parsed by mw2286\n",
      "Cached time: 20200919045441\n",
      "Cache expiry: 2592000\n",
      "Dynamic content: false\n",
      "Complications: []\n",
      "CPU time usage: 0.068 seconds\n",
      "Real time usage: 0.101 seconds\n",
      "Preprocessor visited node count: 156/1000000\n",
      "Post‐expand include size: 13342/2097152 bytes\n",
      "Template argument size: 3393/2097152 bytes\n",
      "Highest expansion depth: 13/40\n",
      "Expensive parser function count: 0/500\n",
      "Unstrip recursion depth: 0/20\n",
      "Unstrip post‐expand size: 0/5000000 bytes\n",
      "Lua time usage: 0.012/10.000 seconds\n",
      "Lua memory usage: 835 KB/50 MB\n",
      "Number of Wikibase entities loaded: 0/400\n",
      "-->\n",
      " <!--\n",
      "Transclusion expansion time report (%,ms,calls,template)\n",
      "100.00%   81.931      1 -total\n",
      "100.00%   81.931      1 Template:Redirect_category_shell\n",
      " 94.69%   77.582      1 Template:Mbox\n",
      " 18.75%   15.365      1 Template:R_from_move\n",
      " 18.45%   15.120      1 Template:R_from_miscapitalization\n",
      " 18.25%   14.949      3 Template:Redirect_template\n",
      "  5.61%    4.599      1 Template:R_from_move/except\n",
      "  3.83%    3.137      1 Template:R_unprintworthy\n",
      "  3.70%    3.035      1 Template:Main_other\n",
      "  2.97%    2.432      1 Template:Tl\n",
      "-->\n",
      " <!-- Saved in parser cache with key enwiki:pcache:idhash:305632-0!canonical and timestamp 20200919045441 and revision id 752162656\n",
      " -->\n",
      "</div>\n"
     ]
    }
   ],
   "source": [
    "html = bs4(response['parse']['text']['*'], 'html.parser')\n",
    "print(html.prettify())"
   ]
  },
  {
   "cell_type": "code",
   "execution_count": 107,
   "metadata": {},
   "outputs": [],
   "source": [
    "for x in html.find_all('p'):\n",
    "    if(len(x)>10):\n",
    "        print(x.text)\n",
    "        break"
   ]
  },
  {
   "cell_type": "code",
   "execution_count": 110,
   "metadata": {},
   "outputs": [
    {
     "data": {
      "text/plain": [
       "[<p>Redirect to:</p>]"
      ]
     },
     "execution_count": 110,
     "metadata": {},
     "output_type": "execute_result"
    }
   ],
   "source": [
    "html.find_all('p')"
   ]
  },
  {
   "cell_type": "code",
   "execution_count": 1,
   "metadata": {},
   "outputs": [
    {
     "ename": "ModuleNotFoundError",
     "evalue": "No module named 'libgen'",
     "output_type": "error",
     "traceback": [
      "\u001b[0;31m---------------------------------------------------------------------------\u001b[0m",
      "\u001b[0;31mModuleNotFoundError\u001b[0m                       Traceback (most recent call last)",
      "\u001b[0;32m<ipython-input-1-59cf00279a92>\u001b[0m in \u001b[0;36m<module>\u001b[0;34m\u001b[0m\n\u001b[0;32m----> 1\u001b[0;31m \u001b[0;32mimport\u001b[0m \u001b[0mlibgen\u001b[0m\u001b[0;34m\u001b[0m\u001b[0;34m\u001b[0m\u001b[0m\n\u001b[0m",
      "\u001b[0;31mModuleNotFoundError\u001b[0m: No module named 'libgen'"
     ]
    }
   ],
   "source": [
    "import libgen"
   ]
  },
  {
   "cell_type": "code",
   "execution_count": null,
   "metadata": {},
   "outputs": [],
   "source": []
  }
 ],
 "metadata": {
  "kernelspec": {
   "display_name": "Python 3",
   "language": "python",
   "name": "python3"
  },
  "language_info": {
   "codemirror_mode": {
    "name": "ipython",
    "version": 3
   },
   "file_extension": ".py",
   "mimetype": "text/x-python",
   "name": "python",
   "nbconvert_exporter": "python",
   "pygments_lexer": "ipython3",
   "version": "3.8.3"
  }
 },
 "nbformat": 4,
 "nbformat_minor": 4
}
