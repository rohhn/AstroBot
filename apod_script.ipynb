{
 "cells": [
  {
   "cell_type": "code",
   "execution_count": 1,
   "metadata": {},
   "outputs": [],
   "source": [
    "from bs4 import BeautifulSoup as bs4\n",
    "import requests\n",
    "import time\n",
    "import re"
   ]
  },
  {
   "cell_type": "code",
   "execution_count": 2,
   "metadata": {},
   "outputs": [],
   "source": [
    "#while(True):\n",
    "url = \"https://apod.nasa.gov/apod/astropix.html\"\n",
    "response = requests.get(url)\n",
    "page_text = bs4(response.text, 'html.parser')"
   ]
  },
  {
   "cell_type": "code",
   "execution_count": 7,
   "metadata": {
    "collapsed": true,
    "jupyter": {
     "outputs_hidden": true
    }
   },
   "outputs": [
    {
     "name": "stdout",
     "output_type": "stream",
     "text": [
      "﻿\n",
      "<!DOCTYPE html>\n",
      "<html>\n",
      " <head>\n",
      "  <title>\n",
      "   Astronomy Picture of the Day\n",
      "  </title>\n",
      "  <!-- gsfc meta tags -->\n",
      "  <meta content=\"661\" name=\"orgcode\"/>\n",
      "  <meta content=\"phillip.a.newman\" name=\"rno\"/>\n",
      "  <meta content=\"Jerry.T.Bonnell.1\" name=\"content-owner\"/>\n",
      "  <meta content=\"Stephen.F.Fantasia.1\" name=\"webmaster\"/>\n",
      "  <meta content=\"A different astronomy and space science\n",
      "related image is featured each day, along with a brief explanation.\" name=\"description\"/>\n",
      "  <!-- -->\n",
      "  <meta content=\"width=device-width, initial-scale=1\" name=\"viewport\"/>\n",
      "  <meta content=\"Comet NEOWISE, Vikos Gorge, Big Dipper\" name=\"keywords\"/>\n",
      "  <!-- -->\n",
      "  <script id=\"_fed_an_ua_tag\" src=\"//dap.digitalgov.gov/Universal-Federated-Analytics-Min.js?agency=NASA\">\n",
      "  </script>\n",
      " </head>\n",
      " <body alink=\"#FF0000\" bgcolor=\"#F4F4FF\" link=\"#0000FF\" text=\"#000000\" vlink=\"#7F0F9F\">\n",
      "  <center>\n",
      "   <h1>\n",
      "    Astronomy Picture of the Day\n",
      "   </h1>\n",
      "   <p>\n",
      "    <a href=\"archivepix.html\">\n",
      "     Discover the cosmos!\n",
      "    </a>\n",
      "    Each day a different image or photograph of our fascinating universe is\n",
      "featured, along with a brief explanation written by a professional astronomer.\n",
      "    <p>\n",
      "     2020 August 3\n",
      "     <br/>\n",
      "     <a href=\"image/2008/NeowiseGorge_Emmanouilidi_1161.jpg\">\n",
      "      <img alt=\"See Explanation.  Clicking on the picture will download\n",
      "the highest resolution version available.\" src=\"image/2008/NeowiseGorge_Emmanouilidi_960.jpg\" style=\"max-width:100%\"/>\n",
      "     </a>\n",
      "    </p>\n",
      "   </p>\n",
      "  </center>\n",
      "  <center>\n",
      "   <b>\n",
      "    Comet NEOWISE over Vikos Gorge\n",
      "   </b>\n",
      "   <br/>\n",
      "   <b>\n",
      "    Image Credit &amp; Copyright:\n",
      "   </b>\n",
      "   <a href=\"mailto: costas at greenhouses dot gr\">\n",
      "    Constantine Emmanouilidi\n",
      "   </a>\n",
      "  </center>\n",
      "  <p>\n",
      "   <b>\n",
      "    Explanation:\n",
      "   </b>\n",
      "   Did the Earth part to show us this comet? \n",
      "\n",
      "Of course not, even if this image makes it seem that way.\n",
      "\n",
      "Pictured far in the background is\n",
      "   <a href=\"ap200722.html\">\n",
      "    Comet NEOWISE\n",
      "   </a>\n",
      "   as it appeared about two weeks ago over northern\n",
      "   <a href=\"https://en.wikipedia.org/wiki/Greece\">\n",
      "    Greece\n",
      "   </a>\n",
      "   .\n",
      "\n",
      "Above the comet are many stars including the bright stars of the\n",
      "   <a href=\"https://en.wikipedia.org/wiki/Big_Dipper#Cultural_associations\">\n",
      "    Big Dipper\n",
      "   </a>\n",
      "   (\n",
      "   <a href=\"https://oklahoman.com/article/3035192/various-cultures-offer-legends-regarding-big-dipper\">\n",
      "    also the Sorcerer\n",
      "   </a>\n",
      "   , in\n",
      "   <a href=\"https://en.wikipedia.org/wiki/Aztec_mythology\">\n",
      "    Aztec mythology\n",
      "   </a>\n",
      "   ), \n",
      "an\n",
      "   <a href=\"https://en.wikipedia.org/wiki/Asterism_(astronomy)\">\n",
      "    asterism\n",
      "   </a>\n",
      "   that many people around the world used to find\n",
      "   <a href=\"ap200720.html\">\n",
      "    the naked-eye comet\n",
      "   </a>\n",
      "   as it hovered \n",
      "in the northern sky over the past month. \n",
      "\n",
      "In the foreground is\n",
      "   <a href=\"https://youtu.be/BZb7HFN5-Vg\">\n",
      "    Vikos Gorge\n",
      "   </a>\n",
      "   , the\n",
      "   <a href=\"https://en.wikipedia.org/wiki/Vikos_Gorge\">\n",
      "    deepest gorge\n",
      "   </a>\n",
      "   on Earth, relative to its width.\n",
      "\n",
      "The gorge was slowly created by\n",
      "   <a href=\"https://www.nationalgeographic.org/encyclopedia/erosion/\">\n",
      "    erosion\n",
      "   </a>\n",
      "   from the Voidomatis River over the past few million years. \n",
      "\n",
      "Capturing this image took a lot of planning,\n",
      "   <a href=\"https://static.boredpanda.com/blog/wp-content/uploads/2014/07/cat-waiting-window-69.jpg\">\n",
      "    waiting\n",
      "   </a>\n",
      "   , luck, braving high winds, and avoiding local wolves.\n",
      "   <a href=\"https://en.wikipedia.org/wiki/C/2020_F3_(NEOWISE)\">\n",
      "    Comet C/2020 F3 (NEOWISE)\n",
      "   </a>\n",
      "   continues to\n",
      "   <a href=\"https://cobs.si/analysis2?col=comet_id&amp;id=1875&amp;plot_type=0\">\n",
      "    fade\n",
      "   </a>\n",
      "   and is now best visible through binoculars as it\n",
      "   <a href=\"https://ssd.jpl.nasa.gov/sbdb.cgi?sstr=C%2F2020%20F3;old=0;orb=1;cov=0;log=0;cad=0\">\n",
      "    coasts back\n",
      "   </a>\n",
      "   to the outer\n",
      "   <a href=\"https://solarsystem.nasa.gov/solar-system/our-solar-system/in-depth/\">\n",
      "    Solar System\n",
      "   </a>\n",
      "   .\n",
      "   <p>\n",
      "    <center>\n",
      "     <b>\n",
      "      Notable Comet NEOWISE Images:\n",
      "     </b>\n",
      "     July\n",
      "     <a href=\"https://www.facebook.com/media/set/?set=a.2818635991573935&amp;type=3\">\n",
      "      31\n",
      "     </a>\n",
      "     <a href=\"https://www.facebook.com/media/set/?set=a.2814764565294411&amp;type=3\">\n",
      "      30\n",
      "     </a>\n",
      "     ,\n",
      "     <a href=\"https://www.facebook.com/media/set/?set=a.2811464625624405&amp;type=3\">\n",
      "      29\n",
      "     </a>\n",
      "     ,\n",
      "     <a href=\"https://www.facebook.com/media/set/?set=a.2808659892571545&amp;type=3\">\n",
      "      28\n",
      "     </a>\n",
      "     ,\n",
      "     <a href=\"https://www.facebook.com/media/set/?set=a.2806003322837202&amp;type=3\">\n",
      "      27\n",
      "     </a>\n",
      "     ,\n",
      "     <a href=\"https://www.facebook.com/media/set/?set=a.2803425026428365&amp;type=3\">\n",
      "      26\n",
      "     </a>\n",
      "     ,\n",
      "     <a href=\"https://www.facebook.com/media/set/?set=a.2800436196727248&amp;type=3\">\n",
      "      25\n",
      "     </a>\n",
      "     ,\n",
      "     <a href=\"https://www.facebook.com/media/set/?set=a.2797140183723516&amp;type=3\">\n",
      "      24\n",
      "     </a>\n",
      "     <br/>\n",
      "     <b>\n",
      "      Tomorrow's picture:\n",
      "     </b>\n",
      "     galaxy swirl\n",
      "     <p>\n",
      "      <hr/>\n",
      "      <a href=\"ap200802.html\">\n",
      "       &lt;\n",
      "      </a>\n",
      "      |\n",
      "      <a href=\"archivepix.html\">\n",
      "       Archive\n",
      "      </a>\n",
      "      |\n",
      "      <a href=\"lib/apsubmit2015.html\">\n",
      "       Submissions\n",
      "      </a>\n",
      "      |\n",
      "      <a href=\"lib/aptree.html\">\n",
      "       Index\n",
      "      </a>\n",
      "      |\n",
      "      <a href=\"https://antwrp.gsfc.nasa.gov/cgi-bin/apod/apod_search\">\n",
      "       Search\n",
      "      </a>\n",
      "      |\n",
      "      <a href=\"calendar/allyears.html\">\n",
      "       Calendar\n",
      "      </a>\n",
      "      |\n",
      "      <a href=\"/apod.rss\">\n",
      "       RSS\n",
      "      </a>\n",
      "      |\n",
      "      <a href=\"lib/edlinks.html\">\n",
      "       Education\n",
      "      </a>\n",
      "      |\n",
      "      <a href=\"lib/about_apod.html\">\n",
      "       About APOD\n",
      "      </a>\n",
      "      |\n",
      "      <a href=\"http://asterisk.apod.com/discuss_apod.php?date=200803\">\n",
      "       Discuss\n",
      "      </a>\n",
      "      |\n",
      "      <a href=\"ap200804.html\">\n",
      "       &gt;\n",
      "      </a>\n",
      "      <hr/>\n",
      "      <p>\n",
      "       <b>\n",
      "        Authors &amp; editors:\n",
      "       </b>\n",
      "       <a href=\"http://www.phy.mtu.edu/faculty/Nemiroff.html\">\n",
      "        Robert Nemiroff\n",
      "       </a>\n",
      "       (\n",
      "       <a href=\"http://www.phy.mtu.edu/\">\n",
      "        MTU\n",
      "       </a>\n",
      "       ) &amp;\n",
      "       <a href=\"https://antwrp.gsfc.nasa.gov/htmltest/jbonnell/www/bonnell.html\">\n",
      "        Jerry Bonnell\n",
      "       </a>\n",
      "       (\n",
      "       <a href=\"http://www.astro.umd.edu/\">\n",
      "        UMCP\n",
      "       </a>\n",
      "       )\n",
      "       <br/>\n",
      "       <b>\n",
      "        NASA Official:\n",
      "       </b>\n",
      "       Phillip Newman\n",
      "       <a href=\"lib/about_apod.html#srapply\">\n",
      "        Specific rights apply\n",
      "       </a>\n",
      "       .\n",
      "       <br/>\n",
      "       <a href=\"https://www.nasa.gov/about/highlights/HP_Privacy.html\">\n",
      "        NASA Web\n",
      "Privacy Policy and Important Notices\n",
      "       </a>\n",
      "       <br/>\n",
      "       <b>\n",
      "        A service of:\n",
      "       </b>\n",
      "       <a href=\"https://astrophysics.gsfc.nasa.gov/\">\n",
      "        ASD\n",
      "       </a>\n",
      "       at\n",
      "       <a href=\"https://www.nasa.gov/\">\n",
      "        NASA\n",
      "       </a>\n",
      "       /\n",
      "       <a href=\"https://www.nasa.gov/centers/goddard/\">\n",
      "        GSFC\n",
      "       </a>\n",
      "       <br/>\n",
      "       <b>\n",
      "        &amp;\n",
      "       </b>\n",
      "       <a href=\"http://www.mtu.edu/\">\n",
      "        Michigan Tech. U.\n",
      "       </a>\n",
      "       <br/>\n",
      "      </p>\n",
      "     </p>\n",
      "    </center>\n",
      "   </p>\n",
      "  </p>\n",
      " </body>\n",
      "</html>\n",
      "\n"
     ]
    }
   ],
   "source": [
    "print(page_text.prettify())"
   ]
  },
  {
   "cell_type": "code",
   "execution_count": 3,
   "metadata": {},
   "outputs": [
    {
     "data": {
      "text/plain": [
       "'2020 August 4 '"
      ]
     },
     "execution_count": 3,
     "metadata": {},
     "output_type": "execute_result"
    }
   ],
   "source": [
    "page_text.find(\"p\").contents[3].get_text().replace('\\n','')"
   ]
  },
  {
   "cell_type": "code",
   "execution_count": 4,
   "metadata": {},
   "outputs": [
    {
     "data": {
      "text/plain": [
       "'image/2008/NGC2442_HstGendler_960.jpg'"
      ]
     },
     "execution_count": 4,
     "metadata": {},
     "output_type": "execute_result"
    }
   ],
   "source": [
    "page_text.find_all('center')[0].find('img')['src']"
   ]
  },
  {
   "cell_type": "code",
   "execution_count": 5,
   "metadata": {},
   "outputs": [
    {
     "data": {
      "text/plain": [
       "' NGC 2442: Galaxy in Volans   Image Credit &Copyright: Processing:  Robert Gendler & Roberto ColombariData: Hubble Legacy Archive,European Southern Observatory'"
      ]
     },
     "execution_count": 5,
     "metadata": {},
     "output_type": "execute_result"
    }
   ],
   "source": [
    "page_text.find_all('center')[1].get_text().replace(\"\\n\",\"\")"
   ]
  },
  {
   "cell_type": "code",
   "execution_count": 6,
   "metadata": {},
   "outputs": [
    {
     "data": {
      "text/plain": [
       "<center>\n",
       "<b> Tomorrow's picture: </b>sun dagger\n",
       "\n",
       "<p> <hr/>\n",
       "<a href=\"ap200803.html\">&lt;</a>\n",
       "| <a href=\"archivepix.html\">Archive</a>\n",
       "| <a href=\"lib/apsubmit2015.html\">Submissions</a> \n",
       "| <a href=\"lib/aptree.html\">Index</a>\n",
       "| <a href=\"https://antwrp.gsfc.nasa.gov/cgi-bin/apod/apod_search\">Search</a>\n",
       "| <a href=\"calendar/allyears.html\">Calendar</a>\n",
       "| <a href=\"/apod.rss\">RSS</a>\n",
       "| <a href=\"lib/edlinks.html\">Education</a>\n",
       "| <a href=\"lib/about_apod.html\">About APOD</a>\n",
       "| <a href=\"http://asterisk.apod.com/discuss_apod.php?date=200804\">Discuss</a>\n",
       "| <a href=\"ap200805.html\">&gt;</a>\n",
       "<hr/><p>\n",
       "<b> Authors &amp; editors: </b>\n",
       "<a href=\"http://www.phy.mtu.edu/faculty/Nemiroff.html\">Robert Nemiroff</a>\n",
       "(<a href=\"http://www.phy.mtu.edu/\">MTU</a>) &amp;\n",
       "<a href=\"https://antwrp.gsfc.nasa.gov/htmltest/jbonnell/www/bonnell.html\">Jerry Bonnell</a> (<a href=\"http://www.astro.umd.edu/\">UMCP</a>)<br/>\n",
       "<b>NASA Official: </b> Phillip Newman\n",
       "<a href=\"lib/about_apod.html#srapply\">Specific rights apply</a>.<br/>\n",
       "<a href=\"https://www.nasa.gov/about/highlights/HP_Privacy.html\">NASA Web\n",
       "Privacy Policy and Important Notices</a><br/>\n",
       "<b>A service of:</b>\n",
       "<a href=\"https://astrophysics.gsfc.nasa.gov/\">ASD</a> at\n",
       "<a href=\"https://www.nasa.gov/\">NASA</a> /\n",
       "<a href=\"https://www.nasa.gov/centers/goddard/\">GSFC</a>\n",
       "<br/><b>&amp;</b> <a href=\"http://www.mtu.edu/\">Michigan Tech. U.</a><br/>\n",
       "</p></p></center>"
      ]
     },
     "execution_count": 6,
     "metadata": {},
     "output_type": "execute_result"
    }
   ],
   "source": [
    "page_text.find_all('center')[2]"
   ]
  },
  {
   "cell_type": "code",
   "execution_count": 7,
   "metadata": {},
   "outputs": [
    {
     "data": {
      "text/plain": [
       "'\\n<b> Explanation: </b> \\nDistorted galaxy NGC 2442 can be found in the southern constellation of the\\n<a href=\"https://youtu.be/8nEwte-x-iw\">flying fish</a>,\\n(Piscis) <a href=\"https://en.wikipedia.org/wiki/Volans\">Volans</a>.\\n\\nLocated about 50 million light-years away, the galaxy\\'s two\\nspiral arms extending from a pronounced central bar have a hook-like\\nappearance in <a href=\"ap090228.html\">wide-field images</a>.\\n\\nBut this\\n<a href=\"http://www.robgendlerastropics.com/NGC2442-HST-ESO-New.html\">mosaicked close-up</a>, constructed from \\n<a href=\"https://www.nasa.gov/mission_pages/hubble/story/index.html\">Hubble Space Telescope</a> and \\n<a href=\"https://www.eso.org/public/about-eso/\">European Southern Observatory</a> \\ndata, follows the galaxy\\'s structure in \\n<a href=\"https://i.pinimg.com/originals/d6/dc/8b/d6dc8b1771b697ff2992982482911274.jpg\">amazing detail</a>.\\n\\nObscuring dust lanes, young blue star clusters and\\n<a href=\"ap061123.html\">reddish star forming</a> regions\\nsurround a core of yellowish light from an older population of \\n<a href=\"https://science.nasa.gov/astrophysics/focus-areas/how-do-stars-form-and-evolve\">stars</a>.\\n\\nThe sharp image data also reveal more distant\\nbackground galaxies seen right through NGC 2442\\'s\\nstar clusters and nebulae.\\n\\nThe image spans about 75,000 \\n<a href=\"https://spaceplace.nasa.gov/light-year/en/\">light-years</a> \\nat the estimated distance\\n<a href=\"https://arxiv.org/abs/astro-ph/9701015\">of NGC 2442</a>.\\n\\n\\n'"
      ]
     },
     "execution_count": 7,
     "metadata": {},
     "output_type": "execute_result"
    }
   ],
   "source": [
    "re.split('<p>',str(page_text.find_all('p')[2]))[1]"
   ]
  },
  {
   "cell_type": "code",
   "execution_count": 67,
   "metadata": {},
   "outputs": [
    {
     "ename": "TypeError",
     "evalue": "unhashable type: 'list'",
     "output_type": "error",
     "traceback": [
      "\u001b[0;31m---------------------------------------------------------------------------\u001b[0m",
      "\u001b[0;31mTypeError\u001b[0m                                 Traceback (most recent call last)",
      "\u001b[0;32m<ipython-input-67-17b98e0c184b>\u001b[0m in \u001b[0;36m<module>\u001b[0;34m\u001b[0m\n\u001b[0;32m----> 1\u001b[0;31m \u001b[0mre\u001b[0m\u001b[0;34m.\u001b[0m\u001b[0msplit\u001b[0m\u001b[0;34m(\u001b[0m\u001b[0;34m[\u001b[0m\u001b[0;34m'<center>'\u001b[0m\u001b[0;34m,\u001b[0m\u001b[0;34m'</center>'\u001b[0m\u001b[0;34m]\u001b[0m\u001b[0;34m,\u001b[0m \u001b[0mstr\u001b[0m\u001b[0;34m(\u001b[0m\u001b[0mpage_text\u001b[0m\u001b[0;34m)\u001b[0m\u001b[0;34m)\u001b[0m\u001b[0;34m\u001b[0m\u001b[0;34m\u001b[0m\u001b[0m\n\u001b[0m",
      "\u001b[0;32m/Library/Frameworks/Python.framework/Versions/3.8/lib/python3.8/re.py\u001b[0m in \u001b[0;36msplit\u001b[0;34m(pattern, string, maxsplit, flags)\u001b[0m\n\u001b[1;32m    229\u001b[0m     \u001b[0;32mand\u001b[0m \u001b[0mthe\u001b[0m \u001b[0mremainder\u001b[0m \u001b[0mof\u001b[0m \u001b[0mthe\u001b[0m \u001b[0mstring\u001b[0m \u001b[0;32mis\u001b[0m \u001b[0mreturned\u001b[0m \u001b[0;32mas\u001b[0m \u001b[0mthe\u001b[0m \u001b[0mfinal\u001b[0m \u001b[0melement\u001b[0m\u001b[0;34m\u001b[0m\u001b[0;34m\u001b[0m\u001b[0m\n\u001b[1;32m    230\u001b[0m     of the list.\"\"\"\n\u001b[0;32m--> 231\u001b[0;31m     \u001b[0;32mreturn\u001b[0m \u001b[0m_compile\u001b[0m\u001b[0;34m(\u001b[0m\u001b[0mpattern\u001b[0m\u001b[0;34m,\u001b[0m \u001b[0mflags\u001b[0m\u001b[0;34m)\u001b[0m\u001b[0;34m.\u001b[0m\u001b[0msplit\u001b[0m\u001b[0;34m(\u001b[0m\u001b[0mstring\u001b[0m\u001b[0;34m,\u001b[0m \u001b[0mmaxsplit\u001b[0m\u001b[0;34m)\u001b[0m\u001b[0;34m\u001b[0m\u001b[0;34m\u001b[0m\u001b[0m\n\u001b[0m\u001b[1;32m    232\u001b[0m \u001b[0;34m\u001b[0m\u001b[0m\n\u001b[1;32m    233\u001b[0m \u001b[0;32mdef\u001b[0m \u001b[0mfindall\u001b[0m\u001b[0;34m(\u001b[0m\u001b[0mpattern\u001b[0m\u001b[0;34m,\u001b[0m \u001b[0mstring\u001b[0m\u001b[0;34m,\u001b[0m \u001b[0mflags\u001b[0m\u001b[0;34m=\u001b[0m\u001b[0;36m0\u001b[0m\u001b[0;34m)\u001b[0m\u001b[0;34m:\u001b[0m\u001b[0;34m\u001b[0m\u001b[0;34m\u001b[0m\u001b[0m\n",
      "\u001b[0;32m/Library/Frameworks/Python.framework/Versions/3.8/lib/python3.8/re.py\u001b[0m in \u001b[0;36m_compile\u001b[0;34m(pattern, flags)\u001b[0m\n\u001b[1;32m    292\u001b[0m         \u001b[0mflags\u001b[0m \u001b[0;34m=\u001b[0m \u001b[0mflags\u001b[0m\u001b[0;34m.\u001b[0m\u001b[0mvalue\u001b[0m\u001b[0;34m\u001b[0m\u001b[0;34m\u001b[0m\u001b[0m\n\u001b[1;32m    293\u001b[0m     \u001b[0;32mtry\u001b[0m\u001b[0;34m:\u001b[0m\u001b[0;34m\u001b[0m\u001b[0;34m\u001b[0m\u001b[0m\n\u001b[0;32m--> 294\u001b[0;31m         \u001b[0;32mreturn\u001b[0m \u001b[0m_cache\u001b[0m\u001b[0;34m[\u001b[0m\u001b[0mtype\u001b[0m\u001b[0;34m(\u001b[0m\u001b[0mpattern\u001b[0m\u001b[0;34m)\u001b[0m\u001b[0;34m,\u001b[0m \u001b[0mpattern\u001b[0m\u001b[0;34m,\u001b[0m \u001b[0mflags\u001b[0m\u001b[0;34m]\u001b[0m\u001b[0;34m\u001b[0m\u001b[0;34m\u001b[0m\u001b[0m\n\u001b[0m\u001b[1;32m    295\u001b[0m     \u001b[0;32mexcept\u001b[0m \u001b[0mKeyError\u001b[0m\u001b[0;34m:\u001b[0m\u001b[0;34m\u001b[0m\u001b[0;34m\u001b[0m\u001b[0m\n\u001b[1;32m    296\u001b[0m         \u001b[0;32mpass\u001b[0m\u001b[0;34m\u001b[0m\u001b[0;34m\u001b[0m\u001b[0m\n",
      "\u001b[0;31mTypeError\u001b[0m: unhashable type: 'list'"
     ]
    }
   ],
   "source": []
  },
  {
   "cell_type": "code",
   "execution_count": null,
   "metadata": {},
   "outputs": [],
   "source": []
  }
 ],
 "metadata": {
  "kernelspec": {
   "display_name": "Python 3",
   "language": "python",
   "name": "python3"
  },
  "language_info": {
   "codemirror_mode": {
    "name": "ipython",
    "version": 3
   },
   "file_extension": ".py",
   "mimetype": "text/x-python",
   "name": "python",
   "nbconvert_exporter": "python",
   "pygments_lexer": "ipython3",
   "version": "3.8.3"
  }
 },
 "nbformat": 4,
 "nbformat_minor": 4
}
